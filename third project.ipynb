{
 "cells": [
  {
   "cell_type": "code",
   "execution_count": 1,
   "metadata": {},
   "outputs": [],
   "source": [
    "# import pandas as pd\n",
    "\n",
    "# df = pd.read_csv('F:/스파르타강의/프로젝트 데이터/와인가격예측/wine_infomation/wine_info.csv')\n",
    "# #df['local2'].value_counts()\n",
    "# df.info()"
   ]
  },
  {
   "cell_type": "markdown",
   "metadata": {},
   "source": [
    "# 전체 계획\n",
    "1. 데이터 로드 & 분리\n",
    "    * train / test 데이터 분리\n",
    "2. 탐색적 데이터 분석(EDA)\n",
    "    * 분포확인 & 이상치 확인\n",
    "3. 데이터 전처리\n",
    "    * 이상치 제거\n",
    "        - 범주형은 딱히 이상치라고 판단할 일이 없을 테니 수치형에 대해서만 생각해보면\n",
    "        - 그리고 만약 이상치 제거했으면 꼭 index 리셋해주기\n",
    "    * 데이터 비율 맞춰주기 위해 Oversampleing\n",
    "        - 단, SMOTE 알고리즘은 수치형 데이터에만 쓸 수 있으니\n",
    "        - SMOTE를 범주형 데이터에도 쓸 수 있게 확장한 SMOTENC를 사용\n",
    "    * 결측치 처리 (참고로 test 데이터 기준으로는 데이터 총 31647, 전체 데이터로는 45211)\n",
    "        - 수치형: contact(9100), poutcome(25917)\n",
    "        - 범주형: job(206), education(1314)\n",
    "        - 삭제 : -  \n",
    "        처리하기 애매하다는 느낌 일단 내버려두고 차차 더 생각\n",
    "    * 전처리\n",
    "        - 수치형: 'age','balance','day_of_week','duration','campaign','pdays','previous'\n",
    "        - 범주형: 'job','marital','education','default','housing','loan','contact','month','poutcome'\n",
    "            - 레이블 인코딩: \n",
    "            - 원- 핫 인코딩: \n",
    "    \n",
    "4. 모델 수립\n",
    "5. 평가"
   ]
  },
  {
   "cell_type": "markdown",
   "metadata": {},
   "source": [
    "# 데이터 불러오기, X, y 나누기"
   ]
  },
  {
   "cell_type": "code",
   "execution_count": 2,
   "metadata": {},
   "outputs": [],
   "source": [
    "#기본 모듈 불러오기 \n",
    "import pandas as pd\n",
    "import numpy as np\n",
    "import matplotlib.pyplot as plt\n",
    "import seaborn as sns\n",
    "from sklearn.model_selection import train_test_split\n",
    "from sklearn.preprocessing import StandardScaler, MinMaxScaler\n",
    "from sklearn.metrics import accuracy_score, f1_score\n",
    "\n",
    "# 아래에서 따로 이용하는 모듈\n",
    "from matplotlib.ticker import MultipleLocator\n",
    "import math\n",
    "from imblearn.over_sampling import SMOTENC\n",
    "\n",
    "# # warning을 모두 무시하는 것은 좋지 않으나 과제 수행을 쉽게할 수 있도록 무시설정\n",
    "# import warnings\n",
    "# warnings.filterwarnings(action='ignore')\n",
    "\n",
    "# 그래프 한글 깨지는 것 방지\n",
    "plt.rcParams['font.family'] ='Malgun Gothic'\n",
    "plt.rcParams['axes.unicode_minus'] =False"
   ]
  },
  {
   "cell_type": "code",
   "execution_count": 3,
   "metadata": {},
   "outputs": [
    {
     "data": {
      "text/html": [
       "<div>\n",
       "<style scoped>\n",
       "    .dataframe tbody tr th:only-of-type {\n",
       "        vertical-align: middle;\n",
       "    }\n",
       "\n",
       "    .dataframe tbody tr th {\n",
       "        vertical-align: top;\n",
       "    }\n",
       "\n",
       "    .dataframe thead th {\n",
       "        text-align: right;\n",
       "    }\n",
       "</style>\n",
       "<table border=\"1\" class=\"dataframe\">\n",
       "  <thead>\n",
       "    <tr style=\"text-align: right;\">\n",
       "      <th></th>\n",
       "      <th>대출금액</th>\n",
       "      <th>대출기간</th>\n",
       "      <th>근로기간</th>\n",
       "      <th>주택소유상태</th>\n",
       "      <th>연간소득</th>\n",
       "      <th>부채_대비_소득_비율</th>\n",
       "      <th>총계좌수</th>\n",
       "      <th>대출목적</th>\n",
       "      <th>최근_2년간_연체_횟수</th>\n",
       "      <th>총상환원금</th>\n",
       "      <th>총상환이자</th>\n",
       "      <th>총연체금액</th>\n",
       "      <th>연체계좌수</th>\n",
       "      <th>대출등급</th>\n",
       "    </tr>\n",
       "    <tr>\n",
       "      <th>ID</th>\n",
       "      <th></th>\n",
       "      <th></th>\n",
       "      <th></th>\n",
       "      <th></th>\n",
       "      <th></th>\n",
       "      <th></th>\n",
       "      <th></th>\n",
       "      <th></th>\n",
       "      <th></th>\n",
       "      <th></th>\n",
       "      <th></th>\n",
       "      <th></th>\n",
       "      <th></th>\n",
       "      <th></th>\n",
       "    </tr>\n",
       "  </thead>\n",
       "  <tbody>\n",
       "    <tr>\n",
       "      <th>TRAIN_00000</th>\n",
       "      <td>12480000</td>\n",
       "      <td>36 months</td>\n",
       "      <td>6 years</td>\n",
       "      <td>RENT</td>\n",
       "      <td>72000000</td>\n",
       "      <td>18.90</td>\n",
       "      <td>15</td>\n",
       "      <td>부채 통합</td>\n",
       "      <td>0</td>\n",
       "      <td>0</td>\n",
       "      <td>0.0</td>\n",
       "      <td>0.0</td>\n",
       "      <td>0.0</td>\n",
       "      <td>C</td>\n",
       "    </tr>\n",
       "    <tr>\n",
       "      <th>TRAIN_00001</th>\n",
       "      <td>14400000</td>\n",
       "      <td>60 months</td>\n",
       "      <td>10+ years</td>\n",
       "      <td>MORTGAGE</td>\n",
       "      <td>130800000</td>\n",
       "      <td>22.33</td>\n",
       "      <td>21</td>\n",
       "      <td>주택 개선</td>\n",
       "      <td>0</td>\n",
       "      <td>373572</td>\n",
       "      <td>234060.0</td>\n",
       "      <td>0.0</td>\n",
       "      <td>0.0</td>\n",
       "      <td>B</td>\n",
       "    </tr>\n",
       "    <tr>\n",
       "      <th>TRAIN_00002</th>\n",
       "      <td>12000000</td>\n",
       "      <td>36 months</td>\n",
       "      <td>5 years</td>\n",
       "      <td>MORTGAGE</td>\n",
       "      <td>96000000</td>\n",
       "      <td>8.60</td>\n",
       "      <td>14</td>\n",
       "      <td>부채 통합</td>\n",
       "      <td>0</td>\n",
       "      <td>928644</td>\n",
       "      <td>151944.0</td>\n",
       "      <td>0.0</td>\n",
       "      <td>0.0</td>\n",
       "      <td>A</td>\n",
       "    </tr>\n",
       "  </tbody>\n",
       "</table>\n",
       "</div>"
      ],
      "text/plain": [
       "                 대출금액        대출기간       근로기간    주택소유상태       연간소득  \\\n",
       "ID                                                                  \n",
       "TRAIN_00000  12480000   36 months    6 years      RENT   72000000   \n",
       "TRAIN_00001  14400000   60 months  10+ years  MORTGAGE  130800000   \n",
       "TRAIN_00002  12000000   36 months    5 years  MORTGAGE   96000000   \n",
       "\n",
       "             부채_대비_소득_비율  총계좌수   대출목적  최근_2년간_연체_횟수   총상환원금     총상환이자  총연체금액  \\\n",
       "ID                                                                             \n",
       "TRAIN_00000        18.90    15  부채 통합             0       0       0.0    0.0   \n",
       "TRAIN_00001        22.33    21  주택 개선             0  373572  234060.0    0.0   \n",
       "TRAIN_00002         8.60    14  부채 통합             0  928644  151944.0    0.0   \n",
       "\n",
       "             연체계좌수 대출등급  \n",
       "ID                       \n",
       "TRAIN_00000    0.0    C  \n",
       "TRAIN_00001    0.0    B  \n",
       "TRAIN_00002    0.0    A  "
      ]
     },
     "execution_count": 3,
     "metadata": {},
     "output_type": "execute_result"
    }
   ],
   "source": [
    "train_df = pd.read_csv('./train.csv', index_col=0) # 첫번째 열인 ID를 index로 사용\n",
    "# X, y 분리\n",
    "X_train = train_df.drop(columns=['대출등급'])\n",
    "y_train = train_df[['대출등급']]\n",
    "numeric_col = ['대출금액', '연간소득', '부채_대비_소득_비율', '총계좌수', '최근_2년간_연체_횟수', '총상환원금', '총상환이자', '총연체금액', '연체계좌수']\n",
    "category_col = ['대출기간', '근로기간', '주택소유상태', '대출목적']\n",
    "train_df.head(3)"
   ]
  },
  {
   "cell_type": "markdown",
   "metadata": {},
   "source": [
    "# EDA"
   ]
  },
  {
   "cell_type": "markdown",
   "metadata": {},
   "source": [
    "## y값 비율 확인해보기\n",
    "- 비율 상으로 비슷하게 존재하지 않아서 낮은 E?,F,G 정도 oversampleing해야할 수도 있는데 일단 그냥 안하고 해봄"
   ]
  },
  {
   "cell_type": "code",
   "execution_count": 4,
   "metadata": {},
   "outputs": [
    {
     "data": {
      "image/png": "[encoded data removed]",
      "text/plain": [
       "<Figure size 640x480 with 1 Axes>"
      ]
     },
     "metadata": {},
     "output_type": "display_data"
    }
   ],
   "source": [
    "y_train_counts = y_train.value_counts()\n",
    "plt.pie(y_train_counts, labels=y_train_counts.index, autopct='%1.1f%%', startangle=140)\n",
    "plt.axis('equal')  # 원형을 유지하도록 하는 옵션\n",
    "plt.show()"
   ]
  },
  {
   "cell_type": "markdown",
   "metadata": {},
   "source": [
    "## 결측치 확인\n",
    "- 근로기간에 'Unknown' 이라고 결측치가 5671개 존재"
   ]
  },
  {
   "cell_type": "code",
   "execution_count": 5,
   "metadata": {},
   "outputs": [
    {
     "name": "stdout",
     "output_type": "stream",
     "text": [
      "<class 'pandas.core.frame.DataFrame'>\n",
      "Index: 96294 entries, TRAIN_00000 to TRAIN_96293\n",
      "Data columns (total 14 columns):\n",
      " #   Column        Non-Null Count  Dtype  \n",
      "---  ------        --------------  -----  \n",
      " 0   대출금액          96294 non-null  int64  \n",
      " 1   대출기간          96294 non-null  object \n",
      " 2   근로기간          96294 non-null  object \n",
      " 3   주택소유상태        96294 non-null  object \n",
      " 4   연간소득          96294 non-null  int64  \n",
      " 5   부채_대비_소득_비율   96294 non-null  float64\n",
      " 6   총계좌수          96294 non-null  int64  \n",
      " 7   대출목적          96294 non-null  object \n",
      " 8   최근_2년간_연체_횟수  96294 non-null  int64  \n",
      " 9   총상환원금         96294 non-null  int64  \n",
      " 10  총상환이자         96294 non-null  float64\n",
      " 11  총연체금액         96294 non-null  float64\n",
      " 12  연체계좌수         96294 non-null  float64\n",
      " 13  대출등급          96294 non-null  object \n",
      "dtypes: float64(4), int64(5), object(5)\n",
      "memory usage: 11.0+ MB\n"
     ]
    }
   ],
   "source": [
    "train_df.info()"
   ]
  },
  {
   "cell_type": "code",
   "execution_count": 6,
   "metadata": {},
   "outputs": [
    {
     "data": {
      "text/plain": [
       "대출금액            0\n",
       "대출기간            0\n",
       "근로기간            0\n",
       "주택소유상태          0\n",
       "연간소득            0\n",
       "부채_대비_소득_비율     0\n",
       "총계좌수            0\n",
       "대출목적            0\n",
       "최근_2년간_연체_횟수    0\n",
       "총상환원금           0\n",
       "총상환이자           0\n",
       "총연체금액           0\n",
       "연체계좌수           0\n",
       "대출등급            0\n",
       "dtype: int64"
      ]
     },
     "execution_count": 6,
     "metadata": {},
     "output_type": "execute_result"
    }
   ],
   "source": [
    "train_df.isna().sum()"
   ]
  },
  {
   "cell_type": "code",
   "execution_count": 7,
   "metadata": {},
   "outputs": [
    {
     "name": "stdout",
     "output_type": "stream",
     "text": [
      "대출금액: 0\n",
      "대출기간: 0\n",
      "근로기간: 5671\n",
      "주택소유상태: 0\n",
      "연간소득: 0\n",
      "부채_대비_소득_비율: 0\n",
      "총계좌수: 0\n",
      "대출목적: 0\n",
      "최근_2년간_연체_횟수: 0\n",
      "총상환원금: 0\n",
      "총상환이자: 0\n",
      "총연체금액: 0\n",
      "연체계좌수: 0\n"
     ]
    }
   ],
   "source": [
    "for column in X_train.columns:  # 근로기간에 Unkown으로 결측치 있음\n",
    "    unknown_count = (X_train[column] == 'Unknown').sum()\n",
    "    print(f\"{column}: {unknown_count}\")"
   ]
  },
  {
   "cell_type": "markdown",
   "metadata": {},
   "source": [
    "## 기술통계를 통한 EDA"
   ]
  },
  {
   "cell_type": "code",
   "execution_count": 8,
   "metadata": {},
   "outputs": [
    {
     "data": {
      "text/html": [
       "<div>\n",
       "<style scoped>\n",
       "    .dataframe tbody tr th:only-of-type {\n",
       "        vertical-align: middle;\n",
       "    }\n",
       "\n",
       "    .dataframe tbody tr th {\n",
       "        vertical-align: top;\n",
       "    }\n",
       "\n",
       "    .dataframe thead th {\n",
       "        text-align: right;\n",
       "    }\n",
       "</style>\n",
       "<table border=\"1\" class=\"dataframe\">\n",
       "  <thead>\n",
       "    <tr style=\"text-align: right;\">\n",
       "      <th></th>\n",
       "      <th>대출금액</th>\n",
       "      <th>연간소득</th>\n",
       "      <th>부채_대비_소득_비율</th>\n",
       "      <th>총계좌수</th>\n",
       "      <th>최근_2년간_연체_횟수</th>\n",
       "      <th>총상환원금</th>\n",
       "      <th>총상환이자</th>\n",
       "      <th>총연체금액</th>\n",
       "      <th>연체계좌수</th>\n",
       "    </tr>\n",
       "  </thead>\n",
       "  <tbody>\n",
       "    <tr>\n",
       "      <th>count</th>\n",
       "      <td>9.629400e+04</td>\n",
       "      <td>9.629400e+04</td>\n",
       "      <td>96294.000000</td>\n",
       "      <td>96294.000000</td>\n",
       "      <td>96294.000000</td>\n",
       "      <td>9.629400e+04</td>\n",
       "      <td>9.629400e+04</td>\n",
       "      <td>96294.000000</td>\n",
       "      <td>96294.000000</td>\n",
       "    </tr>\n",
       "    <tr>\n",
       "      <th>mean</th>\n",
       "      <td>1.830400e+07</td>\n",
       "      <td>9.392672e+07</td>\n",
       "      <td>19.379590</td>\n",
       "      <td>25.304827</td>\n",
       "      <td>0.345681</td>\n",
       "      <td>8.225035e+05</td>\n",
       "      <td>4.282282e+05</td>\n",
       "      <td>54.380584</td>\n",
       "      <td>0.005805</td>\n",
       "    </tr>\n",
       "    <tr>\n",
       "      <th>std</th>\n",
       "      <td>1.032908e+07</td>\n",
       "      <td>9.956871e+07</td>\n",
       "      <td>33.569559</td>\n",
       "      <td>12.088566</td>\n",
       "      <td>0.919119</td>\n",
       "      <td>1.027745e+06</td>\n",
       "      <td>4.402111e+05</td>\n",
       "      <td>1414.769218</td>\n",
       "      <td>0.079966</td>\n",
       "    </tr>\n",
       "    <tr>\n",
       "      <th>min</th>\n",
       "      <td>1.200000e+06</td>\n",
       "      <td>0.000000e+00</td>\n",
       "      <td>0.000000</td>\n",
       "      <td>4.000000</td>\n",
       "      <td>0.000000</td>\n",
       "      <td>0.000000e+00</td>\n",
       "      <td>0.000000e+00</td>\n",
       "      <td>0.000000</td>\n",
       "      <td>0.000000</td>\n",
       "    </tr>\n",
       "    <tr>\n",
       "      <th>25%</th>\n",
       "      <td>1.020000e+07</td>\n",
       "      <td>5.760000e+07</td>\n",
       "      <td>12.650000</td>\n",
       "      <td>17.000000</td>\n",
       "      <td>0.000000</td>\n",
       "      <td>3.075720e+05</td>\n",
       "      <td>1.346160e+05</td>\n",
       "      <td>0.000000</td>\n",
       "      <td>0.000000</td>\n",
       "    </tr>\n",
       "    <tr>\n",
       "      <th>50%</th>\n",
       "      <td>1.680000e+07</td>\n",
       "      <td>7.800000e+07</td>\n",
       "      <td>18.740000</td>\n",
       "      <td>24.000000</td>\n",
       "      <td>0.000000</td>\n",
       "      <td>5.976960e+05</td>\n",
       "      <td>2.870040e+05</td>\n",
       "      <td>0.000000</td>\n",
       "      <td>0.000000</td>\n",
       "    </tr>\n",
       "    <tr>\n",
       "      <th>75%</th>\n",
       "      <td>2.400000e+07</td>\n",
       "      <td>1.128000e+08</td>\n",
       "      <td>25.540000</td>\n",
       "      <td>32.000000</td>\n",
       "      <td>0.000000</td>\n",
       "      <td>1.055076e+06</td>\n",
       "      <td>5.702160e+05</td>\n",
       "      <td>0.000000</td>\n",
       "      <td>0.000000</td>\n",
       "    </tr>\n",
       "    <tr>\n",
       "      <th>max</th>\n",
       "      <td>4.200000e+07</td>\n",
       "      <td>1.080000e+10</td>\n",
       "      <td>9999.000000</td>\n",
       "      <td>169.000000</td>\n",
       "      <td>30.000000</td>\n",
       "      <td>4.195594e+07</td>\n",
       "      <td>5.653416e+06</td>\n",
       "      <td>75768.000000</td>\n",
       "      <td>4.000000</td>\n",
       "    </tr>\n",
       "  </tbody>\n",
       "</table>\n",
       "</div>"
      ],
      "text/plain": [
       "               대출금액          연간소득   부채_대비_소득_비율          총계좌수  최근_2년간_연체_횟수  \\\n",
       "count  9.629400e+04  9.629400e+04  96294.000000  96294.000000  96294.000000   \n",
       "mean   1.830400e+07  9.392672e+07     19.379590     25.304827      0.345681   \n",
       "std    1.032908e+07  9.956871e+07     33.569559     12.088566      0.919119   \n",
       "min    1.200000e+06  0.000000e+00      0.000000      4.000000      0.000000   \n",
       "25%    1.020000e+07  5.760000e+07     12.650000     17.000000      0.000000   \n",
       "50%    1.680000e+07  7.800000e+07     18.740000     24.000000      0.000000   \n",
       "75%    2.400000e+07  1.128000e+08     25.540000     32.000000      0.000000   \n",
       "max    4.200000e+07  1.080000e+10   9999.000000    169.000000     30.000000   \n",
       "\n",
       "              총상환원금         총상환이자         총연체금액         연체계좌수  \n",
       "count  9.629400e+04  9.629400e+04  96294.000000  96294.000000  \n",
       "mean   8.225035e+05  4.282282e+05     54.380584      0.005805  \n",
       "std    1.027745e+06  4.402111e+05   1414.769218      0.079966  \n",
       "min    0.000000e+00  0.000000e+00      0.000000      0.000000  \n",
       "25%    3.075720e+05  1.346160e+05      0.000000      0.000000  \n",
       "50%    5.976960e+05  2.870040e+05      0.000000      0.000000  \n",
       "75%    1.055076e+06  5.702160e+05      0.000000      0.000000  \n",
       "max    4.195594e+07  5.653416e+06  75768.000000      4.000000  "
      ]
     },
     "execution_count": 8,
     "metadata": {},
     "output_type": "execute_result"
    }
   ],
   "source": [
    "train_df.describe()"
   ]
  },
  {
   "cell_type": "code",
   "execution_count": 9,
   "metadata": {},
   "outputs": [
    {
     "data": {
      "text/html": [
       "<div>\n",
       "<style scoped>\n",
       "    .dataframe tbody tr th:only-of-type {\n",
       "        vertical-align: middle;\n",
       "    }\n",
       "\n",
       "    .dataframe tbody tr th {\n",
       "        vertical-align: top;\n",
       "    }\n",
       "\n",
       "    .dataframe thead th {\n",
       "        text-align: right;\n",
       "    }\n",
       "</style>\n",
       "<table border=\"1\" class=\"dataframe\">\n",
       "  <thead>\n",
       "    <tr style=\"text-align: right;\">\n",
       "      <th></th>\n",
       "      <th>대출기간</th>\n",
       "      <th>근로기간</th>\n",
       "      <th>주택소유상태</th>\n",
       "      <th>대출목적</th>\n",
       "      <th>대출등급</th>\n",
       "    </tr>\n",
       "  </thead>\n",
       "  <tbody>\n",
       "    <tr>\n",
       "      <th>count</th>\n",
       "      <td>96294</td>\n",
       "      <td>96294</td>\n",
       "      <td>96294</td>\n",
       "      <td>96294</td>\n",
       "      <td>96294</td>\n",
       "    </tr>\n",
       "    <tr>\n",
       "      <th>unique</th>\n",
       "      <td>2</td>\n",
       "      <td>16</td>\n",
       "      <td>4</td>\n",
       "      <td>12</td>\n",
       "      <td>7</td>\n",
       "    </tr>\n",
       "    <tr>\n",
       "      <th>top</th>\n",
       "      <td>36 months</td>\n",
       "      <td>10+ years</td>\n",
       "      <td>MORTGAGE</td>\n",
       "      <td>부채 통합</td>\n",
       "      <td>B</td>\n",
       "    </tr>\n",
       "    <tr>\n",
       "      <th>freq</th>\n",
       "      <td>64479</td>\n",
       "      <td>31585</td>\n",
       "      <td>47934</td>\n",
       "      <td>55150</td>\n",
       "      <td>28817</td>\n",
       "    </tr>\n",
       "  </tbody>\n",
       "</table>\n",
       "</div>"
      ],
      "text/plain": [
       "              대출기간       근로기간    주택소유상태   대출목적   대출등급\n",
       "count        96294      96294     96294  96294  96294\n",
       "unique           2         16         4     12      7\n",
       "top      36 months  10+ years  MORTGAGE  부채 통합      B\n",
       "freq         64479      31585     47934  55150  28817"
      ]
     },
     "execution_count": 9,
     "metadata": {},
     "output_type": "execute_result"
    }
   ],
   "source": [
    "train_df.describe(include='O')"
   ]
  },
  {
   "cell_type": "markdown",
   "metadata": {},
   "source": [
    "## 시각화를 통한 EDA"
   ]
  },
  {
   "cell_type": "markdown",
   "metadata": {},
   "source": [
    "### 수치형 데이터 시각화"
   ]
  },
  {
   "cell_type": "code",
   "execution_count": 10,
   "metadata": {},
   "outputs": [
    {
     "name": "stdout",
     "output_type": "stream",
     "text": [
      "대출금액  :  1340\n",
      "연간소득  :  7726\n",
      "부채_대비_소득_비율  :  4025\n",
      "총계좌수  :  109\n",
      "최근_2년간_연체_횟수  :  20\n",
      "총상환원금  :  27797\n",
      "총상환이자  :  35626\n",
      "총연체금액  :  109\n",
      "연체계좌수  :  4\n"
     ]
    }
   ],
   "source": [
    "for check_col in ['대출금액', '연간소득', '부채_대비_소득_비율', '총계좌수', '최근_2년간_연체_횟수', '총상환원금', '총상환이자', '총연체금액', '연체계좌수']:\n",
    "    # print(check_col, \" : \", len(set(X_train[check_col]))) # 중복없이 값종류 갯수\n",
    "    print(check_col, \" : \", len(X_train[check_col].unique())) # 중복없이 값종류 갯수"
   ]
  },
  {
   "cell_type": "code",
   "execution_count": 11,
   "metadata": {},
   "outputs": [
    {
     "name": "stdout",
     "output_type": "stream",
     "text": [
      "대출금액  bin :  68\n",
      "연간소득  bin :  100\n",
      "부채_대비_소득_비율  bin :  100\n",
      "총계좌수  bin :  253\n",
      "최근_2년간_연체_횟수  bin :  20\n",
      "총상환원금  bin :  100\n",
      "총상환이자  bin :  100\n"
     ]
    },
    {
     "name": "stderr",
     "output_type": "stream",
     "text": [
      "C:\\Users\\kssg1\\AppData\\Local\\Temp\\ipykernel_32084\\1436924818.py:30: RuntimeWarning: divide by zero encountered in scalar divide\n",
      "  num_bin = entire_range / bin_width\n"
     ]
    },
    {
     "name": "stdout",
     "output_type": "stream",
     "text": [
      "총연체금액  bin :  18\n",
      "연체계좌수  bin :  4\n"
     ]
    },
    {
     "data": {
      "image/png": "[encoded data removed]",
      "text/plain": [
       "<Figure size 1500x1500 with 9 Axes>"
      ]
     },
     "metadata": {},
     "output_type": "display_data"
    }
   ],
   "source": [
    "#수치형 변수 시각화\n",
    "def get_3_hist_num(data:pd.DataFrame, columns:list, whether_log_scale: bool = True, \n",
    "                                        log_scale_threshold: float = 5000, bin_control: bool =True, num_bin_max: int = 300, num_bin_set: int = 80):\n",
    "    \"\"\" 데이터와 컬럼을 전달하면 히스토그램을 3개씩 출력해주는 함수\n",
    "\n",
    "    Args:\n",
    "        data (pd.DataFrame): 데이터프레임\n",
    "        columns (list): 컬럼 리스트\n",
    "        bar_width_ratio(float): 원하는 비율로 설정 (예시로 0.005 사용)\n",
    "    \"\"\"\n",
    "    num_plots = len(columns)\n",
    "    num_rows = (num_plots + 2) // 3  # 서브플롯의 행 수 계산\n",
    "    num_cols = min(num_plots, 3)  # 서브플롯의 열 수 계산\n",
    "    \n",
    "    fig, axes = plt.subplots(num_rows, num_cols, figsize=(15, 5 * num_rows))\n",
    "    \n",
    "    for i, col in enumerate(columns):\n",
    "        row_idx, col_idx = divmod(i, 3)\n",
    "        axes[row_idx, col_idx].clear()\n",
    "        n_bins = 'auto'\n",
    "        \n",
    "        if bin_control == True :\n",
    "            # Freedman-Diaconis' Choice방식으로 bin 갯수 얼추 계산해본 뒤 판단\n",
    "            entire_range = X_train[col].max() - X_train[col].min() # 데이터 값 최대와 최소 차이\n",
    "            q1 = np.percentile(X_train[col], 25)\n",
    "            q3 = np.percentile(X_train[col], 75)\n",
    "            IQR = q3 - q1\n",
    "            N = X_train[col].count()\n",
    "            bin_width = 2 * (IQR / N**(1/3))\n",
    "            num_bin = entire_range / bin_width\n",
    "            # print(col, \"의 bin : \", num_bin) # 점검용\n",
    "            if len(set(data[col])) <= 20:\n",
    "                n_bins = len(set(data[col]))\n",
    "            elif (not math.isinf(num_bin)) and num_bin > num_bin_max:\n",
    "                n_bins = num_bin_set\n",
    "            else:\n",
    "                n_bins = 'auto' # 지워도 괜찮을듯\n",
    "        \n",
    "        # # Wand 규칙을 사용하여 동적으로 bin의 개수 설정\n",
    "        # if bar_width_ratio < bar_width_ratio_min:  # 전체 스케일에 대한 막대 두께의 비율이 너무 작으면\n",
    "        #     n_bins = int(np.sqrt(len(set(data[col])))*1.0) \n",
    "        #     # 조금더 줄이면 깔끔히 잘보이지 않을까해서 0.8곱했다가 별차이없는듯해서 1.0으로 원 위치(원래 곱해진 것 따로 없었음)\n",
    "        # else:\n",
    "        #     n_bins = 'auto'\n",
    "            \n",
    "        hist, bins, _ = axes[row_idx, col_idx].hist(data[col], bins=n_bins, color='blue', edgecolor='blue', linewidth=0.2, alpha=0.7)\n",
    "        num_bin_actual = len(bins) - 1  # 실제로 그려진 막대의 갯수\n",
    "        #sns.histplot(data[col], ax=axes[row_idx, col_idx], bins=n_bins, color='blue', edgecolor='blue', linewidth=0.2, alpha=0.7, kde=False)\n",
    "        \n",
    "        axes[row_idx, col_idx].set_title(col)\n",
    "        axes[row_idx, col_idx].tick_params(axis='both', which='both', direction='out', length=6, width=0.5)  # 눈금 표시\n",
    "        \n",
    "        bar_heights = [rect.get_height() for rect in axes[row_idx, col_idx].patches]\n",
    "        max_height = max(bar_heights)\n",
    "        min_height = max(min(bar_heights),1)\n",
    "        \n",
    "        # print(col, \" 높이차는 이러함 : \", max_height / min_height, max_height, min_height) # 점검용\n",
    "        print(col, \" bin : \", num_bin_actual) # 점검용\n",
    "        \n",
    "        # 히스토그램 바의 높이 차이에 따라 리니어 스케일 또는 로그 스케일 선택\n",
    "        if whether_log_scale == True and (max_height / min_height) > log_scale_threshold:\n",
    "            axes[row_idx, col_idx].set_yscale('log')  # 로그 스케일로 변환\n",
    "        else:\n",
    "            axes[row_idx, col_idx].set_yscale('linear')  # 리니어 스케일로 유지\n",
    "        \n",
    "        # 전체 그래프 스케일에 대한 막대 자체의 두께 비율 계산\n",
    "        total_width = axes[row_idx, col_idx].get_xlim()[1] - axes[row_idx, col_idx].get_xlim()[0]\n",
    "        \n",
    "        \n",
    "        \n",
    "        # 히스토그램 바의 두께가 조건에 따라 테두리 색 설정\n",
    "        for rect in axes[row_idx, col_idx].patches:\n",
    "            bar_width = rect.get_width()\n",
    "            if bar_width / total_width > 0.005: # 그냥 저쯤보다 얇은 경우 테두리 없는게 나은듯해서 설정해줌\n",
    "                rect.set_edgecolor('black')\n",
    "            else:\n",
    "                rect.set_edgecolor('none')  # 얇은 경우에는 테두리 없애기\n",
    "        \n",
    "        # # Seaborn axis 객체로부터 눈금 위치 확인\n",
    "        # tick_locs = sns.histplot(data[col]).axes.get_xticks()\n",
    "        # print(f\"{col}의 현재 x 축 눈금 위치: {tick_locs}\")\n",
    "\n",
    "    # 남은 서브플롯에 빈 그래프 그리기\n",
    "    for i in range(num_plots, num_rows * num_cols):\n",
    "        row_idx, col_idx = divmod(i, 3)\n",
    "        axes[row_idx, col_idx].clear()  # 남은 서브플롯 비우기\n",
    "        axes[row_idx, col_idx].axis('off')  # 빈 서브플롯 제거\n",
    "        \n",
    "    \n",
    "\n",
    "    # 전체 그림 표시\n",
    "    plt.tight_layout()\n",
    "    plt.show()\n",
    "get_3_hist_num(X_train, numeric_col, log_scale_threshold=8000, num_bin_max=270, num_bin_set=100)"
   ]
  },
  {
   "cell_type": "code",
   "execution_count": 12,
   "metadata": {},
   "outputs": [
    {
     "data": {
      "text/plain": [
       "<Axes: xlabel='총상환이자', ylabel='Count'>"
      ]
     },
     "execution_count": 12,
     "metadata": {},
     "output_type": "execute_result"
    },
    {
     "data": {
      "image/png": "[encoded data removed]",
      "text/plain": [
       "<Figure size 640x480 with 1 Axes>"
      ]
     },
     "metadata": {},
     "output_type": "display_data"
    }
   ],
   "source": [
    "sns.histplot(X_train, x='총상환이자', bins=200)"
   ]
  },
  {
   "cell_type": "code",
   "execution_count": 13,
   "metadata": {},
   "outputs": [
    {
     "data": {
      "text/plain": [
       "총상환이자\n",
       "0.0          5444\n",
       "156144.0       77\n",
       "99312.0        73\n",
       "85596.0        71\n",
       "147276.0       70\n",
       "             ... \n",
       "917364.0        1\n",
       "774948.0        1\n",
       "1131756.0       1\n",
       "567804.0        1\n",
       "818076.0        1\n",
       "Name: count, Length: 35626, dtype: int64"
      ]
     },
     "execution_count": 13,
     "metadata": {},
     "output_type": "execute_result"
    }
   ],
   "source": [
    "X_train['총상환이자'].value_counts()"
   ]
  },
  {
   "cell_type": "code",
   "execution_count": 14,
   "metadata": {},
   "outputs": [
    {
     "data": {
      "text/plain": [
       "부채_대비_소득_비율\n",
       "9999.0    1\n",
       "Name: count, dtype: int64"
      ]
     },
     "execution_count": 14,
     "metadata": {},
     "output_type": "execute_result"
    }
   ],
   "source": [
    "X_train[X_train['부채_대비_소득_비율']>2000]['부채_대비_소득_비율'].value_counts() # -> 이상치로 판단"
   ]
  },
  {
   "cell_type": "code",
   "execution_count": 15,
   "metadata": {},
   "outputs": [
    {
     "name": "stdout",
     "output_type": "stream",
     "text": [
      "최근_2년간_연체_횟수\n",
      "0    76392\n",
      "Name: count, dtype: int64\n",
      "최근_2년간_연체_횟수\n",
      "1     13079\n",
      "2      3896\n",
      "3      1430\n",
      "4       697\n",
      "5       338\n",
      "6       178\n",
      "7        86\n",
      "8        67\n",
      "9        40\n",
      "10       35\n",
      "11       21\n",
      "12        9\n",
      "14        8\n",
      "13        8\n",
      "16        4\n",
      "18        2\n",
      "15        2\n",
      "17        1\n",
      "30        1\n",
      "Name: count, dtype: int64\n"
     ]
    }
   ],
   "source": [
    "print(X_train[X_train['최근_2년간_연체_횟수']==0]['최근_2년간_연체_횟수'].value_counts())\n",
    "print(X_train[X_train['최근_2년간_연체_횟수']>0]['최근_2년간_연체_횟수'].value_counts())"
   ]
  },
  {
   "cell_type": "code",
   "execution_count": 16,
   "metadata": {},
   "outputs": [
    {
     "data": {
      "text/plain": [
       "96113"
      ]
     },
     "execution_count": 16,
     "metadata": {},
     "output_type": "execute_result"
    }
   ],
   "source": [
    "X_train[X_train['총연체금액']<1]['총연체금액'].count()"
   ]
  },
  {
   "cell_type": "markdown",
   "metadata": {},
   "source": [
    "#### 판단\n",
    "- '연간소득': 로그스케일 고려할 필요 없을듯 최소랑 최대랑 그리 막 차이 나진 않아서\n",
    "- '부채_대비_소득_비율': 9999.0으로 이상치 하나 있는 것으로 판단됨\n",
    "- '최근_2년간_연체_횟수': <u>__0인 것과 아닌 것 구분해서 범주 컬럼으로 하나 추가해주기__</u>, log스케일은 할 필요 없을듯, 17이후 30이라 30을 이상치로 볼지는 염두만\n",
    "- '총상환원금': 로그스케일 고려할 필요 없을듯 최소랑 최대랑 그리 막 차이 나진 않아서\n",
    "- '총상환이자': <u>__0인 것과 아닌 것 구분해서 범주 컬럼으로 하나 추가해주기__</u>, 로그스케일 고려할 필요 없을듯 최소랑 최대랑 그리 막 차이 나진 않아서\n",
    "- '총연체금액': <u>__0인 것과 아닌 것 구분해서 범주 컬럼으로 하나 추가해주기__</u>, 로그스케일 고려\n",
    "- '연체계좌수': <u>__0인 것과 아닌 것 구분해서 범주 컬럼으로 하나 추가해주기__</u>\n"
   ]
  },
  {
   "cell_type": "markdown",
   "metadata": {},
   "source": [
    "### 범주형 데이터 시각화"
   ]
  },
  {
   "cell_type": "code",
   "execution_count": 17,
   "metadata": {},
   "outputs": [],
   "source": [
    "# # 범주형 변수 시각화(countplot) # 개선 필요\n",
    "# def get_3_countplot_category(data:pd.DataFrame, columns:list, log_scale_threshold: float = 5000):\n",
    "#     \"\"\" 데이터와 컬럼을 전달하면 히스토그램을 3개씩 출력해주는 함수\n",
    "\n",
    "#     Args:\n",
    "#         data (pd.DataFrame): 데이터프레임\n",
    "#         columns (list): 컬럼 리스트\n",
    "#         bar_width_ratio(float): 원하는 비율로 설정 (예시로 0.005 사용)\n",
    "#     \"\"\"\n",
    "#     num_plots = len(columns)\n",
    "#     num_rows = (num_plots + 2) // 3  # 서브플롯의 행 수 계산\n",
    "#     num_cols = min(num_plots, 3)  # 서브플롯의 열 수 계산\n",
    "    \n",
    "#     fig, axes = plt.subplots(num_rows, num_cols, figsize=(15, 5 * num_rows))\n",
    "    \n",
    "#     for i, col in enumerate(columns):\n",
    "#         if num_rows == 1:\n",
    "#             col_idx = i  # 수정된 부분\n",
    "#             axes[col_idx].clear()\n",
    "#             n_bins = 'auto'\n",
    "#             sns.countplot(data=data, x=col, ax=axes[col_idx])  # 수정된 부분\n",
    "#             max_length = max(data[col].astype(str).apply(len))  # 열의 최대 길이 계산\n",
    "#             if max_length > 10:\n",
    "#                 for tick in axes[col_idx][0].get_xticklabels():\n",
    "#                     tick.set_rotation(45)  # 값이 10글자 이상인 경우 rotation=45 적용\n",
    "#         else:\n",
    "#             row_idx, col_idx = divmod(i, 3)\n",
    "#             axes[row_idx, col_idx].clear()\n",
    "#             n_bins = 'auto'\n",
    "#             sns.countplot(data=data, x=col, ax=axes[row_idx, col_idx])\n",
    "#             max_length = max(data[col].astype(str).apply(len))  # 열의 최대 길이 계산\n",
    "#             if max_length > 10:\n",
    "#                 for tick in axes[col_idx][0].get_xticklabels():\n",
    "#                     tick.set_rotation(45)  # 값이 10글자 이상인 경우 rotation=45 적용\n",
    "\n",
    "#     # 전체 그림 표시\n",
    "#     plt.tight_layout()\n",
    "#     plt.show()\n",
    "# get_3_countplot_category(X_train, category_col)"
   ]
  },
  {
   "cell_type": "code",
   "execution_count": 18,
   "metadata": {},
   "outputs": [
    {
     "data": {
      "text/plain": [
       "['대출기간', '근로기간', '주택소유상태', '대출목적']"
      ]
     },
     "execution_count": 18,
     "metadata": {},
     "output_type": "execute_result"
    }
   ],
   "source": [
    "category_col"
   ]
  },
  {
   "cell_type": "code",
   "execution_count": 19,
   "metadata": {},
   "outputs": [
    {
     "data": {
      "image/png": "[encoded data removed]",
      "text/plain": [
       "<Figure size 640x480 with 1 Axes>"
      ]
     },
     "metadata": {},
     "output_type": "display_data"
    },
    {
     "data": {
      "image/png": "[encoded data removed]",
      "text/plain": [
       "<Figure size 640x480 with 1 Axes>"
      ]
     },
     "metadata": {},
     "output_type": "display_data"
    },
    {
     "data": {
      "image/png": "[encoded data removed]",
      "text/plain": [
       "<Figure size 640x480 with 1 Axes>"
      ]
     },
     "metadata": {},
     "output_type": "display_data"
    },
    {
     "data": {
      "image/png": "[encoded data removed]",
      "text/plain": [
       "<Figure size 640x480 with 1 Axes>"
      ]
     },
     "metadata": {},
     "output_type": "display_data"
    }
   ],
   "source": [
    "for plot_col in category_col:\n",
    "    sns.histplot(X_train, x=plot_col)\n",
    "    if plot_col in ['근로기간', '대출목적']:\n",
    "        plt.xticks(rotation=90)  # 그래프 x축 라벨 45도 회전\n",
    "    if plot_col in ['주택소유상태', '대출목적']:\n",
    "        plt.yscale('log')  # y축을 로그 스케일로 변환\n",
    "    plt.show()"
   ]
  },
  {
   "cell_type": "code",
   "execution_count": 20,
   "metadata": {},
   "outputs": [
    {
     "data": {
      "text/plain": [
       "array(['6 years', '10+ years', '5 years', '8 years', 'Unknown', '9 years',\n",
       "       '2 years', '1 year', '3 years', '7 years', '4 years', '< 1 year',\n",
       "       '10+years', '<1 year', '3', '1 years'], dtype=object)"
      ]
     },
     "execution_count": 20,
     "metadata": {},
     "output_type": "execute_result"
    }
   ],
   "source": [
    "X_train['근로기간'].unique()"
   ]
  },
  {
   "cell_type": "markdown",
   "metadata": {},
   "source": [
    "#### 근로기간에 잘못 적힌 값이 많은듯 \n",
    "- 10+years를 10+ years 로 통일시켜주기\n",
    "- < 1 year를 <1 year로 통일시켜주거나, 아니면 0 year로 통일시켜주기\n",
    "- 1 years를 1 year로 통일시켜주기\n",
    "- 3을 3 years로 통일시켜주기\n"
   ]
  },
  {
   "cell_type": "code",
   "execution_count": 21,
   "metadata": {},
   "outputs": [
    {
     "data": {
      "text/plain": [
       "1"
      ]
     },
     "execution_count": 21,
     "metadata": {},
     "output_type": "execute_result"
    }
   ],
   "source": [
    "X_train[X_train['주택소유상태']=='ANY']['주택소유상태'].count()"
   ]
  },
  {
   "cell_type": "markdown",
   "metadata": {},
   "source": [
    "#### 주택소유상태 표시 의미\n",
    "주택 소유 상태를 나타내는 단어에서 각각의 의미는 다음과 같습니다:\n",
    "\n",
    "RENT (임대): 주택을 소유하지 않고 대신 임대(또는 전세)하는 상태를 나타냅니다. 임차인은 일정 기간 동안 주택을 사용할 수 있지만 소유권은 없습니다.    \n",
    "MORTGAGE (담보): 주택을 구매하기 위해 대출을 받고, 그 주택을 담보로 제공하는 상태를 나타냅니다. 대출을 상환하면서 주택의 소유권은 점차 대출을 상환하는 사람(대출자)에게 이전됩니다.     \n",
    "OWN (소유): 주택을 소유하고 있는 상태를 나타냅니다. 소유자는 주택의 완전한 소유 및 권한을 가지며, 언제든지 주택을 판매하거나 대여할 수 있습니다.    \n",
    "ANY (어느 것도 아닌): \"ANY\"는 일반적으로 선택지가 없음을 나타내며, 주택 소유 상태를 명시적으로 나타내지 않는 경우에 사용될 수 있습니다. "
   ]
  },
  {
   "cell_type": "code",
   "execution_count": 22,
   "metadata": {},
   "outputs": [
    {
     "data": {
      "text/plain": [
       "60"
      ]
     },
     "execution_count": 22,
     "metadata": {},
     "output_type": "execute_result"
    }
   ],
   "source": [
    "X_train[X_train['대출목적']=='재생 에너지']['대출목적'].count()"
   ]
  },
  {
   "cell_type": "markdown",
   "metadata": {},
   "source": [
    "# 데이터 전처리\n",
    "- 이상치\n",
    "\t- 부채_대비_소득_비율 9999.0로 이상치 하나 존재 제거\n",
    "- 결측치\n",
    "\t- 근로기간 결측치 Unknown 처리 고민 , Unkown형태는 없었지만 더 확인해볼 필요는 있을듯\n",
    "- 값 형식 불일치\n",
    "\t- 근로기간 값 형식이 일치 안된 것이 많아서\n",
    "\t\t- 10+years를 10+ years 로 통일시켜주기\n",
    "\t\t- < 1 year를 <1 year로 통일시켜주거나, 아니면 0 year로 통일시켜주기\n",
    "\t\t- 1 years를 1 year로 통일시켜주기\n",
    "\t\t- 3을 3 years로 통일시켜주기\n",
    "- 데이터 형식 바꿔주기\n",
    "\t- 범주형 데이터 object에서 category로 형식 변경, 그리고 카테고리 순서정해줄 것은 순서 정해주기\n",
    "- 데이터 비율 맞춰주기 위해 Oversampleing\n",
    "\t- 단, SMOTE 알고리즘은 수치형 데이터에만 쓸 수 있으니\n",
    "    - SMOTE를 범주형 데이터에도 쓸 수 있게 확장한 SMOTENC를 사용\n",
    "- 컬럼 분리\n",
    "\t- 최근_2년간_연체_횟수, 총상환이자, 총연체금액, 연체계좌수 : 0인 것과 아닌 것 구분해서 범주컬럼으로 추가해주기\n",
    "\n",
    "- 스케일링\n",
    "\t- 수동 로그스케일링:\n",
    "\t\t- 총연체금액: 로그스케일링해주기\n",
    "- 인코딩\n",
    "\t- 순서 인코딩:\n",
    "\t- 레이블 인코딩: 대출기간, 근로기간\n",
    "\t- 원-핫 인코딩 : 주택소유상태, 대출목적\n",
    "\t\t- get_dummy:\n",
    "\t\t- 원-핫 인코딩:"
   ]
  },
  {
   "cell_type": "markdown",
   "metadata": {},
   "source": [
    "## 이상치 제거\n",
    "- 부채_대비_소득_비율 9999.0로 이상치 하나 존재 제거"
   ]
  },
  {
   "cell_type": "code",
   "execution_count": 23,
   "metadata": {},
   "outputs": [],
   "source": [
    "# def to_remove_Outlier(): # train 데이터에 대해서만 해주면 될듯하여 함수로 만들어줄 필요 없을듯\n",
    "# 2000이상으로 값이 9999.0 하나 밖에 존재하지 않음\n",
    "# 제거하고 나도 조금 떨어져 있는 듯한 녀석들이 있어서 전에 전처리 개인과제때 이상치 제거 함수 가져와서 통계적인 방법으로 이상치 제거하는게 나을듯\n",
    "X_train = X_train[X_train['부채_대비_소득_비율']<3000] #<600"
   ]
  },
  {
   "cell_type": "code",
   "execution_count": 24,
   "metadata": {},
   "outputs": [
    {
     "data": {
      "text/html": [
       "<div>\n",
       "<style scoped>\n",
       "    .dataframe tbody tr th:only-of-type {\n",
       "        vertical-align: middle;\n",
       "    }\n",
       "\n",
       "    .dataframe tbody tr th {\n",
       "        vertical-align: top;\n",
       "    }\n",
       "\n",
       "    .dataframe thead th {\n",
       "        text-align: right;\n",
       "    }\n",
       "</style>\n",
       "<table border=\"1\" class=\"dataframe\">\n",
       "  <thead>\n",
       "    <tr style=\"text-align: right;\">\n",
       "      <th></th>\n",
       "      <th>대출금액</th>\n",
       "      <th>연간소득</th>\n",
       "      <th>부채_대비_소득_비율</th>\n",
       "      <th>총계좌수</th>\n",
       "      <th>최근_2년간_연체_횟수</th>\n",
       "      <th>총상환원금</th>\n",
       "      <th>총상환이자</th>\n",
       "      <th>총연체금액</th>\n",
       "      <th>연체계좌수</th>\n",
       "    </tr>\n",
       "  </thead>\n",
       "  <tbody>\n",
       "    <tr>\n",
       "      <th>count</th>\n",
       "      <td>9.629300e+04</td>\n",
       "      <td>9.629300e+04</td>\n",
       "      <td>96293.000000</td>\n",
       "      <td>96293.000000</td>\n",
       "      <td>96293.000000</td>\n",
       "      <td>9.629300e+04</td>\n",
       "      <td>9.629300e+04</td>\n",
       "      <td>96293.000000</td>\n",
       "      <td>96293.000000</td>\n",
       "    </tr>\n",
       "    <tr>\n",
       "      <th>mean</th>\n",
       "      <td>1.830414e+07</td>\n",
       "      <td>9.392770e+07</td>\n",
       "      <td>19.275952</td>\n",
       "      <td>25.304882</td>\n",
       "      <td>0.345664</td>\n",
       "      <td>8.225099e+05</td>\n",
       "      <td>4.282318e+05</td>\n",
       "      <td>54.381149</td>\n",
       "      <td>0.005805</td>\n",
       "    </tr>\n",
       "    <tr>\n",
       "      <th>std</th>\n",
       "      <td>1.032903e+07</td>\n",
       "      <td>9.956877e+07</td>\n",
       "      <td>9.624810</td>\n",
       "      <td>12.088616</td>\n",
       "      <td>0.919108</td>\n",
       "      <td>1.027749e+06</td>\n",
       "      <td>4.402120e+05</td>\n",
       "      <td>1414.776554</td>\n",
       "      <td>0.079967</td>\n",
       "    </tr>\n",
       "    <tr>\n",
       "      <th>min</th>\n",
       "      <td>1.200000e+06</td>\n",
       "      <td>1.440000e+06</td>\n",
       "      <td>0.000000</td>\n",
       "      <td>4.000000</td>\n",
       "      <td>0.000000</td>\n",
       "      <td>0.000000e+00</td>\n",
       "      <td>0.000000e+00</td>\n",
       "      <td>0.000000</td>\n",
       "      <td>0.000000</td>\n",
       "    </tr>\n",
       "    <tr>\n",
       "      <th>25%</th>\n",
       "      <td>1.020000e+07</td>\n",
       "      <td>5.760000e+07</td>\n",
       "      <td>12.650000</td>\n",
       "      <td>17.000000</td>\n",
       "      <td>0.000000</td>\n",
       "      <td>3.075720e+05</td>\n",
       "      <td>1.346160e+05</td>\n",
       "      <td>0.000000</td>\n",
       "      <td>0.000000</td>\n",
       "    </tr>\n",
       "    <tr>\n",
       "      <th>50%</th>\n",
       "      <td>1.680000e+07</td>\n",
       "      <td>7.800000e+07</td>\n",
       "      <td>18.740000</td>\n",
       "      <td>24.000000</td>\n",
       "      <td>0.000000</td>\n",
       "      <td>5.976960e+05</td>\n",
       "      <td>2.870160e+05</td>\n",
       "      <td>0.000000</td>\n",
       "      <td>0.000000</td>\n",
       "    </tr>\n",
       "    <tr>\n",
       "      <th>75%</th>\n",
       "      <td>2.400000e+07</td>\n",
       "      <td>1.128000e+08</td>\n",
       "      <td>25.540000</td>\n",
       "      <td>32.000000</td>\n",
       "      <td>0.000000</td>\n",
       "      <td>1.055076e+06</td>\n",
       "      <td>5.702280e+05</td>\n",
       "      <td>0.000000</td>\n",
       "      <td>0.000000</td>\n",
       "    </tr>\n",
       "    <tr>\n",
       "      <th>max</th>\n",
       "      <td>4.200000e+07</td>\n",
       "      <td>1.080000e+10</td>\n",
       "      <td>1092.520000</td>\n",
       "      <td>169.000000</td>\n",
       "      <td>30.000000</td>\n",
       "      <td>4.195594e+07</td>\n",
       "      <td>5.653416e+06</td>\n",
       "      <td>75768.000000</td>\n",
       "      <td>4.000000</td>\n",
       "    </tr>\n",
       "  </tbody>\n",
       "</table>\n",
       "</div>"
      ],
      "text/plain": [
       "               대출금액          연간소득   부채_대비_소득_비율          총계좌수  최근_2년간_연체_횟수  \\\n",
       "count  9.629300e+04  9.629300e+04  96293.000000  96293.000000  96293.000000   \n",
       "mean   1.830414e+07  9.392770e+07     19.275952     25.304882      0.345664   \n",
       "std    1.032903e+07  9.956877e+07      9.624810     12.088616      0.919108   \n",
       "min    1.200000e+06  1.440000e+06      0.000000      4.000000      0.000000   \n",
       "25%    1.020000e+07  5.760000e+07     12.650000     17.000000      0.000000   \n",
       "50%    1.680000e+07  7.800000e+07     18.740000     24.000000      0.000000   \n",
       "75%    2.400000e+07  1.128000e+08     25.540000     32.000000      0.000000   \n",
       "max    4.200000e+07  1.080000e+10   1092.520000    169.000000     30.000000   \n",
       "\n",
       "              총상환원금         총상환이자         총연체금액         연체계좌수  \n",
       "count  9.629300e+04  9.629300e+04  96293.000000  96293.000000  \n",
       "mean   8.225099e+05  4.282318e+05     54.381149      0.005805  \n",
       "std    1.027749e+06  4.402120e+05   1414.776554      0.079967  \n",
       "min    0.000000e+00  0.000000e+00      0.000000      0.000000  \n",
       "25%    3.075720e+05  1.346160e+05      0.000000      0.000000  \n",
       "50%    5.976960e+05  2.870160e+05      0.000000      0.000000  \n",
       "75%    1.055076e+06  5.702280e+05      0.000000      0.000000  \n",
       "max    4.195594e+07  5.653416e+06  75768.000000      4.000000  "
      ]
     },
     "execution_count": 24,
     "metadata": {},
     "output_type": "execute_result"
    }
   ],
   "source": [
    "X_train.describe()"
   ]
  },
  {
   "cell_type": "code",
   "execution_count": 25,
   "metadata": {},
   "outputs": [
    {
     "data": {
      "text/plain": [
       "17.82381591069744"
      ]
     },
     "execution_count": 25,
     "metadata": {},
     "output_type": "execute_result"
    }
   ],
   "source": [
    "X_train['부채_대비_소득_비율'].skew()"
   ]
  },
  {
   "cell_type": "code",
   "execution_count": 26,
   "metadata": {},
   "outputs": [
    {
     "data": {
      "image/png": "[encoded data removed]",
      "text/plain": [
       "<Figure size 640x480 with 1 Axes>"
      ]
     },
     "metadata": {},
     "output_type": "display_data"
    }
   ],
   "source": [
    "sns.histplot(data=X_train, x='부채_대비_소득_비율', bins=200)\n",
    "plt.yscale('log')\n",
    "plt.show()"
   ]
  },
  {
   "cell_type": "markdown",
   "metadata": {},
   "source": [
    "##  결측치 처리\n",
    "- 제거하거나 최빈값으로 대치해주면 될듯하나 일단 패스"
   ]
  },
  {
   "cell_type": "code",
   "execution_count": 27,
   "metadata": {},
   "outputs": [],
   "source": [
    "# def get_non_missing(df):"
   ]
  },
  {
   "cell_type": "markdown",
   "metadata": {},
   "source": [
    "## 값 형식 불일치 통일시켜주기\n",
    "- 근로기간 값 형식이 일치 안된 것이 많아서\n",
    "    - 10+years를 10+ years 로 통일시켜주기\n",
    "    - < 1 year를 <1 year로 통일시켜주거나, 아니면 0 year로 통일시켜주기\n",
    "    - 1 years를 1 year로 통일시켜주기\n",
    "    - 3을 3 years로 통일시켜주기"
   ]
  },
  {
   "cell_type": "code",
   "execution_count": null,
   "metadata": {},
   "outputs": [],
   "source": [
    "#def Formal_unification():"
   ]
  },
  {
   "cell_type": "markdown",
   "metadata": {},
   "source": [
    "## 데이터 형식 바꿔주기\n",
    "- 범주형 데이터 object에서 category로 형식 변경, 그리고 카테고리 순서정해줄 것은 순서 정해주기"
   ]
  },
  {
   "cell_type": "code",
   "execution_count": null,
   "metadata": {},
   "outputs": [],
   "source": [
    "#def change_object_to_category():"
   ]
  },
  {
   "cell_type": "markdown",
   "metadata": {},
   "source": [
    "## 데이터 비율 맞춰주기 위해 Oversampleing\n",
    "- 단, SMOTE 알고리즘은 수치형 데이터에만 쓸 수 있으니\n",
    "- SMOTE를 범주형 데이터에도 쓸 수 있게 확장한 SMOTENC를 사용"
   ]
  },
  {
   "cell_type": "code",
   "execution_count": 28,
   "metadata": {},
   "outputs": [],
   "source": [
    "# smnc = SMOTENC(categorical_features=category_col, random_state=42)\n",
    "# X_train, y_train = smnc.fit_resample(X_train, y_train)\n",
    "# # X_test, y_test = smnc.fit_resample(X_test, y_test) # 테스트 데이터는 건드리면 안될 것이라 판단되서 제외함"
   ]
  },
  {
   "cell_type": "markdown",
   "metadata": {},
   "source": [
    "### oversampling한 뒤 결과 데이터 확인하기"
   ]
  },
  {
   "cell_type": "code",
   "execution_count": null,
   "metadata": {},
   "outputs": [],
   "source": [
    "# X_train.info()\n",
    "# print(X_train.isna().sum())\n",
    "# display(X_train.describe())\n",
    "# display(X_train.describe(include=['category']))\n",
    "# X_train.describe(include = 'all')"
   ]
  },
  {
   "cell_type": "markdown",
   "metadata": {},
   "source": [
    "## 컬럼 분리 (0인 것과 아닌 것 구분해서 범주컬럼으로 추가해주기)\n",
    "- 최근_2년간_연체_횟수\n",
    "- 총상환이자, 총연체금액\n",
    "- 연체계좌수"
   ]
  },
  {
   "cell_type": "code",
   "execution_count": null,
   "metadata": {},
   "outputs": [],
   "source": []
  },
  {
   "cell_type": "markdown",
   "metadata": {},
   "source": [
    "## 스케일링\n",
    "- 수동 로그스케일링:\n",
    "\t- 총연체금액: 로그스케일링해주기\n",
    "- 학습 모델을 이용한 스케일링:\n",
    "\t- sd scaler(이상치가 많은 경우):\n",
    "\t- mm scaler(이상치가 거의 없는 경우):"
   ]
  },
  {
   "cell_type": "markdown",
   "metadata": {},
   "source": [
    "### 수동 로그 스케일링"
   ]
  },
  {
   "cell_type": "code",
   "execution_count": null,
   "metadata": {},
   "outputs": [],
   "source": [
    "# #balance의 값은 음수가 있기 때문에 최소값을 보정함\n",
    "# balance_min = abs(min(X_train['balance'].min(), X_test['balance'].min()))\n",
    "# X_train['balance'] = X_train['balance'] + balance_min\n",
    "# X_test['balance'] = X_test['balance'] + balance_min\n",
    "\n",
    "# #pdays도 표현상 이전 캠페인에서 연락한 적이 없다면 -1로 표시해놨기 때문에 음수가 있다 따라서 +1해줘서 음수를 없애준다\n",
    "# X_train['pdays'] = X_train['pdays'] + 1\n",
    "# X_test['pdays'] = X_test['pdays'] + 1\n",
    "\n",
    "# # 로그스케일 적용\n",
    "# for col in ['balance', 'duration', 'campaign', 'pdays', 'previous']:\n",
    "#     X_train[col] = np.log1p(X_train[col])\n",
    "#     X_test[col] = np.log1p(X_test[col])"
   ]
  },
  {
   "cell_type": "code",
   "execution_count": null,
   "metadata": {},
   "outputs": [],
   "source": [
    "# display(X_train.describe())"
   ]
  },
  {
   "cell_type": "code",
   "execution_count": null,
   "metadata": {},
   "outputs": [],
   "source": [
    "# #로그스케일 변환 후 시각화\n",
    "# get_3_hist_num(X_train, numeric_col)"
   ]
  },
  {
   "cell_type": "markdown",
   "metadata": {},
   "source": [
    "### 학습 모델을 이용한 스케일링\n",
    "- 수치형 데이터: '대출금액', '연간소득', '부채_대비_소득_비율', '총계좌수', '최근_2년간_연체_횟수', '총상환원금', '총상환이자', '총연체금액', '연체계좌수'\n",
    "- 표준화(sd_sc): \n",
    "- 정규화(mm_sc): "
   ]
  },
  {
   "cell_type": "code",
   "execution_count": null,
   "metadata": {},
   "outputs": [],
   "source": [
    "# def get_numeric_sc(X_train:pd.DataFrame, X_test:pd.DataFrame):\n",
    "#     \"\"\"데이터를 전달받아 수치형 변수 스케일링하는 함수\n",
    "\n",
    "#     Args:\n",
    "#         X_train (pd.DataFrame): train 데이터프레임\n",
    "#         X_test (pd.DataFrame):  test 데이터프레임\n",
    "\n",
    "#     Returns:\n",
    "#         pd.DataFrame, pd.DataFrame: train, test 데이터프레임\n",
    "#     \"\"\"\n",
    "#     # 수치형변수\n",
    "#     # '대출금액', '연간소득', '부채_대비_소득_비율', '총계좌수', '최근_2년간_연체_횟수', '총상환원금', '총상환이자', '총연체금액', '연체계좌수'\n",
    "#     #StandardScaler 적용할 변수 리스트\n",
    "#     sc_col = ['pdays']\n",
    "#     #MinMaxScaler 적용할 변수 리스트\n",
    "#     mm_col = ['age','duration','day_of_week','balance','campaign','previous']\n",
    "    \n",
    "#     #모델 가져오기\n",
    "#     sd_sc = StandardScaler()\n",
    "#     mm_sc = MinMaxScaler()\n",
    "\n",
    "#     #train, test 데이터변환(Standard Scaler이용)\n",
    "#     sd_sc.fit(X_train[sc_col])\n",
    "#     X_train[sc_col] = sd_sc.transform(X_train[sc_col])  #컬럼추가안해주고 바로 바꾸는지?\n",
    "#     X_test[sc_col] = sd_sc.transform(X_test[sc_col])\n",
    "    \n",
    "#     #train, test 데이터변환(MinMax Scaler이용)\n",
    "#     mm_sc.fit(X_train[mm_col])\n",
    "#     X_train[mm_col] = mm_sc.transform(X_train[mm_col])\n",
    "#     X_test[mm_col] = mm_sc.transform(X_test[mm_col])\n",
    "    \n",
    "#     return X_train, X_test"
   ]
  },
  {
   "cell_type": "markdown",
   "metadata": {},
   "source": [
    "## 인코딩\n",
    "- y 변수 인코딩: \n",
    "- 순서 인코딩: \n",
    "- 레이블 인코딩: 대출기간, 근로기간 (순서나 관계가 있는 경우에는 이 두 가지 외의 다른 인코딩을 해주어야할 수도 있는듯 함)\n",
    "- 원-핫 인코딩 : 주택소유상태, 대출목적\n",
    "\t- get_dummy:\n",
    "\t- 원-핫 인코딩:"
   ]
  },
  {
   "cell_type": "markdown",
   "metadata": {},
   "source": [
    "### y 변수 인코딩"
   ]
  },
  {
   "cell_type": "code",
   "execution_count": null,
   "metadata": {},
   "outputs": [],
   "source": [
    "#y 변수 인코딩 함수"
   ]
  },
  {
   "cell_type": "code",
   "execution_count": 30,
   "metadata": {},
   "outputs": [
    {
     "data": {
      "text/plain": [
       "['대출기간', '근로기간', '주택소유상태', '대출목적']"
      ]
     },
     "execution_count": 30,
     "metadata": {},
     "output_type": "execute_result"
    }
   ],
   "source": [
    "['대출기간', '근로기간', '주택소유상태', '대출목적']"
   ]
  },
  {
   "cell_type": "markdown",
   "metadata": {},
   "source": [
    "### 범주형 데이터 전처리 (인코딩)\n",
    "- 범주형 데이터: '대출기간', '근로기간', '주택소유상태', '대출목적'\n",
    "- label encoding(le): ('marital', 'education'(할려면 범주 찾아서 다시 정렬해주긴 해야함), 'month') 정도 고려중인데 굳이 해줘야할까 생각중\n",
    "- onehot encoding(oe) & get_dummies(gd): 둘중 하나로 통일해서 전부 해볼 듯하다      \n",
    "우선적으로 그냥 get_dummies로 하고 시간 여유가 된다면 후에 더 건드려볼듯 함"
   ]
  },
  {
   "cell_type": "code",
   "execution_count": null,
   "metadata": {},
   "outputs": [],
   "source": [
    "# def get_category(X_train:pd.DataFrame, X_test:pd.DataFrame):\n",
    "#     \"\"\" 데이터를 전달받아 범주형 변수 더미화하는 함수\n",
    "\n",
    "#     Args:\n",
    "#         X_train (pd.DataFrame): train 데이터프레임\n",
    "#         X_test (pd.DataFrame):  test 데이터프레임\n",
    "\n",
    "#     Returns:\n",
    "#         pd.DataFrame, pd.DataFrmae, list: train, test 데이터프레임, 더미화된 컬럼\n",
    "#     \"\"\"\n",
    "    \n",
    "# # 이부분 입력인자랑 전역변수랑 이름 중복되서 살짝 신경쓰임 나중에 시간 날때 수정해보던가 하기\n",
    "#     #범주형변수\n",
    "#     # 'job','marital','education','default','housing','loan','contact','month','poutcome'\n",
    "    \n",
    "#     # le = LabelEncoder()\n",
    "#     # le2 = LabelEncoder()\n",
    "#     # le3 = LabelEncoder()\n",
    "    \n",
    "#     # le.fit(X_train[['marital']])\n",
    "#     # X_train['marital'] = le.transform(X_train[['marital']])\n",
    "#     # X_test['marital'] = le.transform(X_test[['marital']])\n",
    "    \n",
    "#     # le2.fit(X_train[['education']])\n",
    "#     # X_train['education'] = le2.transform(X_train[['education']])\n",
    "#     # X_test['education'] = le2.transform(X_test[['education']])\n",
    "    \n",
    "#     # le3.fit(X_train[['month']])\n",
    "#     # X_train['month'] = le3.transform(X_train[['month']])\n",
    "#     # X_test['month'] = le3.transform(X_test[['month']])\n",
    "    \n",
    "#     # dumies_col = ['job','default','housing','loan','contact','poutcome'] #더미할 컬럼\n",
    "    \n",
    "#     # #범주형 컬럼 더미화 하기\n",
    "#     # X_train_dummies = pd.get_dummies(X_train[dumies_col])\n",
    "#     # X_test_dummies = pd.get_dummies(X_test[dumies_col])\n",
    "    \n",
    "#     #범주형 컬럼 더미화 하기\n",
    "#     X_train_dummies = pd.get_dummies(X_train[category_col])\n",
    "#     X_test_dummies = pd.get_dummies(X_test[category_col])\n",
    "    \n",
    "#     # 더미화한 변수를 기존 데이터셋에 합치기\n",
    "#     X_train = pd.concat([X_train, X_train_dummies], axis = 1)\n",
    "#     X_test = pd.concat([X_test, X_test_dummies], axis = 1)\n",
    "    \n",
    "#     return X_train, X_test, X_train_dummies.columns.to_list()"
   ]
  },
  {
   "cell_type": "markdown",
   "metadata": {},
   "source": [
    "# 모델 수립 및 평가\n",
    "- 모델은 후보로 염두 중인 것은 로지스터 회귀, 의사결정나무, 랜덤포레스트, knn(최근접이웃), Gradient Boosting, XGBoost, LightGBM     \n",
    "    ['lor', 'dt', 'rf', 'knn', 'gbm', 'xgb', 'lgb']\n",
    "- 우선 일반적으로 이진분류에서 사용하는 평가지표인 <u>정확도</u>, 정밀도, 재현율, <u>F1 점수</u> 사용을 할 것이지만 \n",
    "    보통 다중 분류에서는 각 클래스에 대한 지표를 계산한 후 평균 내는 방법 등이 추가로 필요하다고 하여 추가 조사 필요\n",
    "- 전체적으로 다중 분류의 경우 아래와 같이 본 설명이 있어 추가로 이진분류와 어떻게 추가로 다르게 해줘야하는지는 찾아보아야 함\n",
    "    * 레이블 처리: 이진 분류에서는 대상 변수가 두 가지 범주로 나뉘지만, 다중 분류에서는 대상 변수가 세 개 이상의 범주로 나뉩니다. 따라서 다중 분류 문제에서는 레이블을 적절히 처리해야 합니다.    \n",
    "    * 성능 측정: 이진 분류에서는 정확도, 정밀도, 재현율, F1 점수 등을 사용하여 모델의 성능을 측정합니다. 다중 분류에서도 이러한 지표를 사용할 수 있지만, 각 클래스에 대한 지표를 계산한 후 이를 평균내는 방법 등이 추가로 필요합니다.     \n",
    "    * 확률 추정: 일부 알고리즘(예: 로지스틱 회귀)은 이진 분류에서는 시그모이드 함수를, 다중 분류에서는 소프트맥스 함수를 사용하여 클래스 확률을 추정합니다.\n",
    "    * 손실 함수: 일부 알고리즘(예: SVM, 신경망)은 이진 분류와 다중 분류에서 다른 손실 함수를 사용합니다."
   ]
  },
  {
   "cell_type": "markdown",
   "metadata": {},
   "source": [
    "rt의 경우 변수별 중요도를 추출할 수 있어서 그것을 통해 그래프 그리는 기능 추가시켜뒀음"
   ]
  },
  {
   "cell_type": "markdown",
   "metadata": {},
   "source": [
    "### 변수 중요도 그래프 그리기(함수형태)"
   ]
  },
  {
   "cell_type": "code",
   "execution_count": null,
   "metadata": {},
   "outputs": [],
   "source": [
    "# 변수 중요도 그래프 그리기\n",
    "def draw_feature_importances(feature_importances_df, width_ratios=[3, 1], fontsize=10):\n",
    "    import matplotlib.gridspec as gridspec\n",
    "    # Create a figure object\n",
    "    f = plt.figure(figsize=(15,20))\n",
    "    \n",
    "    # Create a gridspec object\n",
    "    gs = gridspec.GridSpec(1, 2, width_ratios=width_ratios)  # Here, ax1 is three times wider than ax2\n",
    "\n",
    "    # Create axes using the gridspec object\n",
    "    ax1 = f.add_subplot(gs[0])\n",
    "    ax2 = f.add_subplot(gs[1])\n",
    "\n",
    "    # 레이아웃 조정\n",
    "    f.subplots_adjust(wspace=0.05)\n",
    "\n",
    "    # xaxis grid 만들기\n",
    "    ax1.xaxis.grid()\n",
    "    ax2.xaxis.grid()\n",
    "\n",
    "    # 각각의 subplot ax1과 ax2에 barplot 그리기\n",
    "    ax1 = sns.barplot(data=feature_importances_df, y='name', x='importances', palette='viridis', orient='h', dodge=False, ax=ax1)\n",
    "    ax2 = sns.barplot(data=feature_importances_df, y='name', x='importances', palette='viridis', orient='h', dodge=False, ax=ax2)\n",
    "    \n",
    "    # 각 서브플롯에 대해 막대그래프 끝에 값을 표시\n",
    "    for p in ax1.patches:\n",
    "        ax1.annotate(format(p.get_width(), '.4f'), \n",
    "                    (p.get_x() + p.get_width(), p.get_y()), \n",
    "                    xytext=(0, -9), \n",
    "                    textcoords='offset points',\n",
    "                    ha='left', \n",
    "                    va='center', \n",
    "                    fontsize=fontsize)\n",
    "\n",
    "    for p in ax2.patches:\n",
    "        ax2.annotate(format(p.get_width(), '.4f'), \n",
    "                    (p.get_x() + p.get_width(), p.get_y()), \n",
    "                    xytext=(0, -9), \n",
    "                    textcoords='offset points',\n",
    "                    ha='left', \n",
    "                    va='center', \n",
    "                    fontsize=fontsize)\n",
    "    \n",
    "    # 축 폰트 크기 설정\n",
    "    ax1.tick_params(axis='both', labelsize=fontsize*1.2)  # 폰트 크게 조절 #실수float 가능\n",
    "    ax2.tick_params(axis='both', labelsize=fontsize*1.2)  # 폰트 크게 조절\n",
    "\n",
    "    # 각 subplot의 축범위 설정 (자동화 가능)\n",
    "    ax1.set_xlim(0, max(feature_importances_df['importances'])/2)\n",
    "    ax2.set_xlim(max(feature_importances_df['importances'])/2, max(feature_importances_df['importances']))\n",
    "\n",
    "    # 각 subplot 눈금 표시하기\n",
    "    ax1.set_xticks([i/100 for i in range(0, int(max(feature_importances_df['importances'])*100/2), 2)])  # 눈금 간격을 일정하게 조절\n",
    "    ax2.set_xticks([i/100 for i in range(int(max(feature_importances_df['importances'])*100/2), int(max(feature_importances_df['importances'])*100), 2)])\n",
    "\n",
    "    # x축 이름 없애줬음 통합해서 붙여줘야함\n",
    "    ax1.set_xlabel(\"\")\n",
    "    ax2.set_xlabel(\"\")  # x축 라벨 가운데 정렬\n",
    "\n",
    "    # x축 label 가운데 위치\n",
    "    f.text(0.5, 0.08, 'Importances', ha='center', va='center', fontsize=20)\n",
    "    \n",
    "    # y축 라벨 설정\n",
    "    ax1.set_ylabel(\"Feature Names\", fontsize=fontsize*1.4)\n",
    "    ax2.set_ylabel(\"\")\n",
    "\n",
    "    # 서로 만나는 부분 y축 선 안보이게 제거\n",
    "    ax1.spines['right'].set_visible(False)\n",
    "    ax2.spines['left'].set_visible(False)\n",
    "\n",
    "    # 오른 쪽 것의 y축 제거\n",
    "    ax2.get_yaxis().set_visible(False)\n",
    "\n",
    "    # 대각선 생략표시\n",
    "    d = .9    \n",
    "    kwargs = dict(marker=[(-1, -d), (1, d)], markersize=12, linestyle=\"none\", color='k', clip_on=False)\n",
    "    ax1.plot([1, 1], [0, 1], transform=ax1.transAxes, **kwargs)\n",
    "    ax2.plot([0, 0], [0, 1], transform=ax2.transAxes, **kwargs)\n",
    "\n",
    "    # y축 값 표시\n",
    "    ax1.set_yticklabels(feature_importances_df['name'], fontsize=12)  # 폰트 크게 조절\n",
    "    ax2.set_yticklabels(feature_importances_df['name'], fontsize=12)  # 폰트 크게 조절\n",
    "    # y축 눈금 간격 조정\n",
    "    plt.yticks(fontsize=fontsize*1.2, rotation=30)\n",
    "    \n",
    "    # 그래프 제목\n",
    "    plt.suptitle('Feature Importances', fontsize=fontsize*3, y=0.92)  # 제목 폰트 크게 조절\n",
    "    \n",
    "    # 그래프 표시\n",
    "    plt.show()\n",
    "\n",
    "# 이제 함수를 호출하여 그래프를 그릴 수 있습니다.\n"
   ]
  },
  {
   "cell_type": "markdown",
   "metadata": {},
   "source": [
    "## 모델 적용 및 평가 함수"
   ]
  },
  {
   "cell_type": "code",
   "execution_count": null,
   "metadata": {},
   "outputs": [],
   "source": [
    "def get_score(train:pd.DataFrame,  test:pd.DataFrame, x_var_list:list, model_type:str = 'rf'):\n",
    "    \"\"\" train과 test 데이터와 X변수 컬럼을 받아 평가지표를 내는 함수입니다.\n",
    "\n",
    "    Args:\n",
    "        train (pd.DataFrame): train 데이터프레임\n",
    "        test (pd.DataFrame): test 데이터프레임\n",
    "        x_var_list (list): 모델링에 사용할 변수 리스트\n",
    "        model_type(str) : 무슨 모델 쓸지 결정 (default : 'rf')\n",
    "    \"\"\"\n",
    "    #외부 전달인자를 내부변수에 할당\n",
    "    X_train = train \n",
    "    X_test = test\n",
    "\n",
    "    #일부 컬럼만 가져오기\n",
    "    X_train = X_train[x_var_list]\n",
    "    X_test = X_test[x_var_list]\n",
    "    \n",
    "    #모델가져오기 & 학습하기    &   # 학습하여 결과 저장\n",
    "    if model_type in ['lor', 'dt', 'rf', 'knn', 'gbm', 'xgb', 'lgb']:\n",
    "        if model_type == 'lor':\n",
    "            from sklearn.linear_model import LogisticRegression\n",
    "            model_lor = LogisticRegression()\n",
    "            model_lor.fit(X_train, y_train)\n",
    "            y_pred_train = model_lor.predict(X_train)\n",
    "            y_pred_test = model_lor.predict(X_test)\n",
    "            \n",
    "        elif model_type == 'dt':\n",
    "            from sklearn.tree import DecisionTreeClassifier\n",
    "            model_dt = DecisionTreeClassifier(random_state=42)\n",
    "            model_dt.fit(X_train, y_train)\n",
    "            y_pred_train = model_dt.predict(X_train)\n",
    "            y_pred_test = model_dt.predict(X_test)\n",
    "            \n",
    "        elif model_type == 'rf':\n",
    "            from sklearn.ensemble import RandomForestClassifier\n",
    "            model_rf = RandomForestClassifier(random_state=42)\n",
    "            model_rf.fit(X_train, y_train)\n",
    "            y_pred_train = model_rf.predict(X_train)\n",
    "            y_pred_test = model_rf.predict(X_test)\n",
    "            \n",
    "            # 변수별 중요도 표시\n",
    "            feature_names = model_rf.feature_names_in_\n",
    "            feature_importances = model_rf.feature_importances_\n",
    "            feature_importances_df = pd.DataFrame({\"name\": feature_names, \"importances\": feature_importances})\n",
    "            #display(feature_importances_df)\n",
    "            \n",
    "            # # 그래프 크기 설정\n",
    "            # plt.figure(figsize=(15, 15))\n",
    "            # # 값에 100을 곱함\n",
    "            # # 로그 스케일해줄 건데 값이 0~1이라 로그로 변환이 안되거나 너무 작게되서 표시가 안됨\n",
    "            # # feature_importances_df['scaled_importances'] = feature_importances_df['importances'] * 100 \n",
    "\n",
    "            # # 막대의 굵기 설정\n",
    "            # barplot = sns.barplot(data=feature_importances_df, y='name', x='importances', palette='viridis', orient='h', dodge=False) #, log_scale=True)\n",
    "\n",
    "            # # 막대 레이블 표시\n",
    "            # for index, value in enumerate(feature_importances_df['importances']):\n",
    "            #     barplot.text(value, index, f'{value:.4f}', color='black', ha=\"left\", va=\"center\", fontsize=10)\n",
    "\n",
    "            # # 그래프 제목 및 축 레이블 설정\n",
    "            # plt.title('Feature Importances')\n",
    "            # plt.xlabel('Importances')\n",
    "            # plt.ylabel('Feature Names')\n",
    "\n",
    "            # # 그래프 표시\n",
    "            # plt.show()\n",
    "            \n",
    "            # # 그래프 크기 설정\n",
    "            # # subplot\n",
    "            # f, (ax1, ax2) = plt.subplots(ncols=2, nrows=1, sharey=True, figsize=(15,20)) # 세로 높이를 더 크게 조절\n",
    "            \n",
    "            # # 레이아웃 조정\n",
    "            # f.subplots_adjust(wspace=0.05)\n",
    "\n",
    "            # # xaxis grid 만들기\n",
    "            # ax1.xaxis.grid()\n",
    "            # ax2.xaxis.grid()\n",
    "\n",
    "            # # 각각의 subplot ax1과 ax2에 barplot 그리기\n",
    "            # ax1 = sns.barplot(data=feature_importances_df, y='name', x='importances', palette='viridis', orient='h', dodge=False, ax=ax1)\n",
    "            # ax2 = sns.barplot(data=feature_importances_df, y='name', x='importances', palette='viridis', orient='h', dodge=False, ax=ax2)\n",
    "\n",
    "            # # 축 폰트 크기 설정\n",
    "            # ax1.tick_params(axis='both', labelsize=12)  # 폰트 크게 조절\n",
    "            # ax2.tick_params(axis='both', labelsize=12)  # 폰트 크게 조절\n",
    "\n",
    "            # # 각 subplot의 축범위 설정 (자동화 가능)\n",
    "            # ax1.set_xlim(0, 0.09)\n",
    "            # ax2.set_xlim(0.32, 0.34)\n",
    "\n",
    "            # # 각 subplot 눈금 표시하기\n",
    "            # ax1.set_xticks([0, 0.02, 0.04, 0.06, 0.08])  # 눈금 간격을 일정하게 조절\n",
    "            # ax2.set_xticks([0.32, 0.34])\n",
    "\n",
    "            # # x축 이름 없애줬음 통합해서 붙여줘야함\n",
    "            # ax1.set_xlabel(\"\")\n",
    "            # ax2.set_xlabel(\"\")  # x축 라벨 가운데 정렬\n",
    "\n",
    "            # # x축 label 가운데 위치\n",
    "            # f.text(0.5, 0.04, 'Importances', ha='center', va='center', fontsize=14)\n",
    "            \n",
    "            # # y축 라벨 설정\n",
    "            # ax1.set_ylabel(\"Feature Names\", fontsize=14)\n",
    "            # ax2.set_ylabel(\"\")\n",
    "\n",
    "            # # 서로 만나는 부분 y축 선 안보이게 제거\n",
    "            # ax1.spines['right'].set_visible(False)\n",
    "            # ax2.spines['left'].set_visible(False)\n",
    "\n",
    "            # # 오른 쪽 것의 y축 제거\n",
    "            # ax2.get_yaxis().set_visible(False)\n",
    "\n",
    "            # # 대각선 생략표시\n",
    "            # d = .9    \n",
    "            # kwargs = dict(marker=[(-1, -d), (1, d)], markersize=12, linestyle=\"none\", color='k', clip_on=False)\n",
    "            # ax1.plot([1, 1], [0, 1], transform=ax1.transAxes, **kwargs)\n",
    "            # ax2.plot([0, 0], [0, 1], transform=ax2.transAxes, **kwargs)\n",
    "\n",
    "            # # y축 값 표시\n",
    "            # ax1.set_yticklabels(feature_importances_df['name'], fontsize=12)  # 폰트 크게 조절\n",
    "            # ax2.set_yticklabels(feature_importances_df['name'], fontsize=12)  # 폰트 크게 조절\n",
    "            # # y축 눈금 간격 조정\n",
    "            # plt.yticks(fontsize=12, rotation=30)\n",
    "            \n",
    "            # # 그래프 제목\n",
    "            # plt.suptitle('Feature Importances', fontsize=18)  # 제목 폰트 크게 조절\n",
    "            \n",
    "            # # 그래프 표시\n",
    "            # plt.show()\n",
    "            \n",
    "            import matplotlib.gridspec as gridspec\n",
    "\n",
    "            # Create a figure object\n",
    "            f = plt.figure(figsize=(15,20))\n",
    "            \n",
    "            # Create a gridspec object\n",
    "            gs = gridspec.GridSpec(1, 2, width_ratios=[3, 1])  # Here, ax1 is three times wider than ax2\n",
    "\n",
    "            # Create axes using the gridspec object\n",
    "            ax1 = f.add_subplot(gs[0])\n",
    "            ax2 = f.add_subplot(gs[1])\n",
    "\n",
    "            # 레이아웃 조정\n",
    "            f.subplots_adjust(wspace=0.05)\n",
    "\n",
    "            # xaxis grid 만들기\n",
    "            ax1.xaxis.grid()\n",
    "            ax2.xaxis.grid()\n",
    "\n",
    "            # 각각의 subplot ax1과 ax2에 barplot 그리기\n",
    "            ax1 = sns.barplot(data=feature_importances_df, y='name', x='importances', palette='viridis', orient='h', dodge=False, ax=ax1)\n",
    "            ax2 = sns.barplot(data=feature_importances_df, y='name', x='importances', palette='viridis', orient='h', dodge=False, ax=ax2)\n",
    "            \n",
    "            # 각 서브플롯에 대해 막대그래프 끝에 값을 표시\n",
    "            for p in ax1.patches:\n",
    "                ax1.annotate(format(p.get_width(), '.4f'), \n",
    "                            (p.get_x() + p.get_width(), p.get_y()), \n",
    "                            xytext=(0, -9), \n",
    "                            textcoords='offset points',\n",
    "                            ha='left', \n",
    "                            va='center', \n",
    "                            fontsize=10)\n",
    "\n",
    "            for p in ax2.patches:\n",
    "                ax2.annotate(format(p.get_width(), '.4f'), \n",
    "                            (p.get_x() + p.get_width(), p.get_y()), \n",
    "                            xytext=(0, -9), \n",
    "                            textcoords='offset points',\n",
    "                            ha='left', \n",
    "                            va='center', \n",
    "                            fontsize=10)\n",
    "            \n",
    "            # 축 폰트 크기 설정\n",
    "            ax1.tick_params(axis='both', labelsize=12)  # 폰트 크게 조절\n",
    "            ax2.tick_params(axis='both', labelsize=12)  # 폰트 크게 조절\n",
    "\n",
    "            # 각 subplot의 축범위 설정 (자동화 가능)\n",
    "            ax1.set_xlim(0, 0.09)\n",
    "            ax2.set_xlim(0.32, 0.34)\n",
    "\n",
    "            # 각 subplot 눈금 표시하기\n",
    "            ax1.set_xticks([0, 0.02, 0.04, 0.06, 0.08])  # 눈금 간격을 일정하게 조절\n",
    "            ax2.set_xticks([0.32, 0.34])\n",
    "\n",
    "            # x축 이름 없애줬음 통합해서 붙여줘야함\n",
    "            ax1.set_xlabel(\"\")\n",
    "            ax2.set_xlabel(\"\")  # x축 라벨 가운데 정렬\n",
    "\n",
    "            # x축 label 가운데 위치\n",
    "            f.text(0.5, 0.08, 'Importances', ha='center', va='center', fontsize=20)\n",
    "            \n",
    "            # y축 라벨 설정\n",
    "            ax1.set_ylabel(\"Feature Names\", fontsize=14)\n",
    "            ax2.set_ylabel(\"\")\n",
    "\n",
    "            # 서로 만나는 부분 y축 선 안보이게 제거\n",
    "            ax1.spines['right'].set_visible(False)\n",
    "            ax2.spines['left'].set_visible(False)\n",
    "\n",
    "            # 오른 쪽 것의 y축 제거\n",
    "            ax2.get_yaxis().set_visible(False)\n",
    "\n",
    "            # 대각선 생략표시\n",
    "            d = .99    \n",
    "            kwargs = dict(marker=[(-1, -d), (1, d)], markersize=12, linestyle=\"none\", color='k', clip_on=False)\n",
    "            ax1.plot([1, 1], [0, 1], transform=ax1.transAxes, **kwargs)\n",
    "            ax2.plot([0, 0], [0, 1], transform=ax2.transAxes, **kwargs)\n",
    "\n",
    "            # y축 값 표시\n",
    "            ax1.set_yticklabels(feature_importances_df['name'], fontsize=12)  # 폰트 크게 조절\n",
    "            ax2.set_yticklabels(feature_importances_df['name'], fontsize=12)  # 폰트 크게 조절\n",
    "            # y축 눈금 간격 조정\n",
    "            plt.yticks(fontsize=12, rotation=30)\n",
    "            \n",
    "            # 그래프 제목\n",
    "            plt.suptitle('Feature Importances', fontsize=30, y=0.92)  # 제목 폰트 크게 조절\n",
    "            \n",
    "            # 그래프 표시\n",
    "            plt.show()\n",
    "            #draw_feature_importances(feature_importances_df)\n",
    "            \n",
    "        elif model_type == 'knn':\n",
    "            from sklearn.neighbors import KNeighborsClassifier\n",
    "            model_knn = KNeighborsClassifier()\n",
    "            model_knn.fit(X_train, y_train)\n",
    "            y_pred_train = model_knn.predict(X_train)\n",
    "            y_pred_test = model_knn.predict(X_test)\n",
    "            \n",
    "        elif model_type == 'gbm':\n",
    "            from sklearn.ensemble import GradientBoostingClassifier\n",
    "            model_gbm = GradientBoostingClassifier(random_state= 42)\n",
    "            model_gbm.fit(X_train, y_train)\n",
    "            y_pred_train = model_gbm.predict(X_train)\n",
    "            y_pred_test = model_gbm.predict(X_test)\n",
    "            \n",
    "        elif model_type == 'xgb':\n",
    "            from xgboost import XGBClassifier\n",
    "            model_xgb = XGBClassifier(random_state= 42)\n",
    "            model_xgb.fit(X_train, y_train)\n",
    "            y_pred_train = model_xgb.predict(X_train)\n",
    "            y_pred_test = model_xgb.predict(X_test)\n",
    "            \n",
    "        elif model_type == 'lgb':\n",
    "            from lightgbm import LGBMClassifier\n",
    "            model_lgb = LGBMClassifier(random_state= 42)\n",
    "            model_lgb.fit(X_train, y_train)\n",
    "            y_pred_train = model_lgb.predict(X_train)\n",
    "            y_pred_test = model_lgb.predict(X_test)\n",
    "    \n",
    "    #평가표 생성\n",
    "    result = pd.DataFrame({'acc' : [accuracy_score(y_train, y_pred_train), accuracy_score(y_test, y_pred_test)],\n",
    "                            'f1_score' : [f1_score(y_train, y_pred_train), f1_score(y_test, y_pred_test)]},\n",
    "                            index = ['train','test'])\n",
    "    \n",
    "    print(model_type,\"사용시\")\n",
    "    display(result.round(5))"
   ]
  },
  {
   "cell_type": "markdown",
   "metadata": {},
   "source": [
    "## 전체 모델링 및 평가"
   ]
  },
  {
   "cell_type": "markdown",
   "metadata": {},
   "source": [
    "#### 위에서 만들어 둔 스케일링과 인코딩 적용"
   ]
  },
  {
   "cell_type": "code",
   "execution_count": null,
   "metadata": {},
   "outputs": [],
   "source": [
    "X_train, X_test = get_numeric_sc(X_train, X_test)\n",
    "X_train, X_test, col_dummies = get_category(X_train,X_test)"
   ]
  },
  {
   "cell_type": "markdown",
   "metadata": {},
   "source": [
    "#### 모델별 학습 및 평가"
   ]
  },
  {
   "cell_type": "code",
   "execution_count": null,
   "metadata": {},
   "outputs": [],
   "source": [
    "# for model in ['lor', 'dt', 'rf', 'knn', 'gbm', 'xgb', 'lgb']:\n",
    "#     get_score(X_train, X_test, col_dummies + numeric_col, model_type=model)\n",
    "get_score(X_train, X_test, col_dummies + numeric_col, model_type='rf')"
   ]
  },
  {
   "cell_type": "markdown",
   "metadata": {},
   "source": [
    "# 추가로 고려해야할 부분"
   ]
  },
  {
   "cell_type": "code",
   "execution_count": null,
   "metadata": {},
   "outputs": [],
   "source": []
  }
 ],
 "metadata": {
  "kernelspec": {
   "display_name": "Python 3",
   "language": "python",
   "name": "python3"
  },
  "language_info": {
   "codemirror_mode": {
    "name": "ipython",
    "version": 3
   },
   "file_extension": ".py",
   "mimetype": "text/x-python",
   "name": "python",
   "nbconvert_exporter": "python",
   "pygments_lexer": "ipython3",
   "version": "3.8.6"
  }
 },
 "nbformat": 4,
 "nbformat_minor": 2
}
