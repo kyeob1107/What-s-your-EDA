{
 "cells": [
  {
   "cell_type": "markdown",
   "metadata": {},
   "source": [
    "# 전체 계획\n",
    "1. 데이터 로드 & 분리\n",
    "    * train / test 데이터 분리\n",
    "2. 탐색적 데이터 분석(EDA)\n",
    "    * 분포확인 & 이상치 확인\n",
    "3. 데이터 전처리\n",
    "    * 이상치 제거\n",
    "        - 범주형은 딱히 이상치라고 판단할 일이 없을 테니 수치형에 대해서만 생각해보면\n",
    "        - 그리고 만약 이상치 제거했으면 꼭 index 리셋해주기\n",
    "    * 데이터 비율 맞춰주기 위해 Oversampleing\n",
    "        - 단, SMOTE 알고리즘은 수치형 데이터에만 쓸 수 있으니\n",
    "        - SMOTE를 범주형 데이터에도 쓸 수 있게 확장한 SMOTENC를 사용\n",
    "    * 결측치 처리 (참고로 test 데이터 기준으로는 데이터 총 31647, 전체 데이터로는 45211)\n",
    "        - 수치형: contact(9100), poutcome(25917)\n",
    "        - 범주형: job(206), education(1314)\n",
    "        - 삭제 : -  \n",
    "        처리하기 애매하다는 느낌 일단 내버려두고 차차 더 생각\n",
    "    * 전처리\n",
    "        - 수치형: 'age','balance','day_of_week','duration','campaign','pdays','previous'\n",
    "        - 범주형: 'job','marital','education','default','housing','loan','contact','month','poutcome'\n",
    "            - 레이블 인코딩: \n",
    "            - 원- 핫 인코딩: \n",
    "    \n",
    "4. 모델 수립\n",
    "5. 평가"
   ]
  },
  {
   "cell_type": "markdown",
   "metadata": {},
   "source": [
    "# 데이터 불러오기, X, y 나누기"
   ]
  },
  {
   "cell_type": "code",
   "execution_count": 45,
   "metadata": {},
   "outputs": [],
   "source": [
    "#기본 모듈 불러오기 \n",
    "import pandas as pd\n",
    "import numpy as np\n",
    "import matplotlib.pyplot as plt\n",
    "import seaborn as sns\n",
    "from sklearn.model_selection import train_test_split\n",
    "from sklearn.preprocessing import StandardScaler, MinMaxScaler\n",
    "from sklearn.metrics import accuracy_score, f1_score\n",
    "\n",
    "# 아래에서 따로 이용하는 모듈\n",
    "from matplotlib.ticker import MultipleLocator\n",
    "import math\n",
    "from imblearn.over_sampling import SMOTENC\n",
    "\n",
    "# # warning을 모두 무시하는 것은 좋지 않으나 과제 수행을 쉽게할 수 있도록 무시설정\n",
    "# import warnings\n",
    "# warnings.filterwarnings(action='ignore')\n",
    "\n",
    "# 그래프 한글 깨지는 것 방지\n",
    "plt.rcParams['font.family'] ='Malgun Gothic'\n",
    "plt.rcParams['axes.unicode_minus'] =False"
   ]
  },
  {
   "cell_type": "markdown",
   "metadata": {},
   "source": [
    "처음에는 ID에 대해서는 따로 쓰이지 않을 것이니 인덱스로 사용하자 했는데 그로 인해서 경고가 너무 많이 발생하는 듯하여    \n",
    "다시 원래의 기본 인덱스를 사용하여야 할 듯하며, ID는 학습할 때 굳이 필요없으니 train과 test데이터 df에서 제외시켜주도록하였다   \n",
    "나중에 정렬을 한다던가하여 필요한 일이 생긴다면 다시 가져와야 할 수도 있다"
   ]
  },
  {
   "cell_type": "code",
   "execution_count": 46,
   "metadata": {},
   "outputs": [
    {
     "data": {
      "text/html": [
       "<div>\n",
       "<style scoped>\n",
       "    .dataframe tbody tr th:only-of-type {\n",
       "        vertical-align: middle;\n",
       "    }\n",
       "\n",
       "    .dataframe tbody tr th {\n",
       "        vertical-align: top;\n",
       "    }\n",
       "\n",
       "    .dataframe thead th {\n",
       "        text-align: right;\n",
       "    }\n",
       "</style>\n",
       "<table border=\"1\" class=\"dataframe\">\n",
       "  <thead>\n",
       "    <tr style=\"text-align: right;\">\n",
       "      <th></th>\n",
       "      <th>대출금액</th>\n",
       "      <th>대출기간</th>\n",
       "      <th>근로기간</th>\n",
       "      <th>주택소유상태</th>\n",
       "      <th>연간소득</th>\n",
       "      <th>부채_대비_소득_비율</th>\n",
       "      <th>총계좌수</th>\n",
       "      <th>대출목적</th>\n",
       "      <th>최근_2년간_연체_횟수</th>\n",
       "      <th>총상환원금</th>\n",
       "      <th>총상환이자</th>\n",
       "      <th>총연체금액</th>\n",
       "      <th>연체계좌수</th>\n",
       "      <th>대출등급</th>\n",
       "    </tr>\n",
       "  </thead>\n",
       "  <tbody>\n",
       "    <tr>\n",
       "      <th>0</th>\n",
       "      <td>12480000</td>\n",
       "      <td>36 months</td>\n",
       "      <td>6 years</td>\n",
       "      <td>RENT</td>\n",
       "      <td>72000000</td>\n",
       "      <td>18.90</td>\n",
       "      <td>15</td>\n",
       "      <td>부채 통합</td>\n",
       "      <td>0</td>\n",
       "      <td>0</td>\n",
       "      <td>0.0</td>\n",
       "      <td>0.0</td>\n",
       "      <td>0.0</td>\n",
       "      <td>C</td>\n",
       "    </tr>\n",
       "    <tr>\n",
       "      <th>1</th>\n",
       "      <td>14400000</td>\n",
       "      <td>60 months</td>\n",
       "      <td>10+ years</td>\n",
       "      <td>MORTGAGE</td>\n",
       "      <td>130800000</td>\n",
       "      <td>22.33</td>\n",
       "      <td>21</td>\n",
       "      <td>주택 개선</td>\n",
       "      <td>0</td>\n",
       "      <td>373572</td>\n",
       "      <td>234060.0</td>\n",
       "      <td>0.0</td>\n",
       "      <td>0.0</td>\n",
       "      <td>B</td>\n",
       "    </tr>\n",
       "    <tr>\n",
       "      <th>2</th>\n",
       "      <td>12000000</td>\n",
       "      <td>36 months</td>\n",
       "      <td>5 years</td>\n",
       "      <td>MORTGAGE</td>\n",
       "      <td>96000000</td>\n",
       "      <td>8.60</td>\n",
       "      <td>14</td>\n",
       "      <td>부채 통합</td>\n",
       "      <td>0</td>\n",
       "      <td>928644</td>\n",
       "      <td>151944.0</td>\n",
       "      <td>0.0</td>\n",
       "      <td>0.0</td>\n",
       "      <td>A</td>\n",
       "    </tr>\n",
       "  </tbody>\n",
       "</table>\n",
       "</div>"
      ],
      "text/plain": [
       "       대출금액        대출기간       근로기간    주택소유상태       연간소득  부채_대비_소득_비율  총계좌수  \\\n",
       "0  12480000   36 months    6 years      RENT   72000000        18.90    15   \n",
       "1  14400000   60 months  10+ years  MORTGAGE  130800000        22.33    21   \n",
       "2  12000000   36 months    5 years  MORTGAGE   96000000         8.60    14   \n",
       "\n",
       "    대출목적  최근_2년간_연체_횟수   총상환원금     총상환이자  총연체금액  연체계좌수 대출등급  \n",
       "0  부채 통합             0       0       0.0    0.0    0.0    C  \n",
       "1  주택 개선             0  373572  234060.0    0.0    0.0    B  \n",
       "2  부채 통합             0  928644  151944.0    0.0    0.0    A  "
      ]
     },
     "execution_count": 46,
     "metadata": {},
     "output_type": "execute_result"
    }
   ],
   "source": [
    "train_df = pd.read_csv('./train.csv') # 첫번째 열인 ID를 index로 사용 ->부분 다시 제외\n",
    "X_test = pd.read_csv('./test.csv') # 첫번째 열인 ID를 index로 사용 ->부분 다시 제외\n",
    "\n",
    "# ID열 제거\n",
    "train_df = train_df.drop(columns='ID')\n",
    "X_test = X_test.drop(columns='ID')\n",
    "\n",
    "# X, y 분리\n",
    "def reset_X_y(dataframe:pd.DataFrame = train_df, y_col='대출등급'):\n",
    "    X = dataframe.drop(columns=[y_col])\n",
    "    y = dataframe[[y_col]]\n",
    "    return X, y\n",
    "X_train, y_train = reset_X_y()\n",
    "numeric_col = ['대출금액', '연간소득', '부채_대비_소득_비율', '총계좌수', '최근_2년간_연체_횟수', '총상환원금', '총상환이자', '총연체금액', '연체계좌수']\n",
    "category_col = ['대출기간', '근로기간', '주택소유상태', '대출목적']\n",
    "train_df.head(3)"
   ]
  },
  {
   "cell_type": "markdown",
   "metadata": {},
   "source": [
    "# EDA"
   ]
  },
  {
   "cell_type": "markdown",
   "metadata": {},
   "source": [
    "## y값 비율 확인해보기\n",
    "- 비율 상으로 비슷하게 존재하지 않아서 낮은 E?,F,G 정도 oversampleing해야할 수도 있는데 일단 그냥 안하고 해봄"
   ]
  },
  {
   "cell_type": "code",
   "execution_count": 47,
   "metadata": {},
   "outputs": [
    {
     "data": {
      "image/png": "[encoded data removed]",
      "text/plain": [
       "<Figure size 640x480 with 1 Axes>"
      ]
     },
     "metadata": {},
     "output_type": "display_data"
    }
   ],
   "source": [
    "y_train_counts = y_train.value_counts()\n",
    "plt.pie(y_train_counts, labels=y_train_counts.index, autopct='%1.1f%%', startangle=140)\n",
    "plt.axis('equal')  # 원형을 유지하도록 하는 옵션\n",
    "plt.show()"
   ]
  },
  {
   "cell_type": "markdown",
   "metadata": {},
   "source": [
    "## 결측치 확인\n",
    "- 근로기간에 'Unknown' 이라고 결측치가 5671개 존재"
   ]
  },
  {
   "cell_type": "code",
   "execution_count": 48,
   "metadata": {},
   "outputs": [
    {
     "name": "stdout",
     "output_type": "stream",
     "text": [
      "<class 'pandas.core.frame.DataFrame'>\n",
      "RangeIndex: 96294 entries, 0 to 96293\n",
      "Data columns (total 14 columns):\n",
      " #   Column        Non-Null Count  Dtype  \n",
      "---  ------        --------------  -----  \n",
      " 0   대출금액          96294 non-null  int64  \n",
      " 1   대출기간          96294 non-null  object \n",
      " 2   근로기간          96294 non-null  object \n",
      " 3   주택소유상태        96294 non-null  object \n",
      " 4   연간소득          96294 non-null  int64  \n",
      " 5   부채_대비_소득_비율   96294 non-null  float64\n",
      " 6   총계좌수          96294 non-null  int64  \n",
      " 7   대출목적          96294 non-null  object \n",
      " 8   최근_2년간_연체_횟수  96294 non-null  int64  \n",
      " 9   총상환원금         96294 non-null  int64  \n",
      " 10  총상환이자         96294 non-null  float64\n",
      " 11  총연체금액         96294 non-null  float64\n",
      " 12  연체계좌수         96294 non-null  float64\n",
      " 13  대출등급          96294 non-null  object \n",
      "dtypes: float64(4), int64(5), object(5)\n",
      "memory usage: 10.3+ MB\n"
     ]
    }
   ],
   "source": [
    "train_df.info()"
   ]
  },
  {
   "cell_type": "code",
   "execution_count": 49,
   "metadata": {},
   "outputs": [
    {
     "data": {
      "text/plain": [
       "대출금액            0\n",
       "대출기간            0\n",
       "근로기간            0\n",
       "주택소유상태          0\n",
       "연간소득            0\n",
       "부채_대비_소득_비율     0\n",
       "총계좌수            0\n",
       "대출목적            0\n",
       "최근_2년간_연체_횟수    0\n",
       "총상환원금           0\n",
       "총상환이자           0\n",
       "총연체금액           0\n",
       "연체계좌수           0\n",
       "대출등급            0\n",
       "dtype: int64"
      ]
     },
     "execution_count": 49,
     "metadata": {},
     "output_type": "execute_result"
    }
   ],
   "source": [
    "train_df.isna().sum()"
   ]
  },
  {
   "cell_type": "code",
   "execution_count": 50,
   "metadata": {},
   "outputs": [
    {
     "name": "stdout",
     "output_type": "stream",
     "text": [
      "대출금액: 0\n",
      "대출기간: 0\n",
      "근로기간: 5671\n",
      "주택소유상태: 0\n",
      "연간소득: 0\n",
      "부채_대비_소득_비율: 0\n",
      "총계좌수: 0\n",
      "대출목적: 0\n",
      "최근_2년간_연체_횟수: 0\n",
      "총상환원금: 0\n",
      "총상환이자: 0\n",
      "총연체금액: 0\n",
      "연체계좌수: 0\n"
     ]
    }
   ],
   "source": [
    "for column in X_train.columns:  # 근로기간에 Unkown으로 결측치 있음\n",
    "    unknown_count = (X_train[column] == 'Unknown').sum()\n",
    "    print(f\"{column}: {unknown_count}\")"
   ]
  },
  {
   "cell_type": "markdown",
   "metadata": {},
   "source": [
    "## 기술통계를 통한 EDA"
   ]
  },
  {
   "cell_type": "code",
   "execution_count": 51,
   "metadata": {},
   "outputs": [
    {
     "data": {
      "text/html": [
       "<div>\n",
       "<style scoped>\n",
       "    .dataframe tbody tr th:only-of-type {\n",
       "        vertical-align: middle;\n",
       "    }\n",
       "\n",
       "    .dataframe tbody tr th {\n",
       "        vertical-align: top;\n",
       "    }\n",
       "\n",
       "    .dataframe thead th {\n",
       "        text-align: right;\n",
       "    }\n",
       "</style>\n",
       "<table border=\"1\" class=\"dataframe\">\n",
       "  <thead>\n",
       "    <tr style=\"text-align: right;\">\n",
       "      <th></th>\n",
       "      <th>대출금액</th>\n",
       "      <th>연간소득</th>\n",
       "      <th>부채_대비_소득_비율</th>\n",
       "      <th>총계좌수</th>\n",
       "      <th>최근_2년간_연체_횟수</th>\n",
       "      <th>총상환원금</th>\n",
       "      <th>총상환이자</th>\n",
       "      <th>총연체금액</th>\n",
       "      <th>연체계좌수</th>\n",
       "    </tr>\n",
       "  </thead>\n",
       "  <tbody>\n",
       "    <tr>\n",
       "      <th>count</th>\n",
       "      <td>9.629400e+04</td>\n",
       "      <td>9.629400e+04</td>\n",
       "      <td>96294.000000</td>\n",
       "      <td>96294.000000</td>\n",
       "      <td>96294.000000</td>\n",
       "      <td>9.629400e+04</td>\n",
       "      <td>9.629400e+04</td>\n",
       "      <td>96294.000000</td>\n",
       "      <td>96294.000000</td>\n",
       "    </tr>\n",
       "    <tr>\n",
       "      <th>mean</th>\n",
       "      <td>1.830400e+07</td>\n",
       "      <td>9.392672e+07</td>\n",
       "      <td>19.379590</td>\n",
       "      <td>25.304827</td>\n",
       "      <td>0.345681</td>\n",
       "      <td>8.225035e+05</td>\n",
       "      <td>4.282282e+05</td>\n",
       "      <td>54.380584</td>\n",
       "      <td>0.005805</td>\n",
       "    </tr>\n",
       "    <tr>\n",
       "      <th>std</th>\n",
       "      <td>1.032908e+07</td>\n",
       "      <td>9.956871e+07</td>\n",
       "      <td>33.569559</td>\n",
       "      <td>12.088566</td>\n",
       "      <td>0.919119</td>\n",
       "      <td>1.027745e+06</td>\n",
       "      <td>4.402111e+05</td>\n",
       "      <td>1414.769218</td>\n",
       "      <td>0.079966</td>\n",
       "    </tr>\n",
       "    <tr>\n",
       "      <th>min</th>\n",
       "      <td>1.200000e+06</td>\n",
       "      <td>0.000000e+00</td>\n",
       "      <td>0.000000</td>\n",
       "      <td>4.000000</td>\n",
       "      <td>0.000000</td>\n",
       "      <td>0.000000e+00</td>\n",
       "      <td>0.000000e+00</td>\n",
       "      <td>0.000000</td>\n",
       "      <td>0.000000</td>\n",
       "    </tr>\n",
       "    <tr>\n",
       "      <th>25%</th>\n",
       "      <td>1.020000e+07</td>\n",
       "      <td>5.760000e+07</td>\n",
       "      <td>12.650000</td>\n",
       "      <td>17.000000</td>\n",
       "      <td>0.000000</td>\n",
       "      <td>3.075720e+05</td>\n",
       "      <td>1.346160e+05</td>\n",
       "      <td>0.000000</td>\n",
       "      <td>0.000000</td>\n",
       "    </tr>\n",
       "    <tr>\n",
       "      <th>50%</th>\n",
       "      <td>1.680000e+07</td>\n",
       "      <td>7.800000e+07</td>\n",
       "      <td>18.740000</td>\n",
       "      <td>24.000000</td>\n",
       "      <td>0.000000</td>\n",
       "      <td>5.976960e+05</td>\n",
       "      <td>2.870040e+05</td>\n",
       "      <td>0.000000</td>\n",
       "      <td>0.000000</td>\n",
       "    </tr>\n",
       "    <tr>\n",
       "      <th>75%</th>\n",
       "      <td>2.400000e+07</td>\n",
       "      <td>1.128000e+08</td>\n",
       "      <td>25.540000</td>\n",
       "      <td>32.000000</td>\n",
       "      <td>0.000000</td>\n",
       "      <td>1.055076e+06</td>\n",
       "      <td>5.702160e+05</td>\n",
       "      <td>0.000000</td>\n",
       "      <td>0.000000</td>\n",
       "    </tr>\n",
       "    <tr>\n",
       "      <th>max</th>\n",
       "      <td>4.200000e+07</td>\n",
       "      <td>1.080000e+10</td>\n",
       "      <td>9999.000000</td>\n",
       "      <td>169.000000</td>\n",
       "      <td>30.000000</td>\n",
       "      <td>4.195594e+07</td>\n",
       "      <td>5.653416e+06</td>\n",
       "      <td>75768.000000</td>\n",
       "      <td>4.000000</td>\n",
       "    </tr>\n",
       "  </tbody>\n",
       "</table>\n",
       "</div>"
      ],
      "text/plain": [
       "               대출금액          연간소득   부채_대비_소득_비율          총계좌수  최근_2년간_연체_횟수  \\\n",
       "count  9.629400e+04  9.629400e+04  96294.000000  96294.000000  96294.000000   \n",
       "mean   1.830400e+07  9.392672e+07     19.379590     25.304827      0.345681   \n",
       "std    1.032908e+07  9.956871e+07     33.569559     12.088566      0.919119   \n",
       "min    1.200000e+06  0.000000e+00      0.000000      4.000000      0.000000   \n",
       "25%    1.020000e+07  5.760000e+07     12.650000     17.000000      0.000000   \n",
       "50%    1.680000e+07  7.800000e+07     18.740000     24.000000      0.000000   \n",
       "75%    2.400000e+07  1.128000e+08     25.540000     32.000000      0.000000   \n",
       "max    4.200000e+07  1.080000e+10   9999.000000    169.000000     30.000000   \n",
       "\n",
       "              총상환원금         총상환이자         총연체금액         연체계좌수  \n",
       "count  9.629400e+04  9.629400e+04  96294.000000  96294.000000  \n",
       "mean   8.225035e+05  4.282282e+05     54.380584      0.005805  \n",
       "std    1.027745e+06  4.402111e+05   1414.769218      0.079966  \n",
       "min    0.000000e+00  0.000000e+00      0.000000      0.000000  \n",
       "25%    3.075720e+05  1.346160e+05      0.000000      0.000000  \n",
       "50%    5.976960e+05  2.870040e+05      0.000000      0.000000  \n",
       "75%    1.055076e+06  5.702160e+05      0.000000      0.000000  \n",
       "max    4.195594e+07  5.653416e+06  75768.000000      4.000000  "
      ]
     },
     "execution_count": 51,
     "metadata": {},
     "output_type": "execute_result"
    }
   ],
   "source": [
    "train_df.describe()"
   ]
  },
  {
   "cell_type": "code",
   "execution_count": 52,
   "metadata": {},
   "outputs": [
    {
     "data": {
      "text/html": [
       "<div>\n",
       "<style scoped>\n",
       "    .dataframe tbody tr th:only-of-type {\n",
       "        vertical-align: middle;\n",
       "    }\n",
       "\n",
       "    .dataframe tbody tr th {\n",
       "        vertical-align: top;\n",
       "    }\n",
       "\n",
       "    .dataframe thead th {\n",
       "        text-align: right;\n",
       "    }\n",
       "</style>\n",
       "<table border=\"1\" class=\"dataframe\">\n",
       "  <thead>\n",
       "    <tr style=\"text-align: right;\">\n",
       "      <th></th>\n",
       "      <th>대출기간</th>\n",
       "      <th>근로기간</th>\n",
       "      <th>주택소유상태</th>\n",
       "      <th>대출목적</th>\n",
       "      <th>대출등급</th>\n",
       "    </tr>\n",
       "  </thead>\n",
       "  <tbody>\n",
       "    <tr>\n",
       "      <th>count</th>\n",
       "      <td>96294</td>\n",
       "      <td>96294</td>\n",
       "      <td>96294</td>\n",
       "      <td>96294</td>\n",
       "      <td>96294</td>\n",
       "    </tr>\n",
       "    <tr>\n",
       "      <th>unique</th>\n",
       "      <td>2</td>\n",
       "      <td>16</td>\n",
       "      <td>4</td>\n",
       "      <td>12</td>\n",
       "      <td>7</td>\n",
       "    </tr>\n",
       "    <tr>\n",
       "      <th>top</th>\n",
       "      <td>36 months</td>\n",
       "      <td>10+ years</td>\n",
       "      <td>MORTGAGE</td>\n",
       "      <td>부채 통합</td>\n",
       "      <td>B</td>\n",
       "    </tr>\n",
       "    <tr>\n",
       "      <th>freq</th>\n",
       "      <td>64479</td>\n",
       "      <td>31585</td>\n",
       "      <td>47934</td>\n",
       "      <td>55150</td>\n",
       "      <td>28817</td>\n",
       "    </tr>\n",
       "  </tbody>\n",
       "</table>\n",
       "</div>"
      ],
      "text/plain": [
       "              대출기간       근로기간    주택소유상태   대출목적   대출등급\n",
       "count        96294      96294     96294  96294  96294\n",
       "unique           2         16         4     12      7\n",
       "top      36 months  10+ years  MORTGAGE  부채 통합      B\n",
       "freq         64479      31585     47934  55150  28817"
      ]
     },
     "execution_count": 52,
     "metadata": {},
     "output_type": "execute_result"
    }
   ],
   "source": [
    "train_df.describe(include='O')"
   ]
  },
  {
   "cell_type": "code",
   "execution_count": 53,
   "metadata": {},
   "outputs": [],
   "source": [
    "# display(train_df[train_df['연간소득']==0])"
   ]
  },
  {
   "cell_type": "markdown",
   "metadata": {},
   "source": [
    "## 시각화를 통한 EDA"
   ]
  },
  {
   "cell_type": "markdown",
   "metadata": {},
   "source": [
    "### 수치형 데이터 시각화"
   ]
  },
  {
   "cell_type": "code",
   "execution_count": 54,
   "metadata": {},
   "outputs": [
    {
     "name": "stdout",
     "output_type": "stream",
     "text": [
      "대출금액  :  1340\n",
      "연간소득  :  7726\n",
      "부채_대비_소득_비율  :  4025\n",
      "총계좌수  :  109\n",
      "최근_2년간_연체_횟수  :  20\n",
      "총상환원금  :  27797\n",
      "총상환이자  :  35626\n",
      "총연체금액  :  109\n",
      "연체계좌수  :  4\n"
     ]
    }
   ],
   "source": [
    "for check_col in ['대출금액', '연간소득', '부채_대비_소득_비율', '총계좌수', '최근_2년간_연체_횟수', '총상환원금', '총상환이자', '총연체금액', '연체계좌수']:\n",
    "    # print(check_col, \" : \", len(set(X_train[check_col]))) # 중복없이 값종류 갯수\n",
    "    print(check_col, \" : \", len(X_train[check_col].unique())) # 중복없이 값종류 갯수"
   ]
  },
  {
   "cell_type": "code",
   "execution_count": 55,
   "metadata": {},
   "outputs": [
    {
     "name": "stdout",
     "output_type": "stream",
     "text": [
      "대출금액  bin :  68\n",
      "연간소득  bin :  100\n",
      "부채_대비_소득_비율  bin :  100\n",
      "총계좌수  bin :  253\n",
      "최근_2년간_연체_횟수  bin :  20\n",
      "총상환원금  bin :  100\n",
      "총상환이자  bin :  100\n"
     ]
    },
    {
     "name": "stderr",
     "output_type": "stream",
     "text": [
      "C:\\Users\\leech\\AppData\\Local\\Temp\\ipykernel_9060\\1436924818.py:30: RuntimeWarning: divide by zero encountered in scalar divide\n",
      "  num_bin = entire_range / bin_width\n"
     ]
    },
    {
     "name": "stdout",
     "output_type": "stream",
     "text": [
      "총연체금액  bin :  18\n",
      "연체계좌수  bin :  4\n"
     ]
    },
    {
     "data": {
      "image/png": "[encoded data removed]",
      "text/plain": [
       "<Figure size 1500x1500 with 9 Axes>"
      ]
     },
     "metadata": {},
     "output_type": "display_data"
    }
   ],
   "source": [
    "#수치형 변수 시각화\n",
    "def get_3_hist_num(data:pd.DataFrame, columns:list, whether_log_scale: bool = True, \n",
    "                                        log_scale_threshold: float = 5000, bin_control: bool =True, num_bin_max: int = 300, num_bin_set: int = 80):\n",
    "    \"\"\" 데이터와 컬럼을 전달하면 히스토그램을 3개씩 출력해주는 함수\n",
    "\n",
    "    Args:\n",
    "        data (pd.DataFrame): 데이터프레임\n",
    "        columns (list): 컬럼 리스트\n",
    "        bar_width_ratio(float): 원하는 비율로 설정 (예시로 0.005 사용)\n",
    "    \"\"\"\n",
    "    num_plots = len(columns)\n",
    "    num_rows = (num_plots + 2) // 3  # 서브플롯의 행 수 계산\n",
    "    num_cols = min(num_plots, 3)  # 서브플롯의 열 수 계산\n",
    "    \n",
    "    fig, axes = plt.subplots(num_rows, num_cols, figsize=(15, 5 * num_rows))\n",
    "    \n",
    "    for i, col in enumerate(columns):\n",
    "        row_idx, col_idx = divmod(i, 3)\n",
    "        axes[row_idx, col_idx].clear()\n",
    "        n_bins = 'auto'\n",
    "        \n",
    "        if bin_control == True :\n",
    "            # Freedman-Diaconis' Choice방식으로 bin 갯수 얼추 계산해본 뒤 판단\n",
    "            entire_range = X_train[col].max() - X_train[col].min() # 데이터 값 최대와 최소 차이\n",
    "            q1 = np.percentile(X_train[col], 25)\n",
    "            q3 = np.percentile(X_train[col], 75)\n",
    "            IQR = q3 - q1\n",
    "            N = X_train[col].count()\n",
    "            bin_width = 2 * (IQR / N**(1/3))\n",
    "            num_bin = entire_range / bin_width\n",
    "            # print(col, \"의 bin : \", num_bin) # 점검용\n",
    "            if len(set(data[col])) <= 20:\n",
    "                n_bins = len(set(data[col]))\n",
    "            elif (not math.isinf(num_bin)) and num_bin > num_bin_max:\n",
    "                n_bins = num_bin_set\n",
    "            else:\n",
    "                n_bins = 'auto' # 지워도 괜찮을듯\n",
    "        \n",
    "        # # Wand 규칙을 사용하여 동적으로 bin의 개수 설정\n",
    "        # if bar_width_ratio < bar_width_ratio_min:  # 전체 스케일에 대한 막대 두께의 비율이 너무 작으면\n",
    "        #     n_bins = int(np.sqrt(len(set(data[col])))*1.0) \n",
    "        #     # 조금더 줄이면 깔끔히 잘보이지 않을까해서 0.8곱했다가 별차이없는듯해서 1.0으로 원 위치(원래 곱해진 것 따로 없었음)\n",
    "        # else:\n",
    "        #     n_bins = 'auto'\n",
    "            \n",
    "        hist, bins, _ = axes[row_idx, col_idx].hist(data[col], bins=n_bins, color='blue', edgecolor='blue', linewidth=0.2, alpha=0.7)\n",
    "        num_bin_actual = len(bins) - 1  # 실제로 그려진 막대의 갯수\n",
    "        #sns.histplot(data[col], ax=axes[row_idx, col_idx], bins=n_bins, color='blue', edgecolor='blue', linewidth=0.2, alpha=0.7, kde=False)\n",
    "        \n",
    "        axes[row_idx, col_idx].set_title(col)\n",
    "        axes[row_idx, col_idx].tick_params(axis='both', which='both', direction='out', length=6, width=0.5)  # 눈금 표시\n",
    "        \n",
    "        bar_heights = [rect.get_height() for rect in axes[row_idx, col_idx].patches]\n",
    "        max_height = max(bar_heights)\n",
    "        min_height = max(min(bar_heights),1)\n",
    "        \n",
    "        # print(col, \" 높이차는 이러함 : \", max_height / min_height, max_height, min_height) # 점검용\n",
    "        print(col, \" bin : \", num_bin_actual) # 점검용\n",
    "        \n",
    "        # 히스토그램 바의 높이 차이에 따라 리니어 스케일 또는 로그 스케일 선택\n",
    "        if whether_log_scale == True and (max_height / min_height) > log_scale_threshold:\n",
    "            axes[row_idx, col_idx].set_yscale('log')  # 로그 스케일로 변환\n",
    "        else:\n",
    "            axes[row_idx, col_idx].set_yscale('linear')  # 리니어 스케일로 유지\n",
    "        \n",
    "        # 전체 그래프 스케일에 대한 막대 자체의 두께 비율 계산\n",
    "        total_width = axes[row_idx, col_idx].get_xlim()[1] - axes[row_idx, col_idx].get_xlim()[0]\n",
    "        \n",
    "        \n",
    "        \n",
    "        # 히스토그램 바의 두께가 조건에 따라 테두리 색 설정\n",
    "        for rect in axes[row_idx, col_idx].patches:\n",
    "            bar_width = rect.get_width()\n",
    "            if bar_width / total_width > 0.005: # 그냥 저쯤보다 얇은 경우 테두리 없는게 나은듯해서 설정해줌\n",
    "                rect.set_edgecolor('black')\n",
    "            else:\n",
    "                rect.set_edgecolor('none')  # 얇은 경우에는 테두리 없애기\n",
    "        \n",
    "        # # Seaborn axis 객체로부터 눈금 위치 확인\n",
    "        # tick_locs = sns.histplot(data[col]).axes.get_xticks()\n",
    "        # print(f\"{col}의 현재 x 축 눈금 위치: {tick_locs}\")\n",
    "\n",
    "    # 남은 서브플롯에 빈 그래프 그리기\n",
    "    for i in range(num_plots, num_rows * num_cols):\n",
    "        row_idx, col_idx = divmod(i, 3)\n",
    "        axes[row_idx, col_idx].clear()  # 남은 서브플롯 비우기\n",
    "        axes[row_idx, col_idx].axis('off')  # 빈 서브플롯 제거\n",
    "        \n",
    "    \n",
    "\n",
    "    # 전체 그림 표시\n",
    "    plt.tight_layout()\n",
    "    plt.show()\n",
    "get_3_hist_num(X_train, numeric_col, log_scale_threshold=8000, num_bin_max=270, num_bin_set=100)"
   ]
  },
  {
   "cell_type": "code",
   "execution_count": 56,
   "metadata": {},
   "outputs": [
    {
     "data": {
      "text/plain": [
       "<Axes: xlabel='총상환이자', ylabel='Count'>"
      ]
     },
     "execution_count": 56,
     "metadata": {},
     "output_type": "execute_result"
    },
    {
     "data": {
      "image/png": "[encoded data removed]",
      "text/plain": [
       "<Figure size 640x480 with 1 Axes>"
      ]
     },
     "metadata": {},
     "output_type": "display_data"
    }
   ],
   "source": [
    "sns.histplot(X_train, x='총상환이자', bins=200)"
   ]
  },
  {
   "cell_type": "code",
   "execution_count": 57,
   "metadata": {},
   "outputs": [
    {
     "data": {
      "text/plain": [
       "총상환이자\n",
       "0.0          5444\n",
       "156144.0       77\n",
       "99312.0        73\n",
       "85596.0        71\n",
       "147276.0       70\n",
       "             ... \n",
       "917364.0        1\n",
       "774948.0        1\n",
       "1131756.0       1\n",
       "567804.0        1\n",
       "818076.0        1\n",
       "Name: count, Length: 35626, dtype: int64"
      ]
     },
     "execution_count": 57,
     "metadata": {},
     "output_type": "execute_result"
    }
   ],
   "source": [
    "X_train['총상환이자'].value_counts()"
   ]
  },
  {
   "cell_type": "code",
   "execution_count": 58,
   "metadata": {},
   "outputs": [
    {
     "data": {
      "text/plain": [
       "부채_대비_소득_비율\n",
       "9999.0    1\n",
       "Name: count, dtype: int64"
      ]
     },
     "execution_count": 58,
     "metadata": {},
     "output_type": "execute_result"
    }
   ],
   "source": [
    "X_train[X_train['부채_대비_소득_비율']>2000]['부채_대비_소득_비율'].value_counts() # -> 이상치로 판단"
   ]
  },
  {
   "cell_type": "code",
   "execution_count": 59,
   "metadata": {},
   "outputs": [
    {
     "name": "stdout",
     "output_type": "stream",
     "text": [
      "최근_2년간_연체_횟수\n",
      "0    76392\n",
      "Name: count, dtype: int64\n",
      "최근_2년간_연체_횟수\n",
      "1     13079\n",
      "2      3896\n",
      "3      1430\n",
      "4       697\n",
      "5       338\n",
      "6       178\n",
      "7        86\n",
      "8        67\n",
      "9        40\n",
      "10       35\n",
      "11       21\n",
      "12        9\n",
      "14        8\n",
      "13        8\n",
      "16        4\n",
      "18        2\n",
      "15        2\n",
      "17        1\n",
      "30        1\n",
      "Name: count, dtype: int64\n"
     ]
    }
   ],
   "source": [
    "print(X_train[X_train['최근_2년간_연체_횟수']==0]['최근_2년간_연체_횟수'].value_counts())\n",
    "print(X_train[X_train['최근_2년간_연체_횟수']>0]['최근_2년간_연체_횟수'].value_counts())"
   ]
  },
  {
   "cell_type": "code",
   "execution_count": 60,
   "metadata": {},
   "outputs": [
    {
     "data": {
      "text/plain": [
       "96113"
      ]
     },
     "execution_count": 60,
     "metadata": {},
     "output_type": "execute_result"
    }
   ],
   "source": [
    "X_train[X_train['총연체금액']<1]['총연체금액'].count()"
   ]
  },
  {
   "cell_type": "markdown",
   "metadata": {},
   "source": [
    "#### 판단\n",
    "- '연간소득': 로그스케일 고려할 필요 없을듯 최소랑 최대랑 그리 막 차이 나진 않아서\n",
    "- '부채_대비_소득_비율': 9999.0으로 이상치 하나 있는 것으로 판단됨\n",
    "- '최근_2년간_연체_횟수': <u>__0인 것과 아닌 것 구분해서 범주 컬럼으로 하나 추가해주기__</u>, log스케일은 할 필요 없을듯, 17이후 30이라 30을 이상치로 볼지는 염두만\n",
    "- '총상환원금': 로그스케일 고려할 필요 없을듯 최소랑 최대랑 그리 막 차이 나진 않아서\n",
    "- '총상환이자': <u>__0인 것과 아닌 것 구분해서 범주 컬럼으로 하나 추가해주기__</u>, 로그스케일 고려할 필요 없을듯 최소랑 최대랑 그리 막 차이 나진 않아서\n",
    "- '총연체금액': <u>__0인 것과 아닌 것 구분해서 범주 컬럼으로 하나 추가해주기__</u>, 로그스케일 고려\n",
    "- '연체계좌수': <u>__0인 것과 아닌 것 구분해서 범주 컬럼으로 하나 추가해주기__</u>\n"
   ]
  },
  {
   "cell_type": "markdown",
   "metadata": {},
   "source": [
    "### 범주형 데이터 시각화"
   ]
  },
  {
   "cell_type": "code",
   "execution_count": 61,
   "metadata": {},
   "outputs": [],
   "source": [
    "# # 범주형 변수 시각화(countplot) # 개선 필요\n",
    "# def get_3_countplot_category(data:pd.DataFrame, columns:list, log_scale_threshold: float = 5000):\n",
    "#     \"\"\" 데이터와 컬럼을 전달하면 히스토그램을 3개씩 출력해주는 함수\n",
    "\n",
    "#     Args:\n",
    "#         data (pd.DataFrame): 데이터프레임\n",
    "#         columns (list): 컬럼 리스트\n",
    "#         bar_width_ratio(float): 원하는 비율로 설정 (예시로 0.005 사용)\n",
    "#     \"\"\"\n",
    "#     num_plots = len(columns)\n",
    "#     num_rows = (num_plots + 2) // 3  # 서브플롯의 행 수 계산\n",
    "#     num_cols = min(num_plots, 3)  # 서브플롯의 열 수 계산\n",
    "    \n",
    "#     fig, axes = plt.subplots(num_rows, num_cols, figsize=(15, 5 * num_rows))\n",
    "    \n",
    "#     for i, col in enumerate(columns):\n",
    "#         if num_rows == 1:\n",
    "#             col_idx = i  # 수정된 부분\n",
    "#             axes[col_idx].clear()\n",
    "#             n_bins = 'auto'\n",
    "#             sns.countplot(data=data, x=col, ax=axes[col_idx])  # 수정된 부분\n",
    "#             max_length = max(data[col].astype(str).apply(len))  # 열의 최대 길이 계산\n",
    "#             if max_length > 10:\n",
    "#                 for tick in axes[col_idx][0].get_xticklabels():\n",
    "#                     tick.set_rotation(45)  # 값이 10글자 이상인 경우 rotation=45 적용\n",
    "#         else:\n",
    "#             row_idx, col_idx = divmod(i, 3)\n",
    "#             axes[row_idx, col_idx].clear()\n",
    "#             n_bins = 'auto'\n",
    "#             sns.countplot(data=data, x=col, ax=axes[row_idx, col_idx])\n",
    "#             max_length = max(data[col].astype(str).apply(len))  # 열의 최대 길이 계산\n",
    "#             if max_length > 10:\n",
    "#                 for tick in axes[col_idx][0].get_xticklabels():\n",
    "#                     tick.set_rotation(45)  # 값이 10글자 이상인 경우 rotation=45 적용\n",
    "\n",
    "#     # 전체 그림 표시\n",
    "#     plt.tight_layout()\n",
    "#     plt.show()\n",
    "# get_3_countplot_category(X_train, category_col)"
   ]
  },
  {
   "cell_type": "code",
   "execution_count": 62,
   "metadata": {},
   "outputs": [
    {
     "data": {
      "image/png": "[encoded data removed]",
      "text/plain": [
       "<Figure size 1500x1000 with 6 Axes>"
      ]
     },
     "metadata": {},
     "output_type": "display_data"
    }
   ],
   "source": [
    "import matplotlib.pyplot as plt\n",
    "import seaborn as sns\n",
    "\n",
    "def get_3_countplot_category(data: pd.DataFrame, columns: list, log_scale_threshold: float = 5000):\n",
    "    \"\"\" 데이터와 컬럼을 전달하면 히스토그램을 3개씩 출력해주는 함수\n",
    "\n",
    "    Args:\n",
    "        data (pd.DataFrame): 데이터프레임\n",
    "        columns (list): 컬럼 리스트\n",
    "        log_scale_threshold (float): 로그 스케일 적용을 위한 임계값\n",
    "    \"\"\"\n",
    "    num_plots = len(columns)\n",
    "    num_rows = (num_plots + 2) // 3  # 서브플롯의 행 수 계산\n",
    "    num_cols = min(num_plots, 3)  # 서브플롯의 열 수 계산\n",
    "    \n",
    "    fig, axes = plt.subplots(num_rows, num_cols, figsize=(15, 5 * num_rows))\n",
    "    \n",
    "    for i, col in enumerate(columns):\n",
    "        row_idx, col_idx = divmod(i, 3)\n",
    "        axes[row_idx, col_idx].clear()\n",
    "        n_bins = 'auto'\n",
    "        \n",
    "        sns.countplot(data=data, x=col, ax=axes[row_idx, col_idx])\n",
    "        max_length = max(data[col].astype(str).apply(len))  # 열의 최대 길이 계산\n",
    "        \n",
    "        if max_length > 10:\n",
    "            for tick in axes[row_idx, col_idx].get_xticklabels():\n",
    "                tick.set_rotation(45)  # 값이 10글자 이상인 경우 rotation=45 적용\n",
    "\n",
    "    # 전체 그림 표시\n",
    "    plt.tight_layout()\n",
    "    plt.show()\n",
    "\n",
    "# 예시로 함수 적용\n",
    "get_3_countplot_category(X_train, category_col)\n"
   ]
  },
  {
   "cell_type": "code",
   "execution_count": 63,
   "metadata": {},
   "outputs": [
    {
     "data": {
      "image/png": "[encoded data removed]",
      "text/plain": [
       "<Figure size 640x480 with 1 Axes>"
      ]
     },
     "metadata": {},
     "output_type": "display_data"
    },
    {
     "data": {
      "image/png": "[encoded data removed]",
      "text/plain": [
       "<Figure size 640x480 with 1 Axes>"
      ]
     },
     "metadata": {},
     "output_type": "display_data"
    },
    {
     "data": {
      "image/png": "[encoded data removed]",
      "text/plain": [
       "<Figure size 640x480 with 1 Axes>"
      ]
     },
     "metadata": {},
     "output_type": "display_data"
    },
    {
     "data": {
      "image/png": "[encoded data removed]",
      "text/plain": [
       "<Figure size 640x480 with 1 Axes>"
      ]
     },
     "metadata": {},
     "output_type": "display_data"
    }
   ],
   "source": [
    "for plot_col in category_col:\n",
    "    sns.histplot(X_train, x=plot_col)\n",
    "    if plot_col in ['근로기간', '대출목적']:\n",
    "        plt.xticks(rotation=90)  # 그래프 x축 라벨 45도 회전\n",
    "    if plot_col in ['주택소유상태', '대출목적']:\n",
    "        plt.yscale('log')  # y축을 로그 스케일로 변환\n",
    "    plt.show()"
   ]
  },
  {
   "cell_type": "code",
   "execution_count": 64,
   "metadata": {},
   "outputs": [
    {
     "data": {
      "text/plain": [
       "array(['6 years', '10+ years', '5 years', '8 years', 'Unknown', '9 years',\n",
       "       '2 years', '1 year', '3 years', '7 years', '4 years', '< 1 year',\n",
       "       '10+years', '<1 year', '3', '1 years'], dtype=object)"
      ]
     },
     "execution_count": 64,
     "metadata": {},
     "output_type": "execute_result"
    }
   ],
   "source": [
    "X_train['근로기간'].unique()"
   ]
  },
  {
   "cell_type": "markdown",
   "metadata": {},
   "source": [
    "#### 근로기간에 잘못 적힌 값이 많은듯 \n",
    "- 10+years를 10+ years 로 통일시켜주기\n",
    "- < 1 year를 <1 year로 통일시켜주거나, 아니면 0 year로 통일시켜주기\n",
    "- 1 years를 1 year로 통일시켜주기\n",
    "- 3을 3 years로 통일시켜주기\n"
   ]
  },
  {
   "cell_type": "code",
   "execution_count": 65,
   "metadata": {},
   "outputs": [
    {
     "data": {
      "text/plain": [
       "1"
      ]
     },
     "execution_count": 65,
     "metadata": {},
     "output_type": "execute_result"
    }
   ],
   "source": [
    "X_train[X_train['주택소유상태']=='ANY']['주택소유상태'].count()"
   ]
  },
  {
   "cell_type": "markdown",
   "metadata": {},
   "source": [
    "#### 주택소유상태 표시 의미\n",
    "주택 소유 상태를 나타내는 단어에서 각각의 의미는 다음과 같습니다:\n",
    "\n",
    "RENT (임대): 주택을 소유하지 않고 대신 임대(또는 전세)하는 상태를 나타냅니다. 임차인은 일정 기간 동안 주택을 사용할 수 있지만 소유권은 없습니다.    \n",
    "MORTGAGE (담보): 주택을 구매하기 위해 대출을 받고, 그 주택을 담보로 제공하는 상태를 나타냅니다. 대출을 상환하면서 주택의 소유권은 점차 대출을 상환하는 사람(대출자)에게 이전됩니다.     \n",
    "OWN (소유): 주택을 소유하고 있는 상태를 나타냅니다. 소유자는 주택의 완전한 소유 및 권한을 가지며, 언제든지 주택을 판매하거나 대여할 수 있습니다.    \n",
    "ANY (어느 것도 아닌): \"ANY\"는 일반적으로 선택지가 없음을 나타내며, 주택 소유 상태를 명시적으로 나타내지 않는 경우에 사용될 수 있습니다. "
   ]
  },
  {
   "cell_type": "code",
   "execution_count": 66,
   "metadata": {},
   "outputs": [
    {
     "data": {
      "text/plain": [
       "60"
      ]
     },
     "execution_count": 66,
     "metadata": {},
     "output_type": "execute_result"
    }
   ],
   "source": [
    "X_train[X_train['대출목적']=='재생 에너지']['대출목적'].count()"
   ]
  },
  {
   "cell_type": "markdown",
   "metadata": {},
   "source": [
    "# 데이터 전처리\n",
    "- 이상치\n",
    "\t- 부채_대비_소득_비율 9999.0로 이상치 하나 존재 제거 \n",
    "\t\t-> IQR을 이용한 이상치 제거 함수 제작\n",
    "- 결측치\n",
    "\t- 근로기간 결측치 Unknown 처리 고민 , Unkown형태는 없었지만 더 확인해볼 필요는 있을듯\n",
    "- 값 형식 불일치\n",
    "\t- 근로기간 값 형식이 일치 안된 것이 많아서\n",
    "\t\t- 10+years를 10+ years 로 통일시켜주기\n",
    "\t\t- < 1 year를 <1 year로 통일시켜주거나, 아니면 0 year로 통일시켜주기\n",
    "\t\t- 1 years를 1 year로 통일시켜주기\n",
    "\t\t- 3을 3 years로 통일시켜주기\n",
    "- 데이터 형식 바꿔주기\n",
    "\t- 범주형 데이터 object에서 category로 형식 변경, 그리고 카테고리 순서정해줄 것은 순서 정해주기\n",
    "- 데이터 비율 맞춰주기 위해 Oversampleing\n",
    "\t- 단, SMOTE 알고리즘은 수치형 데이터에만 쓸 수 있으니\n",
    "    - SMOTE를 범주형 데이터에도 쓸 수 있게 확장한 SMOTENC를 사용\n",
    "- 컬럼 분리\n",
    "\t- 최근_2년간_연체_횟수, 총상환이자, 총연체금액, 연체계좌수 : 0인 것과 아닌 것 구분해서 범주컬럼으로 추가해주기\n",
    "\n",
    "- 스케일링\n",
    "\t- 수동 로그스케일링:\n",
    "\t\t- 총연체금액: 로그스케일링해주기\n",
    "- 인코딩\n",
    "\t- 순서 인코딩:\n",
    "\t- 레이블 인코딩: 대출기간, 근로기간\n",
    "\t- 원-핫 인코딩 : 주택소유상태, 대출목적\n",
    "\t\t- get_dummy:\n",
    "\t\t- 원-핫 인코딩:"
   ]
  },
  {
   "cell_type": "markdown",
   "metadata": {},
   "source": [
    "## 이상치 확인, 제거\n",
    "/* - 부채_대비_소득_비율 9999.0로 이상치 하나 존재 제거 */"
   ]
  },
  {
   "cell_type": "code",
   "execution_count": 67,
   "metadata": {},
   "outputs": [
    {
     "name": "stdout",
     "output_type": "stream",
     "text": [
      "'대출금액' 열에는 이상치가 없습니다.\n",
      "'연간소득' 열에는 4347개의 이상치가 있어, 전체의 4.51%가 이상치입니다\n",
      "'부채_대비_소득_비율' 열에는 30개의 이상치가 있어, 전체의 0.03%가 이상치입니다\n",
      "'총계좌수' 열에는 2097개의 이상치가 있어, 전체의 2.18%가 이상치입니다\n",
      "'최근_2년간_연체_횟수' 열에는 19902개의 이상치가 있어, 전체의 20.67%가 이상치입니다\n",
      "'총상환원금' 열에는 5196개의 이상치가 있어, 전체의 5.40%가 이상치입니다\n",
      "'총상환이자' 열에는 5878개의 이상치가 있어, 전체의 6.10%가 이상치입니다\n",
      "'총연체금액' 열에는 181개의 이상치가 있어, 전체의 0.19%가 이상치입니다\n",
      "'연체계좌수' 열에는 532개의 이상치가 있어, 전체의 0.55%가 이상치입니다\n",
      "{'대출금액': False, '연간소득': True, '부채_대비_소득_비율': True, '총계좌수': True, '최근_2년간_연체_횟수': True, '총상환원금': True, '총상환이자': True, '총연체금액': True, '연체계좌수': True}\n"
     ]
    }
   ],
   "source": [
    "def check_outliers_in_columns(data: pd.DataFrame, numeric_col: list, threshold: float = 1.5) -> dict:\n",
    "    \"\"\"\n",
    "    주어진 열 리스트에 대해 각각 이상치가 있는지 없는지 확인하는 함수\n",
    "\n",
    "    Args:\n",
    "        data (pd.DataFrame): 대상 데이터프레임\n",
    "        numeric_col (list): 이상치를 확인할 수치형 열의 리스트\n",
    "        threshold (float): 이상치를 판단하는 기준 값. 기본값은 1.5.\n",
    "        -> Q3, Q1에서 상, 하향으로 IQR*1.5배 떨어지면 상, 하향 이상치로 판단한다\n",
    "\n",
    "    Returns:\n",
    "        dict: 각 열의 이상치 존재 여부를 담은 딕셔너리. 이상치가 있으면 True, 없으면 False\n",
    "    \"\"\"\n",
    "    outliers_dict = {}\n",
    "\n",
    "    for column in numeric_col:\n",
    "        # 해당 열의 1사분위수(Q1)와 3사분위수(Q3) 계산\n",
    "        Q1 = data[column].quantile(0.25)\n",
    "        Q3 = data[column].quantile(0.75)\n",
    "\n",
    "        # IQR 계산\n",
    "        IQR = Q3 - Q1\n",
    "\n",
    "        # 이상치의 상한, 하한 값 계산\n",
    "        upper_bound = Q3 + threshold * IQR\n",
    "        lower_bound = Q1 - threshold * IQR\n",
    "\n",
    "        # 이상치 여부 확인\n",
    "        outliers = (data[column] < lower_bound) | (data[column] > upper_bound)\n",
    "        has_outliers = outliers.any()\n",
    "\n",
    "        # 이상치 여부를 딕셔너리에 저장\n",
    "        outliers_dict[column] = has_outliers\n",
    "\n",
    "        # 이상치가 있으면, 이상치의 개수와 비율 출력\n",
    "        if has_outliers:\n",
    "            outliers_count = outliers.sum()\n",
    "            outliers_ratio = outliers_count / len(data) * 100\n",
    "            print(f\"'{column}' 열에는 {outliers_count}개의 이상치가 있어, 전체의 {outliers_ratio:.2f}%가 이상치입니다\")\n",
    "        else :\n",
    "            print(f\"'{column}' 열에는 이상치가 없습니다.\")\n",
    "\n",
    "    return outliers_dict\n",
    "\n",
    "\n",
    "# 각 열에 대해 이상치 확인\n",
    "outliers_dict = check_outliers_in_columns(X_train, numeric_col)\n",
    "print(outliers_dict)\n"
   ]
  },
  {
   "cell_type": "code",
   "execution_count": 68,
   "metadata": {},
   "outputs": [],
   "source": [
    "# 2000이상으로 값이 9999.0 하나 밖에 존재하지 않음\n",
    "# 제거하고 나도 조금 떨어져 있는 듯한 녀석들이 있어서 전에 전처리 개인과제때 이상치 제거 함수 가져와서 통계적인 방법으로 이상치 제거하는게 나을듯\n",
    "# def to_remove_Outlier(data:pd.DataFrame = X_train): # train 데이터에 대해서만 해주면 될듯\n",
    "#     data = data[data['부채_대비_소득_비율']<3000] #<600\n",
    "#     return data\n",
    "# X_train = to_remove_Outlier(X_train) # 이건 또 지역변수로 되었는지 값 반영안되서 반영"
   ]
  },
  {
   "cell_type": "code",
   "execution_count": 69,
   "metadata": {},
   "outputs": [
    {
     "name": "stdout",
     "output_type": "stream",
     "text": [
      "'대출금액' 열에서 대체될 이상치의 갯수: 0\n",
      "'연간소득' 열에서 대체될 이상치의 갯수: 4347\n",
      "'부채_대비_소득_비율' 열에서 대체될 이상치의 갯수: 30\n",
      "'총계좌수' 열에서 대체될 이상치의 갯수: 2097\n",
      "'최근_2년간_연체_횟수' 열에서 대체될 이상치의 갯수: 19902\n",
      "'총상환원금' 열에서 대체될 이상치의 갯수: 5196\n",
      "'총상환이자' 열에서 대체될 이상치의 갯수: 5878\n",
      "'총연체금액' 열에서 대체될 이상치의 갯수: 181\n",
      "'연체계좌수' 열에서 대체될 이상치의 갯수: 532\n"
     ]
    },
    {
     "name": "stderr",
     "output_type": "stream",
     "text": [
      "C:\\Users\\leech\\AppData\\Local\\Temp\\ipykernel_9060\\3862642631.py:47: FutureWarning: Setting an item of incompatible dtype is deprecated and will raise an error in a future version of pandas. Value '18303998.068415478' has dtype incompatible with int64, please explicitly cast to a compatible dtype first.\n",
      "  data_filled.loc[outliers, column] = fill_value\n",
      "C:\\Users\\leech\\AppData\\Local\\Temp\\ipykernel_9060\\3862642631.py:47: FutureWarning: Setting an item of incompatible dtype is deprecated and will raise an error in a future version of pandas. Value '93926724.67779924' has dtype incompatible with int64, please explicitly cast to a compatible dtype first.\n",
      "  data_filled.loc[outliers, column] = fill_value\n",
      "C:\\Users\\leech\\AppData\\Local\\Temp\\ipykernel_9060\\3862642631.py:47: FutureWarning: Setting an item of incompatible dtype is deprecated and will raise an error in a future version of pandas. Value '25.304826884333394' has dtype incompatible with int64, please explicitly cast to a compatible dtype first.\n",
      "  data_filled.loc[outliers, column] = fill_value\n",
      "C:\\Users\\leech\\AppData\\Local\\Temp\\ipykernel_9060\\3862642631.py:47: FutureWarning: Setting an item of incompatible dtype is deprecated and will raise an error in a future version of pandas. Value '0.3456809354684612' has dtype incompatible with int64, please explicitly cast to a compatible dtype first.\n",
      "  data_filled.loc[outliers, column] = fill_value\n",
      "C:\\Users\\leech\\AppData\\Local\\Temp\\ipykernel_9060\\3862642631.py:47: FutureWarning: Setting an item of incompatible dtype is deprecated and will raise an error in a future version of pandas. Value '822503.486198517' has dtype incompatible with int64, please explicitly cast to a compatible dtype first.\n",
      "  data_filled.loc[outliers, column] = fill_value\n"
     ]
    }
   ],
   "source": [
    "def replace_outliers_in_columns_iqr(data: pd.DataFrame, numeric_col: list, threshold: float = 1.5, fill_with: str = 'mean') -> pd.DataFrame:\n",
    "    \"\"\"\n",
    "    주어진 열 리스트에 대해 각각 IQR을 이용하여 이상치를 대체하는 함수\n",
    "\n",
    "    Args:\n",
    "        data (pd.DataFrame): 대상 데이터프레임\n",
    "        numeric_col (list): 이상치를 확인할 수치형 열의 리스트\n",
    "        threshold (float): 이상치를 판단하는 기준 값. 기본값은 1.5. \n",
    "        -> Q3, Q1에서 상, 하향으로 IQR*1.5배 떨어지면 상, 하향 이상치로 판단한다\n",
    "        fill_with (str): 이상치를 대체할 값의 종류. 기본값은 'mean'. 'median', 'mode' 가능\n",
    "\n",
    "    Returns:\n",
    "        pd.DataFrame: 이상치가 대체된 데이터프레임\n",
    "    \"\"\"\n",
    "    data_filled = data.copy()\n",
    "\n",
    "    for column in numeric_col:\n",
    "        # 해당 열의 1사분위수(Q1)와 3사분위수(Q3) 계산\n",
    "        Q1 = data[column].quantile(0.25)\n",
    "        Q3 = data[column].quantile(0.75)\n",
    "\n",
    "        # IQR 계산\n",
    "        IQR = Q3 - Q1\n",
    "\n",
    "        # 이상치의 상한, 하한 값 계산\n",
    "        upper_bound = Q3 + threshold * IQR\n",
    "        lower_bound = Q1 - threshold * IQR\n",
    "\n",
    "        # 이상치를 대체할 값 결정\n",
    "        if fill_with == 'mean':\n",
    "            fill_value = data[column].mean()\n",
    "        elif fill_with == 'median':\n",
    "            fill_value = data[column].median()\n",
    "        elif fill_with == 'mode':\n",
    "            fill_value = data[column].mode()[0]\n",
    "        else:\n",
    "            raise ValueError(\"'fill_with'는 'mean', 'median', 'mode' 중 하나여야 합니다\")\n",
    "\n",
    "        # 이상치 찾기\n",
    "        outliers = (data_filled[column] < lower_bound) | (data_filled[column] > upper_bound)\n",
    "\n",
    "        # 이상치 대체 전 이상치의 개수 계산 및 출력\n",
    "        outliers_count_before = outliers.sum()\n",
    "        print(f\"'{column}' 열에서 대체될 이상치의 갯수: {outliers_count_before}\")\n",
    "\n",
    "        # 이상치 대체\n",
    "        data_filled.loc[outliers, column] = fill_value\n",
    "\n",
    "    return data_filled\n",
    "\n",
    "# 각 열에 대해 이상치 대체 적용\n",
    "X_train_no_outliers = replace_outliers_in_columns_iqr(X_train, numeric_col, fill_with='mean')\n",
    "\n",
    "# X_train 업데이트\n",
    "X_train = X_train_no_outliers\n"
   ]
  },
  {
   "cell_type": "code",
   "execution_count": 70,
   "metadata": {},
   "outputs": [
    {
     "data": {
      "text/html": [
       "<div>\n",
       "<style scoped>\n",
       "    .dataframe tbody tr th:only-of-type {\n",
       "        vertical-align: middle;\n",
       "    }\n",
       "\n",
       "    .dataframe tbody tr th {\n",
       "        vertical-align: top;\n",
       "    }\n",
       "\n",
       "    .dataframe thead th {\n",
       "        text-align: right;\n",
       "    }\n",
       "</style>\n",
       "<table border=\"1\" class=\"dataframe\">\n",
       "  <thead>\n",
       "    <tr style=\"text-align: right;\">\n",
       "      <th></th>\n",
       "      <th>대출금액</th>\n",
       "      <th>연간소득</th>\n",
       "      <th>부채_대비_소득_비율</th>\n",
       "      <th>총계좌수</th>\n",
       "      <th>최근_2년간_연체_횟수</th>\n",
       "      <th>총상환원금</th>\n",
       "      <th>총상환이자</th>\n",
       "      <th>총연체금액</th>\n",
       "      <th>연체계좌수</th>\n",
       "    </tr>\n",
       "  </thead>\n",
       "  <tbody>\n",
       "    <tr>\n",
       "      <th>count</th>\n",
       "      <td>9.629400e+04</td>\n",
       "      <td>9.629400e+04</td>\n",
       "      <td>96294.000000</td>\n",
       "      <td>96294.000000</td>\n",
       "      <td>96294.000000</td>\n",
       "      <td>9.629400e+04</td>\n",
       "      <td>9.629400e+04</td>\n",
       "      <td>96294.000000</td>\n",
       "      <td>96294.000000</td>\n",
       "    </tr>\n",
       "    <tr>\n",
       "      <th>mean</th>\n",
       "      <td>1.830400e+07</td>\n",
       "      <td>8.433681e+07</td>\n",
       "      <td>19.246458</td>\n",
       "      <td>24.470489</td>\n",
       "      <td>0.071445</td>\n",
       "      <td>6.833802e+05</td>\n",
       "      <td>3.508325e+05</td>\n",
       "      <td>0.102217</td>\n",
       "      <td>0.000032</td>\n",
       "    </tr>\n",
       "    <tr>\n",
       "      <th>std</th>\n",
       "      <td>1.032908e+07</td>\n",
       "      <td>3.674654e+07</td>\n",
       "      <td>8.696835</td>\n",
       "      <td>10.554160</td>\n",
       "      <td>0.139975</td>\n",
       "      <td>4.813380e+05</td>\n",
       "      <td>2.778366e+05</td>\n",
       "      <td>2.355468</td>\n",
       "      <td>0.000430</td>\n",
       "    </tr>\n",
       "    <tr>\n",
       "      <th>min</th>\n",
       "      <td>1.200000e+06</td>\n",
       "      <td>0.000000e+00</td>\n",
       "      <td>0.000000</td>\n",
       "      <td>4.000000</td>\n",
       "      <td>0.000000</td>\n",
       "      <td>0.000000e+00</td>\n",
       "      <td>0.000000e+00</td>\n",
       "      <td>0.000000</td>\n",
       "      <td>0.000000</td>\n",
       "    </tr>\n",
       "    <tr>\n",
       "      <th>25%</th>\n",
       "      <td>1.020000e+07</td>\n",
       "      <td>5.760000e+07</td>\n",
       "      <td>12.650000</td>\n",
       "      <td>17.000000</td>\n",
       "      <td>0.000000</td>\n",
       "      <td>3.075720e+05</td>\n",
       "      <td>1.346160e+05</td>\n",
       "      <td>0.000000</td>\n",
       "      <td>0.000000</td>\n",
       "    </tr>\n",
       "    <tr>\n",
       "      <th>50%</th>\n",
       "      <td>1.680000e+07</td>\n",
       "      <td>7.800000e+07</td>\n",
       "      <td>18.740000</td>\n",
       "      <td>24.000000</td>\n",
       "      <td>0.000000</td>\n",
       "      <td>5.976960e+05</td>\n",
       "      <td>2.870040e+05</td>\n",
       "      <td>0.000000</td>\n",
       "      <td>0.000000</td>\n",
       "    </tr>\n",
       "    <tr>\n",
       "      <th>75%</th>\n",
       "      <td>2.400000e+07</td>\n",
       "      <td>1.038000e+08</td>\n",
       "      <td>25.530000</td>\n",
       "      <td>31.000000</td>\n",
       "      <td>0.000000</td>\n",
       "      <td>9.151320e+05</td>\n",
       "      <td>4.779810e+05</td>\n",
       "      <td>0.000000</td>\n",
       "      <td>0.000000</td>\n",
       "    </tr>\n",
       "    <tr>\n",
       "      <th>max</th>\n",
       "      <td>4.200000e+07</td>\n",
       "      <td>1.956000e+08</td>\n",
       "      <td>44.430000</td>\n",
       "      <td>54.000000</td>\n",
       "      <td>0.345681</td>\n",
       "      <td>2.175780e+06</td>\n",
       "      <td>1.223556e+06</td>\n",
       "      <td>54.380584</td>\n",
       "      <td>0.005805</td>\n",
       "    </tr>\n",
       "  </tbody>\n",
       "</table>\n",
       "</div>"
      ],
      "text/plain": [
       "               대출금액          연간소득   부채_대비_소득_비율          총계좌수  최근_2년간_연체_횟수  \\\n",
       "count  9.629400e+04  9.629400e+04  96294.000000  96294.000000  96294.000000   \n",
       "mean   1.830400e+07  8.433681e+07     19.246458     24.470489      0.071445   \n",
       "std    1.032908e+07  3.674654e+07      8.696835     10.554160      0.139975   \n",
       "min    1.200000e+06  0.000000e+00      0.000000      4.000000      0.000000   \n",
       "25%    1.020000e+07  5.760000e+07     12.650000     17.000000      0.000000   \n",
       "50%    1.680000e+07  7.800000e+07     18.740000     24.000000      0.000000   \n",
       "75%    2.400000e+07  1.038000e+08     25.530000     31.000000      0.000000   \n",
       "max    4.200000e+07  1.956000e+08     44.430000     54.000000      0.345681   \n",
       "\n",
       "              총상환원금         총상환이자         총연체금액         연체계좌수  \n",
       "count  9.629400e+04  9.629400e+04  96294.000000  96294.000000  \n",
       "mean   6.833802e+05  3.508325e+05      0.102217      0.000032  \n",
       "std    4.813380e+05  2.778366e+05      2.355468      0.000430  \n",
       "min    0.000000e+00  0.000000e+00      0.000000      0.000000  \n",
       "25%    3.075720e+05  1.346160e+05      0.000000      0.000000  \n",
       "50%    5.976960e+05  2.870040e+05      0.000000      0.000000  \n",
       "75%    9.151320e+05  4.779810e+05      0.000000      0.000000  \n",
       "max    2.175780e+06  1.223556e+06     54.380584      0.005805  "
      ]
     },
     "execution_count": 70,
     "metadata": {},
     "output_type": "execute_result"
    }
   ],
   "source": [
    "X_train.describe()"
   ]
  },
  {
   "cell_type": "code",
   "execution_count": 71,
   "metadata": {},
   "outputs": [
    {
     "data": {
      "text/plain": [
       "array(['6 years', '10+ years', '5 years', '8 years', 'Unknown', '9 years',\n",
       "       '2 years', '1 year', '3 years', '7 years', '4 years', '< 1 year',\n",
       "       '10+years', '<1 year', '3', '1 years'], dtype=object)"
      ]
     },
     "execution_count": 71,
     "metadata": {},
     "output_type": "execute_result"
    }
   ],
   "source": [
    "# X_train['부채_대비_소득_비율'].skew()\n",
    "X_train['근로기간'].unique()"
   ]
  },
  {
   "cell_type": "code",
   "execution_count": 72,
   "metadata": {},
   "outputs": [
    {
     "data": {
      "image/png": "[encoded data removed]",
      "text/plain": [
       "<Figure size 640x480 with 1 Axes>"
      ]
     },
     "metadata": {},
     "output_type": "display_data"
    }
   ],
   "source": [
    "# 이상치 제거후 확인\n",
    "sns.histplot(data=X_train, x='부채_대비_소득_비율', bins=200)\n",
    "plt.yscale('log')\n",
    "plt.show()"
   ]
  },
  {
   "cell_type": "markdown",
   "metadata": {},
   "source": [
    "##  결측치 처리\n",
    "- 제거하거나 최빈값으로 대치해주면 될듯하나 일단 패스\n",
    "- 근로기간 결측치 Unknown 처리 고민 , Unkown형태는 없었지만 더 확인해볼 필요는 있을듯\n",
    "    - 각 범주의 갯수의 평균 약 6018인데 Unknown의 갯수는 5670 이며  \n",
    "        대략 확 차이나는 것이 3744와 896으로 확 뛰어서 3000개 이상인 것들에 대해서만 평균 내면 약 7907임    \n",
    "        총 96293개 중 5670개이므로 5.89%정도 됨"
   ]
  },
  {
   "cell_type": "code",
   "execution_count": 73,
   "metadata": {},
   "outputs": [
    {
     "data": {
      "text/plain": [
       "5.888217334413359"
      ]
     },
     "execution_count": 73,
     "metadata": {},
     "output_type": "execute_result"
    }
   ],
   "source": [
    "(5670/X_train['근로기간'].count())*100"
   ]
  },
  {
   "cell_type": "code",
   "execution_count": 74,
   "metadata": {},
   "outputs": [
    {
     "name": "stdout",
     "output_type": "stream",
     "text": [
      "값의 빈도: 근로기간\n",
      "10+ years    31585\n",
      "2 years       8450\n",
      "< 1 year      7774\n",
      "3 years       7581\n",
      "1 year        6249\n",
      "Unknown       5671\n",
      "5 years       5665\n",
      "4 years       5588\n",
      "8 years       4888\n",
      "6 years       3874\n",
      "7 years       3814\n",
      "9 years       3744\n",
      "10+years       896\n",
      "<1 year        370\n",
      "3               89\n",
      "1 years         56\n",
      "Name: count, dtype: int64\n",
      "3000개를 초과하는 값들:\n",
      "근로기간\n",
      "10+ years    31585\n",
      "2 years       8450\n",
      "< 1 year      7774\n",
      "3 years       7581\n",
      "1 year        6249\n",
      "Unknown       5671\n",
      "5 years       5665\n",
      "4 years       5588\n",
      "8 years       4888\n",
      "6 years       3874\n",
      "7 years       3814\n",
      "9 years       3744\n",
      "Name: count, dtype: int64\n",
      "3000개 초과하는 값들의 평균: 7906.916666666667\n"
     ]
    }
   ],
   "source": [
    "# '근로기간' 열의 값 빈도 계산\n",
    "value_counts = X_train['근로기간'].value_counts()\n",
    "print(\"값의 빈도:\", value_counts)\n",
    "# 빈도가 3000개를 초과하는 값을 선택하여 출력\n",
    "selected_values = value_counts[value_counts > 3000]\n",
    "print(\"3000개를 초과하는 값들:\")\n",
    "print(selected_values)\n",
    "print(\"3000개 초과하는 값들의 평균:\", selected_values.mean())"
   ]
  },
  {
   "cell_type": "code",
   "execution_count": 75,
   "metadata": {},
   "outputs": [
    {
     "data": {
      "image/png": "[encoded data removed]",
      "text/plain": [
       "<Figure size 640x480 with 1 Axes>"
      ]
     },
     "metadata": {},
     "output_type": "display_data"
    },
    {
     "data": {
      "image/png": "[encoded data removed]",
      "text/plain": [
       "<Figure size 640x480 with 1 Axes>"
      ]
     },
     "metadata": {},
     "output_type": "display_data"
    }
   ],
   "source": [
    "# 근로기간 값 확인용 그래프 두가지\n",
    "sns.histplot(X_train, x='근로기간')\n",
    "plt.xticks(rotation=90)  # 그래프 x축 라벨 45도 회전\n",
    "plt.show()\n",
    "sns.histplot(X_train, x='근로기간')\n",
    "plt.xticks(rotation=90)  # 그래프 x축 라벨 45도 회전\n",
    "plt.yscale('log')  # y축을 로그 스케일로 변환\n",
    "plt.show()"
   ]
  },
  {
   "cell_type": "code",
   "execution_count": 76,
   "metadata": {},
   "outputs": [],
   "source": [
    "def get_non_missing(data:pd.DataFrame = X_train, option:int = 1):\n",
    "    if option == 1: # 제거방식\n",
    "        data=data[data['근로기간'] != 'Unknown']\n",
    "    elif option == 2:\n",
    "        print(\"아직 구현중\")\n",
    "    "
   ]
  },
  {
   "cell_type": "markdown",
   "metadata": {},
   "source": [
    "## 값 형식 불일치 통일시켜주기\n",
    "- 근로기간 값 형식이 일치 안된 것이 많아서\n",
    "    - 10+years를 10+ years 로 통일시켜주기\n",
    "    - < 1 year를 <1 year로 통일시켜주거나, 아니면 0 year로 통일시켜주기\n",
    "    - 1 years를 1 year로 통일시켜주기\n",
    "    - 3을 3 years로 통일시켜주기\n",
    "- 추가로 값 형식 적당히 정해주고 맞지 않는 값이 존재하는지 확인하는 함수(아직 구현 X, 계획 되어있음)"
   ]
  },
  {
   "cell_type": "code",
   "execution_count": 77,
   "metadata": {},
   "outputs": [
    {
     "data": {
      "text/html": [
       "<div>\n",
       "<style scoped>\n",
       "    .dataframe tbody tr th:only-of-type {\n",
       "        vertical-align: middle;\n",
       "    }\n",
       "\n",
       "    .dataframe tbody tr th {\n",
       "        vertical-align: top;\n",
       "    }\n",
       "\n",
       "    .dataframe thead th {\n",
       "        text-align: right;\n",
       "    }\n",
       "</style>\n",
       "<table border=\"1\" class=\"dataframe\">\n",
       "  <thead>\n",
       "    <tr style=\"text-align: right;\">\n",
       "      <th></th>\n",
       "      <th>대출금액</th>\n",
       "      <th>대출기간</th>\n",
       "      <th>근로기간</th>\n",
       "      <th>주택소유상태</th>\n",
       "      <th>연간소득</th>\n",
       "      <th>부채_대비_소득_비율</th>\n",
       "      <th>총계좌수</th>\n",
       "      <th>대출목적</th>\n",
       "      <th>최근_2년간_연체_횟수</th>\n",
       "      <th>총상환원금</th>\n",
       "      <th>총상환이자</th>\n",
       "      <th>총연체금액</th>\n",
       "      <th>연체계좌수</th>\n",
       "    </tr>\n",
       "  </thead>\n",
       "  <tbody>\n",
       "    <tr>\n",
       "      <th>0</th>\n",
       "      <td>16800000</td>\n",
       "      <td>36 months</td>\n",
       "      <td>8 years</td>\n",
       "      <td>MORTGAGE</td>\n",
       "      <td>132000000</td>\n",
       "      <td>19.64</td>\n",
       "      <td>12</td>\n",
       "      <td>주택 개선</td>\n",
       "      <td>0</td>\n",
       "      <td>394692</td>\n",
       "      <td>146604.0</td>\n",
       "      <td>0.0</td>\n",
       "      <td>0.0</td>\n",
       "    </tr>\n",
       "    <tr>\n",
       "      <th>1</th>\n",
       "      <td>8400000</td>\n",
       "      <td>36 months</td>\n",
       "      <td>5 years</td>\n",
       "      <td>RENT</td>\n",
       "      <td>89971200</td>\n",
       "      <td>15.84</td>\n",
       "      <td>25</td>\n",
       "      <td>부채 통합</td>\n",
       "      <td>0</td>\n",
       "      <td>0</td>\n",
       "      <td>0.0</td>\n",
       "      <td>0.0</td>\n",
       "      <td>0.0</td>\n",
       "    </tr>\n",
       "    <tr>\n",
       "      <th>2</th>\n",
       "      <td>17280000</td>\n",
       "      <td>36 months</td>\n",
       "      <td>6 years</td>\n",
       "      <td>RENT</td>\n",
       "      <td>150000000</td>\n",
       "      <td>8.41</td>\n",
       "      <td>20</td>\n",
       "      <td>신용 카드</td>\n",
       "      <td>0</td>\n",
       "      <td>1786980</td>\n",
       "      <td>281820.0</td>\n",
       "      <td>0.0</td>\n",
       "      <td>0.0</td>\n",
       "    </tr>\n",
       "    <tr>\n",
       "      <th>3</th>\n",
       "      <td>14400000</td>\n",
       "      <td>36 months</td>\n",
       "      <td>5 years</td>\n",
       "      <td>MORTGAGE</td>\n",
       "      <td>66000000</td>\n",
       "      <td>13.72</td>\n",
       "      <td>30</td>\n",
       "      <td>신용 카드</td>\n",
       "      <td>1</td>\n",
       "      <td>669024</td>\n",
       "      <td>281724.0</td>\n",
       "      <td>0.0</td>\n",
       "      <td>0.0</td>\n",
       "    </tr>\n",
       "    <tr>\n",
       "      <th>4</th>\n",
       "      <td>27600000</td>\n",
       "      <td>36 months</td>\n",
       "      <td>5 years</td>\n",
       "      <td>RENT</td>\n",
       "      <td>55200000</td>\n",
       "      <td>30.50</td>\n",
       "      <td>12</td>\n",
       "      <td>신용 카드</td>\n",
       "      <td>0</td>\n",
       "      <td>1250052</td>\n",
       "      <td>614844.0</td>\n",
       "      <td>0.0</td>\n",
       "      <td>0.0</td>\n",
       "    </tr>\n",
       "    <tr>\n",
       "      <th>...</th>\n",
       "      <td>...</td>\n",
       "      <td>...</td>\n",
       "      <td>...</td>\n",
       "      <td>...</td>\n",
       "      <td>...</td>\n",
       "      <td>...</td>\n",
       "      <td>...</td>\n",
       "      <td>...</td>\n",
       "      <td>...</td>\n",
       "      <td>...</td>\n",
       "      <td>...</td>\n",
       "      <td>...</td>\n",
       "      <td>...</td>\n",
       "    </tr>\n",
       "    <tr>\n",
       "      <th>64192</th>\n",
       "      <td>30000000</td>\n",
       "      <td>36 months</td>\n",
       "      <td>3 years</td>\n",
       "      <td>MORTGAGE</td>\n",
       "      <td>78000000</td>\n",
       "      <td>22.08</td>\n",
       "      <td>27</td>\n",
       "      <td>부채 통합</td>\n",
       "      <td>2</td>\n",
       "      <td>1307532</td>\n",
       "      <td>763380.0</td>\n",
       "      <td>0.0</td>\n",
       "      <td>0.0</td>\n",
       "    </tr>\n",
       "    <tr>\n",
       "      <th>64193</th>\n",
       "      <td>30000000</td>\n",
       "      <td>60 months</td>\n",
       "      <td>10+ years</td>\n",
       "      <td>MORTGAGE</td>\n",
       "      <td>109200000</td>\n",
       "      <td>12.06</td>\n",
       "      <td>26</td>\n",
       "      <td>부채 통합</td>\n",
       "      <td>0</td>\n",
       "      <td>960612</td>\n",
       "      <td>1245252.0</td>\n",
       "      <td>0.0</td>\n",
       "      <td>0.0</td>\n",
       "    </tr>\n",
       "    <tr>\n",
       "      <th>64194</th>\n",
       "      <td>6120000</td>\n",
       "      <td>36 months</td>\n",
       "      <td>10+ years</td>\n",
       "      <td>RENT</td>\n",
       "      <td>39600000</td>\n",
       "      <td>28.80</td>\n",
       "      <td>33</td>\n",
       "      <td>부채 통합</td>\n",
       "      <td>0</td>\n",
       "      <td>131520</td>\n",
       "      <td>80880.0</td>\n",
       "      <td>0.0</td>\n",
       "      <td>0.0</td>\n",
       "    </tr>\n",
       "    <tr>\n",
       "      <th>64195</th>\n",
       "      <td>11520000</td>\n",
       "      <td>36 months</td>\n",
       "      <td>10+ years</td>\n",
       "      <td>MORTGAGE</td>\n",
       "      <td>66000000</td>\n",
       "      <td>25.44</td>\n",
       "      <td>41</td>\n",
       "      <td>부채 통합</td>\n",
       "      <td>1</td>\n",
       "      <td>1339536</td>\n",
       "      <td>601872.0</td>\n",
       "      <td>0.0</td>\n",
       "      <td>0.0</td>\n",
       "    </tr>\n",
       "    <tr>\n",
       "      <th>64196</th>\n",
       "      <td>6000000</td>\n",
       "      <td>36 months</td>\n",
       "      <td>9 years</td>\n",
       "      <td>RENT</td>\n",
       "      <td>180000000</td>\n",
       "      <td>9.07</td>\n",
       "      <td>10</td>\n",
       "      <td>부채 통합</td>\n",
       "      <td>0</td>\n",
       "      <td>308880</td>\n",
       "      <td>48960.0</td>\n",
       "      <td>0.0</td>\n",
       "      <td>0.0</td>\n",
       "    </tr>\n",
       "  </tbody>\n",
       "</table>\n",
       "<p>64197 rows × 13 columns</p>\n",
       "</div>"
      ],
      "text/plain": [
       "           대출금액        대출기간       근로기간    주택소유상태       연간소득  부채_대비_소득_비율  \\\n",
       "0      16800000   36 months    8 years  MORTGAGE  132000000        19.64   \n",
       "1       8400000   36 months    5 years      RENT   89971200        15.84   \n",
       "2      17280000   36 months    6 years      RENT  150000000         8.41   \n",
       "3      14400000   36 months    5 years  MORTGAGE   66000000        13.72   \n",
       "4      27600000   36 months    5 years      RENT   55200000        30.50   \n",
       "...         ...         ...        ...       ...        ...          ...   \n",
       "64192  30000000   36 months    3 years  MORTGAGE   78000000        22.08   \n",
       "64193  30000000   60 months  10+ years  MORTGAGE  109200000        12.06   \n",
       "64194   6120000   36 months  10+ years      RENT   39600000        28.80   \n",
       "64195  11520000   36 months  10+ years  MORTGAGE   66000000        25.44   \n",
       "64196   6000000   36 months    9 years      RENT  180000000         9.07   \n",
       "\n",
       "       총계좌수   대출목적  최근_2년간_연체_횟수    총상환원금      총상환이자  총연체금액  연체계좌수  \n",
       "0        12  주택 개선             0   394692   146604.0    0.0    0.0  \n",
       "1        25  부채 통합             0        0        0.0    0.0    0.0  \n",
       "2        20  신용 카드             0  1786980   281820.0    0.0    0.0  \n",
       "3        30  신용 카드             1   669024   281724.0    0.0    0.0  \n",
       "4        12  신용 카드             0  1250052   614844.0    0.0    0.0  \n",
       "...     ...    ...           ...      ...        ...    ...    ...  \n",
       "64192    27  부채 통합             2  1307532   763380.0    0.0    0.0  \n",
       "64193    26  부채 통합             0   960612  1245252.0    0.0    0.0  \n",
       "64194    33  부채 통합             0   131520    80880.0    0.0    0.0  \n",
       "64195    41  부채 통합             1  1339536   601872.0    0.0    0.0  \n",
       "64196    10  부채 통합             0   308880    48960.0    0.0    0.0  \n",
       "\n",
       "[64197 rows x 13 columns]"
      ]
     },
     "execution_count": 77,
     "metadata": {},
     "output_type": "execute_result"
    }
   ],
   "source": [
    "def fu_근로기간(value) :\n",
    "    if value == '10+years':\n",
    "        return '10+ years'\n",
    "    elif value == '< 1 year':\n",
    "        return '<1 year'\n",
    "    elif value == '1 years':\n",
    "        return '1 year'\n",
    "    elif value == '3':\n",
    "        return '3 years'\n",
    "    else: # 조건에 해당하지 않는 옳은 값의 경우 그대로 값 리턴\n",
    "        return value\n",
    "\n",
    "#X_train['근로기간'] = X_train['근로기간'].apply(fu_근로기간)\n",
    "\n",
    "def Formal_unification(data:pd.DataFrame = X_train, col_list=['근로기간']):\n",
    "    for col in col_list:\n",
    "        func = globals().get(f\"fu_{col}\")  # 함수 이름 동적으로 가져오기\n",
    "        if func: # 만약 해당되는 함수가 없을 경우를 방지하기 위해 if추가\n",
    "            data.loc[:, col] = data[col].apply(func) # data[col] = data[col].apply(func) # 경고 떠서 해결하기 위해\n",
    "    return data\n",
    "\n",
    "# 범주 값 가져와서 그외 정해놓은 형식에 어긋나는 컬럼 있는지 체크하는 함수\n",
    "# 아직 안만듦 만들예정\n",
    "\n",
    "Formal_unification(X_train)\n",
    "Formal_unification(X_test) # test data에 대해서도 값형식 통일 안된 경우 확인 # 이건 또 따로 값 저장안해줘도 전역변수로 인식한듯"
   ]
  },
  {
   "cell_type": "code",
   "execution_count": 78,
   "metadata": {},
   "outputs": [
    {
     "data": {
      "image/png": "[encoded data removed]",
      "text/plain": [
       "<Figure size 640x480 with 1 Axes>"
      ]
     },
     "metadata": {},
     "output_type": "display_data"
    },
    {
     "data": {
      "image/png": "[encoded data removed]",
      "text/plain": [
       "<Figure size 640x480 with 1 Axes>"
      ]
     },
     "metadata": {},
     "output_type": "display_data"
    }
   ],
   "source": [
    "# 근로기간 값 확인용 그래프 두가지\n",
    "sns.histplot(X_train, x='근로기간')\n",
    "plt.xticks(rotation=90)  # 그래프 x축 라벨 45도 회전\n",
    "plt.show()\n",
    "sns.histplot(X_train, x='근로기간')\n",
    "plt.xticks(rotation=90)  # 그래프 x축 라벨 45도 회전\n",
    "plt.yscale('log')  # y축을 로그 스케일로 변환\n",
    "plt.show()"
   ]
  },
  {
   "cell_type": "code",
   "execution_count": 79,
   "metadata": {},
   "outputs": [
    {
     "name": "stdout",
     "output_type": "stream",
     "text": [
      "근로기간\n",
      "10+ years    32481\n",
      "2 years       8450\n",
      "<1 year       8144\n",
      "3 years       7670\n",
      "1 year        6305\n",
      "Unknown       5671\n",
      "5 years       5665\n",
      "4 years       5588\n",
      "8 years       4888\n",
      "6 years       3874\n",
      "7 years       3814\n",
      "9 years       3744\n",
      "Name: count, dtype: int64\n",
      "근로기간\n",
      "10+ years    32481\n",
      "4 years      11259\n",
      "2 years       8450\n",
      "<1 year       8144\n",
      "3 years       7670\n",
      "1 year        6305\n",
      "5 years       5665\n",
      "8 years       4888\n",
      "6 years       3874\n",
      "7 years       3814\n",
      "9 years       3744\n",
      "Name: count, dtype: int64\n"
     ]
    },
    {
     "name": "stderr",
     "output_type": "stream",
     "text": [
      "C:\\Users\\leech\\AppData\\Local\\Temp\\ipykernel_9060\\728539316.py:11: FutureWarning: A value is trying to be set on a copy of a DataFrame or Series through chained assignment using an inplace method.\n",
      "The behavior will change in pandas 3.0. This inplace method will never work because the intermediate object on which we are setting values always behaves as a copy.\n",
      "\n",
      "For example, when doing 'df[col].method(value, inplace=True)', try using 'df.method({col: value}, inplace=True)' or df[col] = df[col].method(value) instead, to perform the operation inplace on the original object.\n",
      "\n",
      "\n",
      "  df['근로기간'].replace('Unknown', replacement, inplace=True)\n"
     ]
    }
   ],
   "source": [
    "print(X_train['근로기간'].value_counts())\n",
    "\n",
    "def replace_unknown_value(df : pd.DataFrame, replacement):\n",
    "    \"\"\"\n",
    "    근로기간에서 Unknown값을 replacement 값으로 대체하는 함수\n",
    "    Args:\n",
    "        df: _description_\n",
    "        replacement: 어떤 값으로 대체할지\n",
    "    \"\"\"\n",
    "    # 'Unknown' 값을 replacement로 대체\n",
    "    df['근로기간'].replace('Unknown', replacement, inplace=True)\n",
    "\n",
    "    # 대체된 값들의 개수 출력\n",
    "    print(df['근로기간'].value_counts())\n",
    "\n",
    "replacement_value = '4 years'\n",
    "replace_unknown_value(X_train, replacement_value)\n",
    "\n"
   ]
  },
  {
   "cell_type": "markdown",
   "metadata": {},
   "source": [
    "## 데이터 형식 바꿔주기\n",
    "- 범주형 데이터 object에서 category로 형식 변경, 그리고 카테고리 순서정해줄 것은 순서 정해주기\n",
    "- 현재 경고가 좀 뜨는데 일단 가동자체는 문제가 없으니 후에 개선하겠음"
   ]
  },
  {
   "cell_type": "code",
   "execution_count": 80,
   "metadata": {},
   "outputs": [
    {
     "ename": "ValueError",
     "evalue": "items in new_categories are not the same as in old categories",
     "output_type": "error",
     "traceback": [
      "\u001b[1;31m---------------------------------------------------------------------------\u001b[0m",
      "\u001b[1;31mValueError\u001b[0m                                Traceback (most recent call last)",
      "Cell \u001b[1;32mIn[80], line 20\u001b[0m\n\u001b[0;32m     17\u001b[0m     \u001b[38;5;28;01mreturn\u001b[39;00m \u001b[38;5;28;01mNone\u001b[39;00m\n\u001b[0;32m     19\u001b[0m \u001b[38;5;66;03m# X_train\u001b[39;00m\n\u001b[1;32m---> 20\u001b[0m \u001b[43mtype_change_category\u001b[49m\u001b[43m(\u001b[49m\u001b[43mX_train\u001b[49m\u001b[43m,\u001b[49m\u001b[43m \u001b[49m\u001b[43mcategory_col\u001b[49m\u001b[43m)\u001b[49m \u001b[38;5;66;03m#얘들도 알아서 전역변수로 인식되어 잘 반영되었음\u001b[39;00m\n\u001b[0;32m     21\u001b[0m \u001b[38;5;66;03m# X_test\u001b[39;00m\n\u001b[0;32m     22\u001b[0m type_change_category(X_test, category_col)\n",
      "Cell \u001b[1;32mIn[80], line 13\u001b[0m, in \u001b[0;36mtype_change_category\u001b[1;34m(data, columns)\u001b[0m\n\u001b[0;32m     10\u001b[0m \u001b[38;5;28;01melif\u001b[39;00m col \u001b[38;5;241m==\u001b[39m \u001b[38;5;124m'\u001b[39m\u001b[38;5;124m근로기간\u001b[39m\u001b[38;5;124m'\u001b[39m:\n\u001b[0;32m     11\u001b[0m     working_period_list \u001b[38;5;241m=\u001b[39m [\u001b[38;5;124m'\u001b[39m\u001b[38;5;124mUnknown\u001b[39m\u001b[38;5;124m'\u001b[39m, \u001b[38;5;124m'\u001b[39m\u001b[38;5;124m<1 year\u001b[39m\u001b[38;5;124m'\u001b[39m, \u001b[38;5;124m'\u001b[39m\u001b[38;5;124m1 year\u001b[39m\u001b[38;5;124m'\u001b[39m, \u001b[38;5;124m'\u001b[39m\u001b[38;5;124m2 years\u001b[39m\u001b[38;5;124m'\u001b[39m, \u001b[38;5;124m'\u001b[39m\u001b[38;5;124m3 years\u001b[39m\u001b[38;5;124m'\u001b[39m, \u001b[38;5;124m'\u001b[39m\u001b[38;5;124m4 years\u001b[39m\u001b[38;5;124m'\u001b[39m, \n\u001b[0;32m     12\u001b[0m                      \u001b[38;5;124m'\u001b[39m\u001b[38;5;124m5 years\u001b[39m\u001b[38;5;124m'\u001b[39m, \u001b[38;5;124m'\u001b[39m\u001b[38;5;124m6 years\u001b[39m\u001b[38;5;124m'\u001b[39m, \u001b[38;5;124m'\u001b[39m\u001b[38;5;124m7 years\u001b[39m\u001b[38;5;124m'\u001b[39m, \u001b[38;5;124m'\u001b[39m\u001b[38;5;124m8 years\u001b[39m\u001b[38;5;124m'\u001b[39m, \u001b[38;5;124m'\u001b[39m\u001b[38;5;124m9 years\u001b[39m\u001b[38;5;124m'\u001b[39m, \u001b[38;5;124m'\u001b[39m\u001b[38;5;124m10+ years\u001b[39m\u001b[38;5;124m'\u001b[39m] \u001b[38;5;66;03m#미혼, 기혼, 이혼 순으로 순서 정해줬음\u001b[39;00m\n\u001b[1;32m---> 13\u001b[0m     data[col] \u001b[38;5;241m=\u001b[39m \u001b[43mdata\u001b[49m\u001b[43m[\u001b[49m\u001b[43mcol\u001b[49m\u001b[43m]\u001b[49m\u001b[38;5;241;43m.\u001b[39;49m\u001b[43mcat\u001b[49m\u001b[38;5;241;43m.\u001b[39;49m\u001b[43mreorder_categories\u001b[49m\u001b[43m(\u001b[49m\u001b[43mworking_period_list\u001b[49m\u001b[43m,\u001b[49m\u001b[43m \u001b[49m\u001b[43mordered\u001b[49m\u001b[38;5;241;43m=\u001b[39;49m\u001b[38;5;28;43;01mFalse\u001b[39;49;00m\u001b[43m)\u001b[49m\n\u001b[0;32m     14\u001b[0m \u001b[38;5;28;01melif\u001b[39;00m col \u001b[38;5;241m==\u001b[39m \u001b[38;5;124m'\u001b[39m\u001b[38;5;124m대출등급\u001b[39m\u001b[38;5;124m'\u001b[39m:\n\u001b[0;32m     15\u001b[0m     loan_rating_list \u001b[38;5;241m=\u001b[39m [\u001b[38;5;124m'\u001b[39m\u001b[38;5;124mG\u001b[39m\u001b[38;5;124m'\u001b[39m, \u001b[38;5;124m'\u001b[39m\u001b[38;5;124mF\u001b[39m\u001b[38;5;124m'\u001b[39m, \u001b[38;5;124m'\u001b[39m\u001b[38;5;124mE\u001b[39m\u001b[38;5;124m'\u001b[39m, \u001b[38;5;124m'\u001b[39m\u001b[38;5;124mD\u001b[39m\u001b[38;5;124m'\u001b[39m, \u001b[38;5;124m'\u001b[39m\u001b[38;5;124mC\u001b[39m\u001b[38;5;124m'\u001b[39m, \u001b[38;5;124m'\u001b[39m\u001b[38;5;124mB\u001b[39m\u001b[38;5;124m'\u001b[39m, \u001b[38;5;124m'\u001b[39m\u001b[38;5;124mA\u001b[39m\u001b[38;5;124m'\u001b[39m]\n",
      "File \u001b[1;32mc:\\Users\\leech\\AppData\\Local\\Programs\\Python\\Python312\\Lib\\site-packages\\pandas\\core\\accessor.py:112\u001b[0m, in \u001b[0;36mPandasDelegate._add_delegate_accessors.<locals>._create_delegator_method.<locals>.f\u001b[1;34m(self, *args, **kwargs)\u001b[0m\n\u001b[0;32m    111\u001b[0m \u001b[38;5;28;01mdef\u001b[39;00m \u001b[38;5;21mf\u001b[39m(\u001b[38;5;28mself\u001b[39m, \u001b[38;5;241m*\u001b[39margs, \u001b[38;5;241m*\u001b[39m\u001b[38;5;241m*\u001b[39mkwargs):\n\u001b[1;32m--> 112\u001b[0m     \u001b[38;5;28;01mreturn\u001b[39;00m \u001b[38;5;28;43mself\u001b[39;49m\u001b[38;5;241;43m.\u001b[39;49m\u001b[43m_delegate_method\u001b[49m\u001b[43m(\u001b[49m\u001b[43mname\u001b[49m\u001b[43m,\u001b[49m\u001b[43m \u001b[49m\u001b[38;5;241;43m*\u001b[39;49m\u001b[43margs\u001b[49m\u001b[43m,\u001b[49m\u001b[43m \u001b[49m\u001b[38;5;241;43m*\u001b[39;49m\u001b[38;5;241;43m*\u001b[39;49m\u001b[43mkwargs\u001b[49m\u001b[43m)\u001b[49m\n",
      "File \u001b[1;32mc:\\Users\\leech\\AppData\\Local\\Programs\\Python\\Python312\\Lib\\site-packages\\pandas\\core\\arrays\\categorical.py:2939\u001b[0m, in \u001b[0;36mCategoricalAccessor._delegate_method\u001b[1;34m(self, name, *args, **kwargs)\u001b[0m\n\u001b[0;32m   2936\u001b[0m \u001b[38;5;28;01mfrom\u001b[39;00m \u001b[38;5;21;01mpandas\u001b[39;00m \u001b[38;5;28;01mimport\u001b[39;00m Series\n\u001b[0;32m   2938\u001b[0m method \u001b[38;5;241m=\u001b[39m \u001b[38;5;28mgetattr\u001b[39m(\u001b[38;5;28mself\u001b[39m\u001b[38;5;241m.\u001b[39m_parent, name)\n\u001b[1;32m-> 2939\u001b[0m res \u001b[38;5;241m=\u001b[39m \u001b[43mmethod\u001b[49m\u001b[43m(\u001b[49m\u001b[38;5;241;43m*\u001b[39;49m\u001b[43margs\u001b[49m\u001b[43m,\u001b[49m\u001b[43m \u001b[49m\u001b[38;5;241;43m*\u001b[39;49m\u001b[38;5;241;43m*\u001b[39;49m\u001b[43mkwargs\u001b[49m\u001b[43m)\u001b[49m\n\u001b[0;32m   2940\u001b[0m \u001b[38;5;28;01mif\u001b[39;00m res \u001b[38;5;129;01mis\u001b[39;00m \u001b[38;5;129;01mnot\u001b[39;00m \u001b[38;5;28;01mNone\u001b[39;00m:\n\u001b[0;32m   2941\u001b[0m     \u001b[38;5;28;01mreturn\u001b[39;00m Series(res, index\u001b[38;5;241m=\u001b[39m\u001b[38;5;28mself\u001b[39m\u001b[38;5;241m.\u001b[39m_index, name\u001b[38;5;241m=\u001b[39m\u001b[38;5;28mself\u001b[39m\u001b[38;5;241m.\u001b[39m_name)\n",
      "File \u001b[1;32mc:\\Users\\leech\\AppData\\Local\\Programs\\Python\\Python312\\Lib\\site-packages\\pandas\\core\\arrays\\categorical.py:1278\u001b[0m, in \u001b[0;36mCategorical.reorder_categories\u001b[1;34m(self, new_categories, ordered)\u001b[0m\n\u001b[0;32m   1209\u001b[0m \u001b[38;5;250m\u001b[39m\u001b[38;5;124;03m\"\"\"\u001b[39;00m\n\u001b[0;32m   1210\u001b[0m \u001b[38;5;124;03mReorder categories as specified in new_categories.\u001b[39;00m\n\u001b[0;32m   1211\u001b[0m \n\u001b[1;32m   (...)\u001b[0m\n\u001b[0;32m   1272\u001b[0m \u001b[38;5;124;03m                 ordered=True, dtype='category')\u001b[39;00m\n\u001b[0;32m   1273\u001b[0m \u001b[38;5;124;03m\"\"\"\u001b[39;00m\n\u001b[0;32m   1274\u001b[0m \u001b[38;5;28;01mif\u001b[39;00m (\n\u001b[0;32m   1275\u001b[0m     \u001b[38;5;28mlen\u001b[39m(\u001b[38;5;28mself\u001b[39m\u001b[38;5;241m.\u001b[39mcategories) \u001b[38;5;241m!=\u001b[39m \u001b[38;5;28mlen\u001b[39m(new_categories)\n\u001b[0;32m   1276\u001b[0m     \u001b[38;5;129;01mor\u001b[39;00m \u001b[38;5;129;01mnot\u001b[39;00m \u001b[38;5;28mself\u001b[39m\u001b[38;5;241m.\u001b[39mcategories\u001b[38;5;241m.\u001b[39mdifference(new_categories)\u001b[38;5;241m.\u001b[39mempty\n\u001b[0;32m   1277\u001b[0m ):\n\u001b[1;32m-> 1278\u001b[0m     \u001b[38;5;28;01mraise\u001b[39;00m \u001b[38;5;167;01mValueError\u001b[39;00m(\n\u001b[0;32m   1279\u001b[0m         \u001b[38;5;124m\"\u001b[39m\u001b[38;5;124mitems in new_categories are not the same as in old categories\u001b[39m\u001b[38;5;124m\"\u001b[39m\n\u001b[0;32m   1280\u001b[0m     )\n\u001b[0;32m   1281\u001b[0m \u001b[38;5;28;01mreturn\u001b[39;00m \u001b[38;5;28mself\u001b[39m\u001b[38;5;241m.\u001b[39mset_categories(new_categories, ordered\u001b[38;5;241m=\u001b[39mordered)\n",
      "\u001b[1;31mValueError\u001b[0m: items in new_categories are not the same as in old categories"
     ]
    }
   ],
   "source": [
    "# 함수화\n",
    "def type_change_category(data:pd.DataFrame, columns:list):\n",
    "    for col in columns:\n",
    "        data[col] = data[col].astype('category')\n",
    "        # ordered=False로 해주어 순서를 정해주되, 변수 자체에 순서내용까지는 포함시키지 않았다 \n",
    "        # True로 하니까 무슨 <이런식으로 내용추가되는듯했음\n",
    "        if col == '대출기간': # month의 경우 월 순서대로 해주기\n",
    "            loan_period_list = [' 36 months', ' 60 months']\n",
    "            data[col] = data[col].cat.reorder_categories(loan_period_list, ordered=False)\n",
    "        elif col == '근로기간':\n",
    "            working_period_list = ['Unknown', '<1 year', '1 year', '2 years', '3 years', '4 years', \n",
    "                             '5 years', '6 years', '7 years', '8 years', '9 years', '10+ years'] #미혼, 기혼, 이혼 순으로 순서 정해줬음\n",
    "            data[col] = data[col].cat.reorder_categories(working_period_list, ordered=False)\n",
    "        elif col == '대출등급':\n",
    "            loan_rating_list = ['G', 'F', 'E', 'D', 'C', 'B', 'A']\n",
    "            data[col] = data[col].cat.reorder_categories(loan_rating_list, ordered=False)\n",
    "    return None\n",
    "\n",
    "# X_train\n",
    "type_change_category(X_train, category_col) #얘들도 알아서 전역변수로 인식되어 잘 반영되었음\n",
    "# X_test\n",
    "type_change_category(X_test, category_col)\n",
    "# y_train\n",
    "type_change_category(y_train, '대출등급')"
   ]
  },
  {
   "cell_type": "code",
   "execution_count": null,
   "metadata": {},
   "outputs": [
    {
     "name": "stdout",
     "output_type": "stream",
     "text": [
      "<class 'pandas.core.frame.DataFrame'>\n",
      "Index: 96293 entries, 0 to 96293\n",
      "Data columns (total 13 columns):\n",
      " #   Column        Non-Null Count  Dtype   \n",
      "---  ------        --------------  -----   \n",
      " 0   대출금액          96293 non-null  int64   \n",
      " 1   대출기간          96293 non-null  category\n",
      " 2   근로기간          96293 non-null  category\n",
      " 3   주택소유상태        96293 non-null  category\n",
      " 4   연간소득          96293 non-null  int64   \n",
      " 5   부채_대비_소득_비율   96293 non-null  float64 \n",
      " 6   총계좌수          96293 non-null  int64   \n",
      " 7   대출목적          96293 non-null  category\n",
      " 8   최근_2년간_연체_횟수  96293 non-null  int64   \n",
      " 9   총상환원금         96293 non-null  int64   \n",
      " 10  총상환이자         96293 non-null  float64 \n",
      " 11  총연체금액         96293 non-null  float64 \n",
      " 12  연체계좌수         96293 non-null  float64 \n",
      "dtypes: category(4), float64(4), int64(5)\n",
      "memory usage: 7.7 MB\n"
     ]
    }
   ],
   "source": [
    "X_train.info()"
   ]
  },
  {
   "cell_type": "markdown",
   "metadata": {},
   "source": [
    "## 데이터 비율 맞춰주기 위해 Oversampleing\n",
    "- 단, SMOTE 알고리즘은 수치형 데이터에만 쓸 수 있으니\n",
    "- SMOTE를 범주형 데이터에도 쓸 수 있게 확장한 SMOTENC를 사용"
   ]
  },
  {
   "cell_type": "code",
   "execution_count": null,
   "metadata": {},
   "outputs": [],
   "source": [
    "# smnc = SMOTENC(categorical_features=category_col, random_state=42)\n",
    "# X_train, y_train = smnc.fit_resample(X_train, y_train)\n",
    "# # X_test, y_test = smnc.fit_resample(X_test, y_test) # 테스트 데이터는 건드리면 안될 것이라 판단되서 제외함"
   ]
  },
  {
   "cell_type": "markdown",
   "metadata": {},
   "source": [
    "### oversampling한 뒤 결과 데이터 확인하기"
   ]
  },
  {
   "cell_type": "code",
   "execution_count": null,
   "metadata": {},
   "outputs": [],
   "source": [
    "# X_train.info()\n",
    "# print(X_train.isna().sum())\n",
    "# display(X_train.describe())\n",
    "# display(X_train.describe(include=['category']))\n",
    "# X_train.describe(include = 'all')"
   ]
  },
  {
   "cell_type": "markdown",
   "metadata": {},
   "source": [
    "## 컬럼 분리 (0인 것과 아닌 것 구분해서 범주컬럼으로 추가해주기)\n",
    "- 최근_2년간_연체_횟수, 총연체금액, 연체계좌수 -> 셋다 같은 결과를 가져올듯함\n",
    "- 연간소득, 부채_대비_소득_비율, 총상환원금, 총상환이자 는 최소가 0이 있긴한데 굳이 안해줘도 될듯\n",
    "주의! 이건 아직 함수화 안 시켜둿음 할지 말지는 더 고민해봐야할듯    \n",
    "마찬가지로 경고가 조금 많이 뜨는데 후에 개선해주겠음"
   ]
  },
  {
   "cell_type": "code",
   "execution_count": null,
   "metadata": {},
   "outputs": [
    {
     "data": {
      "text/html": [
       "<div>\n",
       "<style scoped>\n",
       "    .dataframe tbody tr th:only-of-type {\n",
       "        vertical-align: middle;\n",
       "    }\n",
       "\n",
       "    .dataframe tbody tr th {\n",
       "        vertical-align: top;\n",
       "    }\n",
       "\n",
       "    .dataframe thead th {\n",
       "        text-align: right;\n",
       "    }\n",
       "</style>\n",
       "<table border=\"1\" class=\"dataframe\">\n",
       "  <thead>\n",
       "    <tr style=\"text-align: right;\">\n",
       "      <th></th>\n",
       "      <th>대출금액</th>\n",
       "      <th>연간소득</th>\n",
       "      <th>부채_대비_소득_비율</th>\n",
       "      <th>총계좌수</th>\n",
       "      <th>최근_2년간_연체_횟수</th>\n",
       "      <th>총상환원금</th>\n",
       "      <th>총상환이자</th>\n",
       "      <th>총연체금액</th>\n",
       "      <th>연체계좌수</th>\n",
       "    </tr>\n",
       "  </thead>\n",
       "  <tbody>\n",
       "    <tr>\n",
       "      <th>count</th>\n",
       "      <td>9.629300e+04</td>\n",
       "      <td>9.629300e+04</td>\n",
       "      <td>96293.000000</td>\n",
       "      <td>96293.000000</td>\n",
       "      <td>96293.000000</td>\n",
       "      <td>9.629300e+04</td>\n",
       "      <td>9.629300e+04</td>\n",
       "      <td>96293.000000</td>\n",
       "      <td>96293.000000</td>\n",
       "    </tr>\n",
       "    <tr>\n",
       "      <th>mean</th>\n",
       "      <td>1.830414e+07</td>\n",
       "      <td>9.392770e+07</td>\n",
       "      <td>19.275952</td>\n",
       "      <td>25.304882</td>\n",
       "      <td>0.345664</td>\n",
       "      <td>8.225099e+05</td>\n",
       "      <td>4.282318e+05</td>\n",
       "      <td>54.381149</td>\n",
       "      <td>0.005805</td>\n",
       "    </tr>\n",
       "    <tr>\n",
       "      <th>std</th>\n",
       "      <td>1.032903e+07</td>\n",
       "      <td>9.956877e+07</td>\n",
       "      <td>9.624810</td>\n",
       "      <td>12.088616</td>\n",
       "      <td>0.919108</td>\n",
       "      <td>1.027749e+06</td>\n",
       "      <td>4.402120e+05</td>\n",
       "      <td>1414.776554</td>\n",
       "      <td>0.079967</td>\n",
       "    </tr>\n",
       "    <tr>\n",
       "      <th>min</th>\n",
       "      <td>1.200000e+06</td>\n",
       "      <td>1.440000e+06</td>\n",
       "      <td>0.000000</td>\n",
       "      <td>4.000000</td>\n",
       "      <td>0.000000</td>\n",
       "      <td>0.000000e+00</td>\n",
       "      <td>0.000000e+00</td>\n",
       "      <td>0.000000</td>\n",
       "      <td>0.000000</td>\n",
       "    </tr>\n",
       "    <tr>\n",
       "      <th>25%</th>\n",
       "      <td>1.020000e+07</td>\n",
       "      <td>5.760000e+07</td>\n",
       "      <td>12.650000</td>\n",
       "      <td>17.000000</td>\n",
       "      <td>0.000000</td>\n",
       "      <td>3.075720e+05</td>\n",
       "      <td>1.346160e+05</td>\n",
       "      <td>0.000000</td>\n",
       "      <td>0.000000</td>\n",
       "    </tr>\n",
       "    <tr>\n",
       "      <th>50%</th>\n",
       "      <td>1.680000e+07</td>\n",
       "      <td>7.800000e+07</td>\n",
       "      <td>18.740000</td>\n",
       "      <td>24.000000</td>\n",
       "      <td>0.000000</td>\n",
       "      <td>5.976960e+05</td>\n",
       "      <td>2.870160e+05</td>\n",
       "      <td>0.000000</td>\n",
       "      <td>0.000000</td>\n",
       "    </tr>\n",
       "    <tr>\n",
       "      <th>75%</th>\n",
       "      <td>2.400000e+07</td>\n",
       "      <td>1.128000e+08</td>\n",
       "      <td>25.540000</td>\n",
       "      <td>32.000000</td>\n",
       "      <td>0.000000</td>\n",
       "      <td>1.055076e+06</td>\n",
       "      <td>5.702280e+05</td>\n",
       "      <td>0.000000</td>\n",
       "      <td>0.000000</td>\n",
       "    </tr>\n",
       "    <tr>\n",
       "      <th>max</th>\n",
       "      <td>4.200000e+07</td>\n",
       "      <td>1.080000e+10</td>\n",
       "      <td>1092.520000</td>\n",
       "      <td>169.000000</td>\n",
       "      <td>30.000000</td>\n",
       "      <td>4.195594e+07</td>\n",
       "      <td>5.653416e+06</td>\n",
       "      <td>75768.000000</td>\n",
       "      <td>4.000000</td>\n",
       "    </tr>\n",
       "  </tbody>\n",
       "</table>\n",
       "</div>"
      ],
      "text/plain": [
       "               대출금액          연간소득   부채_대비_소득_비율          총계좌수  최근_2년간_연체_횟수  \\\n",
       "count  9.629300e+04  9.629300e+04  96293.000000  96293.000000  96293.000000   \n",
       "mean   1.830414e+07  9.392770e+07     19.275952     25.304882      0.345664   \n",
       "std    1.032903e+07  9.956877e+07      9.624810     12.088616      0.919108   \n",
       "min    1.200000e+06  1.440000e+06      0.000000      4.000000      0.000000   \n",
       "25%    1.020000e+07  5.760000e+07     12.650000     17.000000      0.000000   \n",
       "50%    1.680000e+07  7.800000e+07     18.740000     24.000000      0.000000   \n",
       "75%    2.400000e+07  1.128000e+08     25.540000     32.000000      0.000000   \n",
       "max    4.200000e+07  1.080000e+10   1092.520000    169.000000     30.000000   \n",
       "\n",
       "              총상환원금         총상환이자         총연체금액         연체계좌수  \n",
       "count  9.629300e+04  9.629300e+04  96293.000000  96293.000000  \n",
       "mean   8.225099e+05  4.282318e+05     54.381149      0.005805  \n",
       "std    1.027749e+06  4.402120e+05   1414.776554      0.079967  \n",
       "min    0.000000e+00  0.000000e+00      0.000000      0.000000  \n",
       "25%    3.075720e+05  1.346160e+05      0.000000      0.000000  \n",
       "50%    5.976960e+05  2.870160e+05      0.000000      0.000000  \n",
       "75%    1.055076e+06  5.702280e+05      0.000000      0.000000  \n",
       "max    4.195594e+07  5.653416e+06  75768.000000      4.000000  "
      ]
     },
     "execution_count": 36,
     "metadata": {},
     "output_type": "execute_result"
    }
   ],
   "source": [
    "X_train.describe()"
   ]
  },
  {
   "cell_type": "code",
   "execution_count": null,
   "metadata": {},
   "outputs": [
    {
     "name": "stderr",
     "output_type": "stream",
     "text": [
      "C:\\Users\\kssg1\\AppData\\Local\\Temp\\ipykernel_29676\\1643853912.py:2: SettingWithCopyWarning: \n",
      "A value is trying to be set on a copy of a slice from a DataFrame.\n",
      "Try using .loc[row_indexer,col_indexer] = value instead\n",
      "\n",
      "See the caveats in the documentation: https://pandas.pydata.org/pandas-docs/stable/user_guide/indexing.html#returning-a-view-versus-a-copy\n",
      "  X_train['최근_2년간_연체_여부'] = X_train['최근_2년간_연체_횟수'].apply(lambda x: 'no' if x==0 else 'yes')\n",
      "C:\\Users\\kssg1\\AppData\\Local\\Temp\\ipykernel_29676\\1643853912.py:3: SettingWithCopyWarning: \n",
      "A value is trying to be set on a copy of a slice from a DataFrame.\n",
      "Try using .loc[row_indexer,col_indexer] = value instead\n",
      "\n",
      "See the caveats in the documentation: https://pandas.pydata.org/pandas-docs/stable/user_guide/indexing.html#returning-a-view-versus-a-copy\n",
      "  X_train['최근_2년간_연체_여부'] = X_train['최근_2년간_연체_여부'].astype('category')\n",
      "C:\\Users\\kssg1\\AppData\\Local\\Temp\\ipykernel_29676\\1643853912.py:5: SettingWithCopyWarning: \n",
      "A value is trying to be set on a copy of a slice from a DataFrame.\n",
      "Try using .loc[row_indexer,col_indexer] = value instead\n",
      "\n",
      "See the caveats in the documentation: https://pandas.pydata.org/pandas-docs/stable/user_guide/indexing.html#returning-a-view-versus-a-copy\n",
      "  X_train['연체_여부(총금액)'] = X_train['총연체금액'].apply(lambda x: 'no' if x==0 else 'yes')\n",
      "C:\\Users\\kssg1\\AppData\\Local\\Temp\\ipykernel_29676\\1643853912.py:6: SettingWithCopyWarning: \n",
      "A value is trying to be set on a copy of a slice from a DataFrame.\n",
      "Try using .loc[row_indexer,col_indexer] = value instead\n",
      "\n",
      "See the caveats in the documentation: https://pandas.pydata.org/pandas-docs/stable/user_guide/indexing.html#returning-a-view-versus-a-copy\n",
      "  X_train['연체_여부(총금액)'] = X_train['연체_여부(총금액)'].astype('category')\n",
      "C:\\Users\\kssg1\\AppData\\Local\\Temp\\ipykernel_29676\\1643853912.py:8: SettingWithCopyWarning: \n",
      "A value is trying to be set on a copy of a slice from a DataFrame.\n",
      "Try using .loc[row_indexer,col_indexer] = value instead\n",
      "\n",
      "See the caveats in the documentation: https://pandas.pydata.org/pandas-docs/stable/user_guide/indexing.html#returning-a-view-versus-a-copy\n",
      "  X_train['연체_여부(계좌수)'] = X_train['연체계좌수'].apply(lambda x: 'no' if x==0 else 'yes')\n",
      "C:\\Users\\kssg1\\AppData\\Local\\Temp\\ipykernel_29676\\1643853912.py:9: SettingWithCopyWarning: \n",
      "A value is trying to be set on a copy of a slice from a DataFrame.\n",
      "Try using .loc[row_indexer,col_indexer] = value instead\n",
      "\n",
      "See the caveats in the documentation: https://pandas.pydata.org/pandas-docs/stable/user_guide/indexing.html#returning-a-view-versus-a-copy\n",
      "  X_train['연체_여부(계좌수)'] = X_train['연체_여부(계좌수)'].astype('category')\n"
     ]
    }
   ],
   "source": [
    "# '최근_2년간_연체_횟수' 0인 것과 아닌 것 분류해서 추가\n",
    "X_train['최근_2년간_연체_여부'] = X_train['최근_2년간_연체_횟수'].apply(lambda x: 'no' if x==0 else 'yes')\n",
    "X_train['최근_2년간_연체_여부'] = X_train['최근_2년간_연체_여부'].astype('category')\n",
    "\n",
    "X_train['연체_여부(총금액)'] = X_train['총연체금액'].apply(lambda x: 'no' if x==0 else 'yes')\n",
    "X_train['연체_여부(총금액)'] = X_train['연체_여부(총금액)'].astype('category')\n",
    "\n",
    "X_train['연체_여부(계좌수)'] = X_train['연체계좌수'].apply(lambda x: 'no' if x==0 else 'yes')\n",
    "X_train['연체_여부(계좌수)'] = X_train['연체_여부(계좌수)'].astype('category')"
   ]
  },
  {
   "cell_type": "code",
   "execution_count": null,
   "metadata": {},
   "outputs": [
    {
     "name": "stdout",
     "output_type": "stream",
     "text": [
      "<class 'pandas.core.frame.DataFrame'>\n",
      "Index: 96293 entries, 0 to 96293\n",
      "Data columns (total 16 columns):\n",
      " #   Column        Non-Null Count  Dtype   \n",
      "---  ------        --------------  -----   \n",
      " 0   대출금액          96293 non-null  int64   \n",
      " 1   대출기간          96293 non-null  category\n",
      " 2   근로기간          96293 non-null  category\n",
      " 3   주택소유상태        96293 non-null  category\n",
      " 4   연간소득          96293 non-null  int64   \n",
      " 5   부채_대비_소득_비율   96293 non-null  float64 \n",
      " 6   총계좌수          96293 non-null  int64   \n",
      " 7   대출목적          96293 non-null  category\n",
      " 8   최근_2년간_연체_횟수  96293 non-null  int64   \n",
      " 9   총상환원금         96293 non-null  int64   \n",
      " 10  총상환이자         96293 non-null  float64 \n",
      " 11  총연체금액         96293 non-null  float64 \n",
      " 12  연체계좌수         96293 non-null  float64 \n",
      " 13  최근_2년간_연체_여부  96293 non-null  category\n",
      " 14  연체_여부(총금액)    96293 non-null  category\n",
      " 15  연체_여부(계좌수)    96293 non-null  category\n",
      "dtypes: category(7), float64(4), int64(5)\n",
      "memory usage: 8.0 MB\n"
     ]
    }
   ],
   "source": [
    "X_train.info()"
   ]
  },
  {
   "cell_type": "markdown",
   "metadata": {},
   "source": [
    "아마 추가해준 연체여부컬럼 3가지는 모두 같은 결과 여서 한번만 해줘도 될듯한데 확인필요"
   ]
  },
  {
   "cell_type": "markdown",
   "metadata": {},
   "source": [
    "## 스케일링\n",
    "- 수동 로그스케일링:\n",
    "\t- 총연체금액: 로그스케일링해주기 ->해보니 결과 너무 이상한듯하여 추가 확인결과 할 필요 없을듯\n",
    "- 학습 모델을 이용한 스케일링:\n",
    "\t- sd scaler(이상치가 많은 경우):\n",
    "\t- mm scaler(이상치가 거의 없는 경우):"
   ]
  },
  {
   "cell_type": "markdown",
   "metadata": {},
   "source": [
    "### 수동 로그 스케일링"
   ]
  },
  {
   "cell_type": "markdown",
   "metadata": {},
   "source": [
    "총연체금액에 대하여 해주었는데 결과가 너무 이상한듯하여 추가 확인 결과 할 필요 없을듯"
   ]
  },
  {
   "cell_type": "code",
   "execution_count": null,
   "metadata": {},
   "outputs": [
    {
     "data": {
      "text/plain": [
       "<Axes: xlabel='총연체금액', ylabel='Count'>"
      ]
     },
     "execution_count": 50,
     "metadata": {},
     "output_type": "execute_result"
    },
    {
     "data": {
      "image/png": "[encoded data removed]",
      "text/plain": [
       "<Figure size 640x480 with 1 Axes>"
      ]
     },
     "metadata": {},
     "output_type": "display_data"
    }
   ],
   "source": [
    "sns.histplot(data=X_train[X_train['총연체금액']!=0], x='총연체금액')"
   ]
  },
  {
   "cell_type": "markdown",
   "metadata": {},
   "source": [
    "### 학습 모델을 이용한 스케일링\n",
    "- 수치형 데이터: '대출금액', '연간소득', '부채_대비_소득_비율', '총계좌수', '최근_2년간_연체_횟수', '총상환원금', '총상환이자', '총연체금액', '연체계좌수'\n",
    "- 표준화(sd_sc): '연간소득'?, '부채_대비_소득_비율'? ->조금 애매함 튜터님과 상의\n",
    "- 정규화(mm_sc): '대출금액', '총계좌수', '최근_2년간_연체_횟수', '총상환원금', '총상환이자', '총연체금액', '연체계좌수'"
   ]
  },
  {
   "cell_type": "code",
   "execution_count": null,
   "metadata": {},
   "outputs": [
    {
     "data": {
      "image/png": "[encoded data removed]",
      "text/plain": [
       "<Figure size 640x480 with 1 Axes>"
      ]
     },
     "metadata": {},
     "output_type": "display_data"
    },
    {
     "data": {
      "image/png": "[encoded data removed]",
      "text/plain": [
       "<Figure size 640x480 with 1 Axes>"
      ]
     },
     "metadata": {},
     "output_type": "display_data"
    }
   ],
   "source": [
    "for plot_col in ['연간소득', '부채_대비_소득_비율']:\n",
    "    sns.histplot(X_train, x=plot_col, bins=200)\n",
    "    plt.yscale('log')  # y축을 로그 스케일로 변환\n",
    "    plt.show()"
   ]
  },
  {
   "cell_type": "code",
   "execution_count": null,
   "metadata": {},
   "outputs": [],
   "source": [
    "def get_numeric_sc(X_train:pd.DataFrame, X_test:pd.DataFrame):\n",
    "    \"\"\"데이터를 전달받아 수치형 변수 스케일링하는 함수\n",
    "\n",
    "    Args:\n",
    "        X_train (pd.DataFrame): train 데이터프레임\n",
    "        X_test (pd.DataFrame):  test 데이터프레임\n",
    "\n",
    "    Returns:\n",
    "        pd.DataFrame, pd.DataFrame: train, test 데이터프레임\n",
    "    \"\"\"\n",
    "    # 수치형변수\n",
    "    # '대출금액', '연간소득', '부채_대비_소득_비율', '총계좌수', '최근_2년간_연체_횟수', '총상환원금', '총상환이자', '총연체금액', '연체계좌수'\n",
    "    #StandardScaler 적용할 변수 리스트\n",
    "    sc_col = ['연간소득', '부채_대비_소득_비율']\n",
    "    #MinMaxScaler 적용할 변수 리스트\n",
    "    mm_col = ['대출금액', '총계좌수', '최근_2년간_연체_횟수', '총상환원금', '총상환이자', '총연체금액', '연체계좌수']\n",
    "    \n",
    "    #모델 가져오기\n",
    "    sd_sc = StandardScaler()\n",
    "    mm_sc = MinMaxScaler()\n",
    "\n",
    "    #train, test 데이터변환(Standard Scaler이용)\n",
    "    sd_sc.fit(X_train[sc_col])\n",
    "    X_train[sc_col] = sd_sc.transform(X_train[sc_col])  #컬럼추가안해주고 바로 바꾸는지?\n",
    "    X_test[sc_col] = sd_sc.transform(X_test[sc_col])\n",
    "    \n",
    "    #train, test 데이터변환(MinMax Scaler이용)\n",
    "    mm_sc.fit(X_train[mm_col])\n",
    "    X_train[mm_col] = mm_sc.transform(X_train[mm_col])\n",
    "    X_test[mm_col] = mm_sc.transform(X_test[mm_col])\n",
    "    \n",
    "    return X_train, X_test"
   ]
  },
  {
   "cell_type": "markdown",
   "metadata": {},
   "source": [
    "## 인코딩\n",
    "- y 변수 인코딩: \n",
    "- 순서가 중요한 순서형 데이터: (map이나 다른 패키지의 모듈 사용)\n",
    "- 레이블 인코딩: 대출기간, 근로기간 (순서나 관계가 있는 경우에는 이 두 가지 외의 다른 인코딩을 해주어야할 수도 있는듯 함)\n",
    "- 원-핫 인코딩 : 주택소유상태, 대출목적\n",
    "\t- get_dummy:\n",
    "\t- 원-핫 인코딩:"
   ]
  },
  {
   "cell_type": "markdown",
   "metadata": {},
   "source": [
    "### y 변수 인코딩"
   ]
  },
  {
   "cell_type": "code",
   "execution_count": null,
   "metadata": {},
   "outputs": [
    {
     "data": {
      "text/plain": [
       "대출등급\n",
       "B       28817\n",
       "C       27623\n",
       "A       16772\n",
       "D       13354\n",
       "E        7354\n",
       "F        1954\n",
       "G         420\n",
       "Name: count, dtype: int64"
      ]
     },
     "execution_count": 58,
     "metadata": {},
     "output_type": "execute_result"
    }
   ],
   "source": [
    "# 일단 y값 어떤 것이 있는지 다시 확인\n",
    "y_train.value_counts()"
   ]
  },
  {
   "cell_type": "code",
   "execution_count": null,
   "metadata": {},
   "outputs": [
    {
     "name": "stdout",
     "output_type": "stream",
     "text": [
      "<class 'pandas.core.frame.DataFrame'>\n",
      "RangeIndex: 96294 entries, 0 to 96293\n",
      "Data columns (total 1 columns):\n",
      " #   Column  Non-Null Count  Dtype \n",
      "---  ------  --------------  ----- \n",
      " 0   대출등급    96294 non-null  object\n",
      "dtypes: object(1)\n",
      "memory usage: 752.4+ KB\n"
     ]
    }
   ],
   "source": [
    "y_train.info()"
   ]
  },
  {
   "cell_type": "code",
   "execution_count": null,
   "metadata": {},
   "outputs": [],
   "source": [
    "#y 변수 인코딩 함수"
   ]
  },
  {
   "cell_type": "code",
   "execution_count": null,
   "metadata": {},
   "outputs": [
    {
     "data": {
      "text/plain": [
       "['대출기간', '근로기간', '주택소유상태', '대출목적']"
      ]
     },
     "execution_count": 44,
     "metadata": {},
     "output_type": "execute_result"
    }
   ],
   "source": [
    "['대출기간', '근로기간', '주택소유상태', '대출목적']"
   ]
  },
  {
   "cell_type": "code",
   "execution_count": null,
   "metadata": {},
   "outputs": [],
   "source": [
    "#def get_multiple_categories(x):\n",
    "\n",
    "# y값 매칭해줄 정보 딕셔너리    \n",
    "y_dict = {'G': 1, 'F': 2, 'E': 3, 'D': 4, 'C': 5, 'B': 6, 'A': 7}\n",
    "    \n",
    "# 확인용 미리 저장\n",
    "#y_train_original = y_train.copy()\n",
    "#y_test_original = y_test.copy()\n",
    "\n",
    "# y_train 데이터 인코딩 코드\n",
    "y_train['대출등급_en'] = y_train['대출등급'].map(y_dict)\n",
    "# y_test 데이터 인코딩코드\n",
    "#y_test['y'] = y_test['y'].apply(get_binary)\n",
    "\n",
    "#잘 적용되었는지 확인 #df 표기법 헷깔려서 찾아봐야함\n",
    "# display(y_train[][10:21])\n",
    "# display(y_train[10:21])"
   ]
  },
  {
   "cell_type": "markdown",
   "metadata": {},
   "source": [
    "### 범주형 데이터 전처리 (인코딩)\n",
    "- 범주형 데이터: '대출기간', '근로기간', '주택소유상태', '대출목적'\n",
    "- label encoding(le): ('marital', 'education'(할려면 범주 찾아서 다시 정렬해주긴 해야함), 'month') 정도 고려중인데 굳이 해줘야할까 생각중\n",
    "- onehot encoding(oe) & get_dummies(gd): 둘중 하나로 통일해서 전부 해볼 듯하다      \n",
    "우선적으로 그냥 get_dummies로 하고 시간 여유가 된다면 후에 더 건드려볼듯 함"
   ]
  },
  {
   "cell_type": "code",
   "execution_count": null,
   "metadata": {},
   "outputs": [],
   "source": [
    "# def get_category(X_train:pd.DataFrame, X_test:pd.DataFrame):\n",
    "#     \"\"\" 데이터를 전달받아 범주형 변수 더미화하는 함수\n",
    "\n",
    "#     Args:\n",
    "#         X_train (pd.DataFrame): train 데이터프레임\n",
    "#         X_test (pd.DataFrame):  test 데이터프레임\n",
    "\n",
    "#     Returns:\n",
    "#         pd.DataFrame, pd.DataFrmae, list: train, test 데이터프레임, 더미화된 컬럼\n",
    "#     \"\"\"\n",
    "    \n",
    "# # 이부분 입력인자랑 전역변수랑 이름 중복되서 살짝 신경쓰임 나중에 시간 날때 수정해보던가 하기\n",
    "#     #범주형변수\n",
    "#     # 'job','marital','education','default','housing','loan','contact','month','poutcome'\n",
    "    \n",
    "#     # le = LabelEncoder()\n",
    "#     # le2 = LabelEncoder()\n",
    "#     # le3 = LabelEncoder()\n",
    "    \n",
    "#     # le.fit(X_train[['marital']])\n",
    "#     # X_train['marital'] = le.transform(X_train[['marital']])\n",
    "#     # X_test['marital'] = le.transform(X_test[['marital']])\n",
    "    \n",
    "#     # le2.fit(X_train[['education']])\n",
    "#     # X_train['education'] = le2.transform(X_train[['education']])\n",
    "#     # X_test['education'] = le2.transform(X_test[['education']])\n",
    "    \n",
    "#     # le3.fit(X_train[['month']])\n",
    "#     # X_train['month'] = le3.transform(X_train[['month']])\n",
    "#     # X_test['month'] = le3.transform(X_test[['month']])\n",
    "    \n",
    "#     # dumies_col = ['job','default','housing','loan','contact','poutcome'] #더미할 컬럼\n",
    "    \n",
    "#     # #범주형 컬럼 더미화 하기\n",
    "#     # X_train_dummies = pd.get_dummies(X_train[dumies_col])\n",
    "#     # X_test_dummies = pd.get_dummies(X_test[dumies_col])\n",
    "    \n",
    "#     #범주형 컬럼 더미화 하기\n",
    "#     X_train_dummies = pd.get_dummies(X_train[category_col])\n",
    "#     X_test_dummies = pd.get_dummies(X_test[category_col])\n",
    "    \n",
    "#     # 더미화한 변수를 기존 데이터셋에 합치기\n",
    "#     X_train = pd.concat([X_train, X_train_dummies], axis = 1)\n",
    "#     X_test = pd.concat([X_test, X_test_dummies], axis = 1)\n",
    "    \n",
    "#     return X_train, X_test, X_train_dummies.columns.to_list()"
   ]
  },
  {
   "cell_type": "markdown",
   "metadata": {},
   "source": [
    "# 모델 수립 및 평가\n",
    "- 모델은 후보로 염두 중인 것은 로지스터 회귀, 의사결정나무, 랜덤포레스트, knn(최근접이웃), Gradient Boosting, XGBoost, LightGBM     \n",
    "    ['lor', 'dt', 'rf', 'knn', 'gbm', 'xgb', 'lgb']\n",
    "- 우선 일반적으로 이진분류에서 사용하는 평가지표인 <u>정확도</u>, 정밀도, 재현율, <u>F1 점수</u> 사용을 할 것이지만 \n",
    "    보통 다중 분류에서는 각 클래스에 대한 지표를 계산한 후 평균 내는 방법 등이 추가로 필요하다고 하여 추가 조사 필요\n",
    "- 전체적으로 다중 분류의 경우 아래와 같이 본 설명이 있어 추가로 이진분류와 어떻게 추가로 다르게 해줘야하는지는 찾아보아야 함\n",
    "    * 레이블 처리: 이진 분류에서는 대상 변수가 두 가지 범주로 나뉘지만, 다중 분류에서는 대상 변수가 세 개 이상의 범주로 나뉩니다. 따라서 다중 분류 문제에서는 레이블을 적절히 처리해야 합니다.    \n",
    "    * 성능 측정: 이진 분류에서는 정확도, 정밀도, 재현율, F1 점수 등을 사용하여 모델의 성능을 측정합니다. 다중 분류에서도 이러한 지표를 사용할 수 있지만, 각 클래스에 대한 지표를 계산한 후 이를 평균내는 방법 등이 추가로 필요합니다.     \n",
    "    * 확률 추정: 일부 알고리즘(예: 로지스틱 회귀)은 이진 분류에서는 시그모이드 함수를, 다중 분류에서는 소프트맥스 함수를 사용하여 클래스 확률을 추정합니다.\n",
    "    * 손실 함수: 일부 알고리즘(예: SVM, 신경망)은 이진 분류와 다중 분류에서 다른 손실 함수를 사용합니다."
   ]
  },
  {
   "cell_type": "markdown",
   "metadata": {},
   "source": [
    "rt의 경우 변수별 중요도를 추출할 수 있어서 그것을 통해 그래프 그리는 기능 추가시켜뒀음"
   ]
  },
  {
   "cell_type": "markdown",
   "metadata": {},
   "source": [
    "### 변수 중요도 그래프 그리기(함수형태)"
   ]
  },
  {
   "cell_type": "code",
   "execution_count": null,
   "metadata": {},
   "outputs": [],
   "source": [
    "# 변수 중요도 그래프 그리기\n",
    "def draw_feature_importances(feature_importances_df, width_ratios=[3, 1], fontsize=10):\n",
    "    import matplotlib.gridspec as gridspec\n",
    "    # Create a figure object\n",
    "    f = plt.figure(figsize=(15,20))\n",
    "    \n",
    "    # Create a gridspec object\n",
    "    gs = gridspec.GridSpec(1, 2, width_ratios=width_ratios)  # Here, ax1 is three times wider than ax2\n",
    "\n",
    "    # Create axes using the gridspec object\n",
    "    ax1 = f.add_subplot(gs[0])\n",
    "    ax2 = f.add_subplot(gs[1])\n",
    "\n",
    "    # 레이아웃 조정\n",
    "    f.subplots_adjust(wspace=0.05)\n",
    "\n",
    "    # xaxis grid 만들기\n",
    "    ax1.xaxis.grid()\n",
    "    ax2.xaxis.grid()\n",
    "\n",
    "    # 각각의 subplot ax1과 ax2에 barplot 그리기\n",
    "    ax1 = sns.barplot(data=feature_importances_df, y='name', x='importances', palette='viridis', orient='h', dodge=False, ax=ax1)\n",
    "    ax2 = sns.barplot(data=feature_importances_df, y='name', x='importances', palette='viridis', orient='h', dodge=False, ax=ax2)\n",
    "    \n",
    "    # 각 서브플롯에 대해 막대그래프 끝에 값을 표시\n",
    "    for p in ax1.patches:\n",
    "        ax1.annotate(format(p.get_width(), '.4f'), \n",
    "                    (p.get_x() + p.get_width(), p.get_y()), \n",
    "                    xytext=(0, -9), \n",
    "                    textcoords='offset points',\n",
    "                    ha='left', \n",
    "                    va='center', \n",
    "                    fontsize=fontsize)\n",
    "\n",
    "    for p in ax2.patches:\n",
    "        ax2.annotate(format(p.get_width(), '.4f'), \n",
    "                    (p.get_x() + p.get_width(), p.get_y()), \n",
    "                    xytext=(0, -9), \n",
    "                    textcoords='offset points',\n",
    "                    ha='left', \n",
    "                    va='center', \n",
    "                    fontsize=fontsize)\n",
    "    \n",
    "    # 축 폰트 크기 설정\n",
    "    ax1.tick_params(axis='both', labelsize=fontsize*1.2)  # 폰트 크게 조절 #실수float 가능\n",
    "    ax2.tick_params(axis='both', labelsize=fontsize*1.2)  # 폰트 크게 조절\n",
    "\n",
    "    # 각 subplot의 축범위 설정 (자동화 가능)\n",
    "    ax1.set_xlim(0, max(feature_importances_df['importances'])/2)\n",
    "    ax2.set_xlim(max(feature_importances_df['importances'])/2, max(feature_importances_df['importances']))\n",
    "\n",
    "    # 각 subplot 눈금 표시하기\n",
    "    ax1.set_xticks([i/100 for i in range(0, int(max(feature_importances_df['importances'])*100/2), 2)])  # 눈금 간격을 일정하게 조절\n",
    "    ax2.set_xticks([i/100 for i in range(int(max(feature_importances_df['importances'])*100/2), int(max(feature_importances_df['importances'])*100), 2)])\n",
    "\n",
    "    # x축 이름 없애줬음 통합해서 붙여줘야함\n",
    "    ax1.set_xlabel(\"\")\n",
    "    ax2.set_xlabel(\"\")  # x축 라벨 가운데 정렬\n",
    "\n",
    "    # x축 label 가운데 위치\n",
    "    f.text(0.5, 0.08, 'Importances', ha='center', va='center', fontsize=20)\n",
    "    \n",
    "    # y축 라벨 설정\n",
    "    ax1.set_ylabel(\"Feature Names\", fontsize=fontsize*1.4)\n",
    "    ax2.set_ylabel(\"\")\n",
    "\n",
    "    # 서로 만나는 부분 y축 선 안보이게 제거\n",
    "    ax1.spines['right'].set_visible(False)\n",
    "    ax2.spines['left'].set_visible(False)\n",
    "\n",
    "    # 오른 쪽 것의 y축 제거\n",
    "    ax2.get_yaxis().set_visible(False)\n",
    "\n",
    "    # 대각선 생략표시\n",
    "    d = .9    \n",
    "    kwargs = dict(marker=[(-1, -d), (1, d)], markersize=12, linestyle=\"none\", color='k', clip_on=False)\n",
    "    ax1.plot([1, 1], [0, 1], transform=ax1.transAxes, **kwargs)\n",
    "    ax2.plot([0, 0], [0, 1], transform=ax2.transAxes, **kwargs)\n",
    "\n",
    "    # y축 값 표시\n",
    "    ax1.set_yticklabels(feature_importances_df['name'], fontsize=12)  # 폰트 크게 조절\n",
    "    ax2.set_yticklabels(feature_importances_df['name'], fontsize=12)  # 폰트 크게 조절\n",
    "    # y축 눈금 간격 조정\n",
    "    plt.yticks(fontsize=fontsize*1.2, rotation=30)\n",
    "    \n",
    "    # 그래프 제목\n",
    "    plt.suptitle('Feature Importances', fontsize=fontsize*3, y=0.92)  # 제목 폰트 크게 조절\n",
    "    \n",
    "    # 그래프 표시\n",
    "    plt.show()\n",
    "\n",
    "# 이제 함수를 호출하여 그래프를 그릴 수 있습니다.\n"
   ]
  },
  {
   "cell_type": "markdown",
   "metadata": {},
   "source": [
    "## 모델 적용 및 평가 함수"
   ]
  },
  {
   "cell_type": "code",
   "execution_count": null,
   "metadata": {},
   "outputs": [],
   "source": [
    "def get_score(train:pd.DataFrame,  test:pd.DataFrame, x_var_list:list, model_type:str = 'rf'):\n",
    "    \"\"\" train과 test 데이터와 X변수 컬럼을 받아 평가지표를 내는 함수입니다.\n",
    "\n",
    "    Args:\n",
    "        train (pd.DataFrame): train 데이터프레임\n",
    "        test (pd.DataFrame): test 데이터프레임\n",
    "        x_var_list (list): 모델링에 사용할 변수 리스트\n",
    "        model_type(str) : 무슨 모델 쓸지 결정 (default : 'rf')\n",
    "    \"\"\"\n",
    "    #외부 전달인자를 내부변수에 할당\n",
    "    X_train = train \n",
    "    X_test = test\n",
    "\n",
    "    #일부 컬럼만 가져오기\n",
    "    X_train = X_train[x_var_list]\n",
    "    X_test = X_test[x_var_list]\n",
    "    \n",
    "    #모델가져오기 & 학습하기    &   # 학습하여 결과 저장\n",
    "    if model_type in ['lor', 'dt', 'rf', 'knn', 'gbm', 'xgb', 'lgb']:\n",
    "        if model_type == 'lor':\n",
    "            from sklearn.linear_model import LogisticRegression\n",
    "            model_lor = LogisticRegression()\n",
    "            model_lor.fit(X_train, y_train)\n",
    "            y_pred_train = model_lor.predict(X_train)\n",
    "            y_pred_test = model_lor.predict(X_test)\n",
    "            \n",
    "        elif model_type == 'dt':\n",
    "            from sklearn.tree import DecisionTreeClassifier\n",
    "            model_dt = DecisionTreeClassifier(random_state=42)\n",
    "            model_dt.fit(X_train, y_train)\n",
    "            y_pred_train = model_dt.predict(X_train)\n",
    "            y_pred_test = model_dt.predict(X_test)\n",
    "            \n",
    "        elif model_type == 'rf':\n",
    "            from sklearn.ensemble import RandomForestClassifier\n",
    "            model_rf = RandomForestClassifier(random_state=42)\n",
    "            model_rf.fit(X_train, y_train)\n",
    "            y_pred_train = model_rf.predict(X_train)\n",
    "            y_pred_test = model_rf.predict(X_test)\n",
    "            \n",
    "            # 변수별 중요도 표시\n",
    "            feature_names = model_rf.feature_names_in_\n",
    "            feature_importances = model_rf.feature_importances_\n",
    "            feature_importances_df = pd.DataFrame({\"name\": feature_names, \"importances\": feature_importances})\n",
    "            #display(feature_importances_df)\n",
    "            \n",
    "            # 함수 기능 개선하다가 뭐 잘못조절했는지 자르고나서 큰값 나머지 부분이 그려져야하는데 안그려지는 오류있어서 주석처리해둠\n",
    "            # 개선 예정\n",
    "            # import matplotlib.gridspec as gridspec\n",
    "\n",
    "            # # Create a figure object\n",
    "            # f = plt.figure(figsize=(15,20))\n",
    "            \n",
    "            # # Create a gridspec object\n",
    "            # gs = gridspec.GridSpec(1, 2, width_ratios=[3, 1])  # Here, ax1 is three times wider than ax2\n",
    "\n",
    "            # # Create axes using the gridspec object\n",
    "            # ax1 = f.add_subplot(gs[0])\n",
    "            # ax2 = f.add_subplot(gs[1])\n",
    "\n",
    "            # # 레이아웃 조정\n",
    "            # f.subplots_adjust(wspace=0.05)\n",
    "\n",
    "            # # xaxis grid 만들기\n",
    "            # ax1.xaxis.grid()\n",
    "            # ax2.xaxis.grid()\n",
    "\n",
    "            # # 각각의 subplot ax1과 ax2에 barplot 그리기\n",
    "            # ax1 = sns.barplot(data=feature_importances_df, y='name', x='importances', palette='viridis', orient='h', dodge=False, ax=ax1)\n",
    "            # ax2 = sns.barplot(data=feature_importances_df, y='name', x='importances', palette='viridis', orient='h', dodge=False, ax=ax2)\n",
    "            \n",
    "            # # 각 서브플롯에 대해 막대그래프 끝에 값을 표시\n",
    "            # for p in ax1.patches:\n",
    "            #     ax1.annotate(format(p.get_width(), '.4f'), \n",
    "            #                 (p.get_x() + p.get_width(), p.get_y()), \n",
    "            #                 xytext=(0, -9), \n",
    "            #                 textcoords='offset points',\n",
    "            #                 ha='left', \n",
    "            #                 va='center', \n",
    "            #                 fontsize=10)\n",
    "\n",
    "            # for p in ax2.patches:\n",
    "            #     ax2.annotate(format(p.get_width(), '.4f'), \n",
    "            #                 (p.get_x() + p.get_width(), p.get_y()), \n",
    "            #                 xytext=(0, -9), \n",
    "            #                 textcoords='offset points',\n",
    "            #                 ha='left', \n",
    "            #                 va='center', \n",
    "            #                 fontsize=10)\n",
    "            \n",
    "            # # 축 폰트 크기 설정\n",
    "            # ax1.tick_params(axis='both', labelsize=12)  # 폰트 크게 조절\n",
    "            # ax2.tick_params(axis='both', labelsize=12)  # 폰트 크게 조절\n",
    "\n",
    "            # # 각 subplot의 축범위 설정 (자동화 가능)\n",
    "            # ax1.set_xlim(0, 0.09)\n",
    "            # ax2.set_xlim(0.32, 0.34)\n",
    "\n",
    "            # # 각 subplot 눈금 표시하기\n",
    "            # ax1.set_xticks([0, 0.02, 0.04, 0.06, 0.08])  # 눈금 간격을 일정하게 조절\n",
    "            # ax2.set_xticks([0.32, 0.34])\n",
    "\n",
    "            # # x축 이름 없애줬음 통합해서 붙여줘야함\n",
    "            # ax1.set_xlabel(\"\")\n",
    "            # ax2.set_xlabel(\"\")  # x축 라벨 가운데 정렬\n",
    "\n",
    "            # # x축 label 가운데 위치\n",
    "            # f.text(0.5, 0.08, 'Importances', ha='center', va='center', fontsize=20)\n",
    "            \n",
    "            # # y축 라벨 설정\n",
    "            # ax1.set_ylabel(\"Feature Names\", fontsize=14)\n",
    "            # ax2.set_ylabel(\"\")\n",
    "\n",
    "            # # 서로 만나는 부분 y축 선 안보이게 제거\n",
    "            # ax1.spines['right'].set_visible(False)\n",
    "            # ax2.spines['left'].set_visible(False)\n",
    "\n",
    "            # # 오른 쪽 것의 y축 제거\n",
    "            # ax2.get_yaxis().set_visible(False)\n",
    "\n",
    "            # # 대각선 생략표시\n",
    "            # d = .99    \n",
    "            # kwargs = dict(marker=[(-1, -d), (1, d)], markersize=12, linestyle=\"none\", color='k', clip_on=False)\n",
    "            # ax1.plot([1, 1], [0, 1], transform=ax1.transAxes, **kwargs)\n",
    "            # ax2.plot([0, 0], [0, 1], transform=ax2.transAxes, **kwargs)\n",
    "\n",
    "            # # y축 값 표시\n",
    "            # ax1.set_yticklabels(feature_importances_df['name'], fontsize=12)  # 폰트 크게 조절\n",
    "            # ax2.set_yticklabels(feature_importances_df['name'], fontsize=12)  # 폰트 크게 조절\n",
    "            # # y축 눈금 간격 조정\n",
    "            # plt.yticks(fontsize=12, rotation=30)\n",
    "            \n",
    "            # # 그래프 제목\n",
    "            # plt.suptitle('Feature Importances', fontsize=30, y=0.92)  # 제목 폰트 크게 조절\n",
    "            \n",
    "            # # 그래프 표시\n",
    "            # plt.show()\n",
    "            #draw_feature_importances(feature_importances_df)\n",
    "            \n",
    "        elif model_type == 'knn':\n",
    "            from sklearn.neighbors import KNeighborsClassifier\n",
    "            model_knn = KNeighborsClassifier()\n",
    "            model_knn.fit(X_train, y_train)\n",
    "            y_pred_train = model_knn.predict(X_train)\n",
    "            y_pred_test = model_knn.predict(X_test)\n",
    "            \n",
    "        elif model_type == 'gbm':\n",
    "            from sklearn.ensemble import GradientBoostingClassifier\n",
    "            model_gbm = GradientBoostingClassifier(random_state= 42)\n",
    "            model_gbm.fit(X_train, y_train)\n",
    "            y_pred_train = model_gbm.predict(X_train)\n",
    "            y_pred_test = model_gbm.predict(X_test)\n",
    "            \n",
    "        elif model_type == 'xgb':\n",
    "            from xgboost import XGBClassifier\n",
    "            model_xgb = XGBClassifier(random_state= 42)\n",
    "            model_xgb.fit(X_train, y_train)\n",
    "            y_pred_train = model_xgb.predict(X_train)\n",
    "            y_pred_test = model_xgb.predict(X_test)\n",
    "            \n",
    "        elif model_type == 'lgb':\n",
    "            from lightgbm import LGBMClassifier\n",
    "            model_lgb = LGBMClassifier(random_state= 42)\n",
    "            model_lgb.fit(X_train, y_train)\n",
    "            y_pred_train = model_lgb.predict(X_train)\n",
    "            y_pred_test = model_lgb.predict(X_test)\n",
    "    \n",
    "    #평가표 생성\n",
    "    result = pd.DataFrame({'acc' : [accuracy_score(y_train, y_pred_train), accuracy_score(y_test, y_pred_test)],\n",
    "                            'f1_score' : [f1_score(y_train, y_pred_train), f1_score(y_test, y_pred_test)]},\n",
    "                            index = ['train','test'])\n",
    "    \n",
    "    print(model_type,\"사용시\")\n",
    "    display(result.round(5))"
   ]
  },
  {
   "cell_type": "markdown",
   "metadata": {},
   "source": [
    "## 전체 모델링 및 평가\n",
    "- 하기전에 전처리등 test 데이터에도 동일하게 해줬는지 생각(결측치 등은 몇몇부분은 안해줘야할 것 같기도한데 그부분은 좀더 고민)"
   ]
  },
  {
   "cell_type": "markdown",
   "metadata": {},
   "source": [
    "#### 위에서 만들어 둔 스케일링과 인코딩 적용"
   ]
  },
  {
   "cell_type": "code",
   "execution_count": null,
   "metadata": {},
   "outputs": [],
   "source": [
    "# X_train, X_test = get_numeric_sc(X_train, X_test)\n",
    "# X_train, X_test, col_dummies = get_category(X_train,X_test)"
   ]
  },
  {
   "cell_type": "markdown",
   "metadata": {},
   "source": [
    "#### 모델별 학습 및 평가"
   ]
  },
  {
   "cell_type": "code",
   "execution_count": null,
   "metadata": {},
   "outputs": [],
   "source": [
    "# for model in ['lor', 'dt', 'rf', 'knn', 'gbm', 'xgb', 'lgb']:\n",
    "#     get_score(X_train, X_test, col_dummies + numeric_col, model_type=model)\n",
    "# get_score(X_train, X_test, col_dummies + numeric_col, model_type='rf')"
   ]
  },
  {
   "cell_type": "markdown",
   "metadata": {},
   "source": [
    "# 추가로 고려해야할 부분"
   ]
  },
  {
   "cell_type": "markdown",
   "metadata": {},
   "source": [
    "이상치로 판단되어 제외해줬던 부채_대비_소득 비율 9999.0이였던 사람이 "
   ]
  },
  {
   "cell_type": "markdown",
   "metadata": {},
   "source": [
    "<div>\n",
    "<style scoped>\n",
    "    .dataframe tbody tr th:only-of-type {\n",
    "        vertical-align: middle;\n",
    "    }\n",
    "\n",
    "    .dataframe tbody tr th {\n",
    "        vertical-align: top;\n",
    "    }\n",
    "\n",
    "    .dataframe thead th {\n",
    "        text-align: right;\n",
    "    }\n",
    "</style>\n",
    "<table border=\"1\" class=\"dataframe\">\n",
    "  <thead>\n",
    "    <tr style=\"text-align: right;\">\n",
    "      <th></th>\n",
    "      <th>대출금액</th>\n",
    "      <th>대출기간</th>\n",
    "      <th>근로기간</th>\n",
    "      <th>주택소유상태</th>\n",
    "      <th>연간소득</th>\n",
    "      <th>부채_대비_소득_비율</th>\n",
    "      <th>총계좌수</th>\n",
    "      <th>대출목적</th>\n",
    "      <th>최근_2년간_연체_횟수</th>\n",
    "      <th>총상환원금</th>\n",
    "      <th>총상환이자</th>\n",
    "      <th>총연체금액</th>\n",
    "      <th>연체계좌수</th>\n",
    "      <th>대출등급</th>\n",
    "    </tr>\n",
    "  </thead>\n",
    "  <tbody>\n",
    "    <tr>\n",
    "      <th>12498</th>\n",
    "      <td>4440000</td>\n",
    "      <td>36 months</td>\n",
    "      <td>Unknown</td>\n",
    "      <td>MORTGAGE</td>\n",
    "      <td>0</td>\n",
    "      <td>9999.0</td>\n",
    "      <td>20</td>\n",
    "      <td>신용 카드</td>\n",
    "      <td>2</td>\n",
    "      <td>205356</td>\n",
    "      <td>85884.0</td>\n",
    "      <td>0.0</td>\n",
    "      <td>0.0</td>\n",
    "      <td>C</td>\n",
    "    </tr>\n",
    "  </tbody>\n",
    "</table>\n",
    "</div>"
   ]
  },
  {
   "cell_type": "markdown",
   "metadata": {},
   "source": [
    "라는 이상한 형태였다는 것? -> 연간 소득이 0이라서 그리 큰값이 나온듯했음    \n",
    "연간소득 0 인 사람 저 사람 혼자뿐 그리고 그외 최소 연간소득이 1440000이였음"
   ]
  },
  {
   "cell_type": "code",
   "execution_count": null,
   "metadata": {},
   "outputs": [],
   "source": []
  }
 ],
 "metadata": {
  "kernelspec": {
   "display_name": "Python 3",
   "language": "python",
   "name": "python3"
  },
  "language_info": {
   "codemirror_mode": {
    "name": "ipython",
    "version": 3
   },
   "file_extension": ".py",
   "mimetype": "text/x-python",
   "name": "python",
   "nbconvert_exporter": "python",
   "pygments_lexer": "ipython3",
   "version": "3.12.1"
  }
 },
 "nbformat": 4,
 "nbformat_minor": 2
}
