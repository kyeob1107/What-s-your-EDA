{
  "nbformat": 4,
  "nbformat_minor": 0,
  "metadata": {
    "colab": {
      "provenance": []
    },
    "kernelspec": {
      "name": "python3",
      "display_name": "Python 3"
    },
    "language_info": {
      "name": "python"
    }
  },
  "cells": [
    {
      "cell_type": "code",
      "execution_count": null,
      "metadata": {
        "id": "v-Gkfi1eJO2t"
      },
      "outputs": [],
      "source": [
        "# 그래프 그리기 (1) - 그래프 작성 전처리\n",
        "cols = train.columns\n",
        "numcols = train._get_numeric_data().columns\n",
        "target = '대출등급'\n",
        "catcols = list(set(cols)-set(numcols))\n",
        "catcols.remove(target)\n",
        "display(numcols, catcols)"
      ]
    },
    {
      "cell_type": "code",
      "source": [
        "# 그래프 그리기 (2) - 원본 그래프 그리기\n",
        "plt.figure(figsize=(10,12))\n",
        "for idx, feature in enumerate(catcols):\n",
        "    plt.subplot(2,2,idx+1)\n",
        "    pivot = train.pivot_table(\n",
        "    index=feature, columns = target, aggfunc=\"size\")\n",
        "    pivot['sum'] = pivot.sum(axis=1)\n",
        "    for column in pivot.columns:\n",
        "        pivot[column] = pivot[column] / pivot['sum']\n",
        "    pivot = pivot.drop('sum',axis=1).T\n",
        "    sns.heatmap(pivot, cmap=sns.light_palette('Green',as_cmap=True), annot=False)\n",
        "plt.tight_layout()\n",
        "plt.show()"
      ],
      "metadata": {
        "id": "2vMYcrawJSuq"
      },
      "execution_count": null,
      "outputs": []
    },
    {
      "cell_type": "code",
      "source": [
        "# 그래프 그리기 (3) - 바꿔서 그리기\n",
        "plt.figure(figsize=(10,12))\n",
        "for idx, feature in enumerate(catcols):\n",
        "    plt.subplot(2,2,idx+1)\n",
        "    pivot = train.pivot_table(\n",
        "    index=target, columns = feature, aggfunc=\"size\")\n",
        "    pivot['sum'] = pivot.sum(axis=1)\n",
        "    for column in pivot.columns:\n",
        "        pivot[column] = pivot[column] / pivot['sum']\n",
        "    pivot = pivot.drop('sum',axis=1).T\n",
        "    sns.heatmap(pivot, cmap=sns.light_palette('Green',as_cmap=True), annot=False)\n",
        "plt.tight_layout()\n",
        "plt.show()"
      ],
      "metadata": {
        "id": "Ci24FUHnJUVj"
      },
      "execution_count": null,
      "outputs": []
    },
    {
      "cell_type": "code",
      "source": [
        "# 파생 변수 컬럼 추가\n",
        "train['대출금액_대비_총상환원금_비율'] = train['총상환원금'] / train['대출금액']\n",
        "train['대출금액_대비_총상환이자_비율'] = train['총상환이자'] / train['대출금액']\n",
        "train.head()"
      ],
      "metadata": {
        "id": "Lv5z6TJdJWDy"
      },
      "execution_count": null,
      "outputs": []
    }
  ]
}